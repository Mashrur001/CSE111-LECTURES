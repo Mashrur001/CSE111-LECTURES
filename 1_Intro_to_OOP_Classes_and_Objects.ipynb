{
  "nbformat": 4,
  "nbformat_minor": 0,
  "metadata": {
    "colab": {
      "provenance": [],
      "include_colab_link": true
    },
    "kernelspec": {
      "name": "python3",
      "display_name": "Python 3"
    },
    "language_info": {
      "name": "python"
    }
  },
  "cells": [
    {
      "cell_type": "markdown",
      "metadata": {
        "id": "view-in-github",
        "colab_type": "text"
      },
      "source": [
        "<a href=\"https://colab.research.google.com/github/Mashrur001/CSE111-LECTURES/blob/main/1_Intro_to_OOP_Classes_and_Objects.ipynb\" target=\"_parent\"><img src=\"https://colab.research.google.com/assets/colab-badge.svg\" alt=\"Open In Colab\"/></a>"
      ]
    },
    {
      "cell_type": "markdown",
      "source": [
        "# Classes and Objects\n",
        "Topics to be covered:\n",
        "\n",
        "**1.   OOP Intro**\n",
        "\n",
        "(a) Classes (b) Objects (c) Inheritance (d) Polymorphism (e) Encapsulation (f) Abstraction\n",
        "<br><br>\n",
        "\n",
        "**2.   Classes**\n",
        "*   Concept\n",
        "*   Declaration\n",
        "*   Attributes\n",
        "*   Methods: Getters and Setters\n",
        "*   Constructors\n",
        "*   Class Variables\n",
        "<br><br>\n",
        "\n",
        "\n",
        "**3.   Objects**\n",
        "*   Declaring Objects\n",
        "*   Interacting With Constructor\n",
        "*   Comparison Between Multiple Objects of the Same Class\n",
        "\n",
        "\n",
        "\n",
        "\n",
        "\n"
      ],
      "metadata": {
        "id": "-zO35uOgiyq9"
      }
    },
    {
      "cell_type": "code",
      "source": [
        "class Iphone:\n",
        "  def __init__(self, n=0, m=\"nai\", c=\"des na kere?\"):\n",
        "    self.model= m\n",
        "    self.clr= c\n",
        "    self.name=n\n",
        "  def printSpecification(self):\n",
        "    print(self.name, \"Model:\", self.model)\n",
        "    print(\"Color:\", self.clr)\n",
        "\n",
        "ip13= Iphone(13, \"Pro\",\"Pink\")\n",
        "ip14= Iphone(14, \"ProMax\")\n",
        "ip16= Iphone()\n",
        "ip15= Iphone(15, c=\"MatteBlack\")\n",
        "ip13.printSpecification()\n",
        "ip14.printSpecification()\n",
        "ip16.printSpecification()\n",
        "ip15.printSpecification()"
      ],
      "metadata": {
        "colab": {
          "base_uri": "https://localhost:8080/"
        },
        "id": "iYTYD6gtEvjE",
        "outputId": "946b2b1e-05f3-42df-a65a-fe801453ec1c"
      },
      "execution_count": null,
      "outputs": [
        {
          "output_type": "stream",
          "name": "stdout",
          "text": [
            "13 Model: Pro\n",
            "Color: Pink\n",
            "14 Model: ProMax\n",
            "Color: des na kere?\n",
            "0 Model: nai\n",
            "Color: des na kere?\n",
            "15 Model: nai\n",
            "Color: MatteBlack\n"
          ]
        }
      ]
    },
    {
      "cell_type": "code",
      "source": [
        "class Student:\n",
        "  def __init__(self, closet_color=\"White\", *bed_size):\n",
        "    self.closet= closet_color\n",
        "    self.bed= bed_size\n",
        "\n",
        "  def cost_calc(self):\n",
        "    calc=0\n",
        "    if(self.closet==\"White\"):\n",
        "      calc+= 1000\n",
        "    else:\n",
        "      calc+= 5000\n",
        "\n",
        "    if(self.bed==None):\n",
        "      calc+= 2000\n",
        "    else:\n",
        "      calc+= 6000 * len(self.bed)\n",
        "    return calc\n",
        "\n",
        "\n",
        "s1= Student(\"Yellow\", \"King\")\n",
        "s1.closet= \"Yellow\"\n",
        "s1.bed= \"King\"\n",
        "s2= Student(\"Black\")\n",
        "s2.closet= \"Black\"\n",
        "s2.bed= \"Queen\"\n",
        "s3= Student()\n",
        "print(s1.closet)\n",
        "print(s2.closet)\n",
        "print(s3.closet)\n",
        "print(s1.bed)\n",
        "print(s2.bed)\n",
        "print(s3.bed)\n",
        "x= s1.cost_calc()\n",
        "print(x)\n",
        "y= s2.cost_calc()\n",
        "print(y)\n",
        "z= s3.cost_calc()\n",
        "print(z)\n",
        "s4= Student(\"Blue\", \"King\", \"Queen\",\"Child\")\n",
        "print(s4.bed)\n",
        "print(s4.cost_calc())"
      ],
      "metadata": {
        "colab": {
          "base_uri": "https://localhost:8080/"
        },
        "id": "9oZX_nbBjFAV",
        "outputId": "8c739163-3c8b-4786-df9a-89ded4dc7903"
      },
      "execution_count": null,
      "outputs": [
        {
          "output_type": "stream",
          "name": "stdout",
          "text": [
            "Yellow\n",
            "Black\n",
            "White\n",
            "('King',)\n",
            "()\n",
            "()\n",
            "11000\n",
            "5000\n",
            "1000\n",
            "('King', 'Queen', 'Child')\n",
            "23000\n"
          ]
        }
      ]
    },
    {
      "cell_type": "markdown",
      "source": [
        "#TASK 1"
      ],
      "metadata": {
        "id": "HTSN4Bmrju1f"
      }
    },
    {
      "cell_type": "code",
      "source": [
        "class Amira ():\n",
        "  def tempChange (self,newTemp):\n",
        "    self.existingTemp=newTemp\n",
        "    print(\"New Temperature:\", self.existingTemp)\n",
        "\n",
        "\n",
        "#Driver Code\n",
        "amira= Amira()\n",
        "amira.tempChange(30)\n",
        "amira.existingTemp=40\n",
        "print(\"New Temperature:\",amira.existingTemp)\n",
        "\n",
        "jawad= Amira()\n",
        "jawad.tempChange(21)\n",
        "jawad.existingTemp=12\n",
        "print(\"New Temperature:\",jawad.existingTemp)\n",
        "print(amira)\n",
        "print(amira.existingTemp)\n",
        "print(jawad)"
      ],
      "metadata": {
        "colab": {
          "base_uri": "https://localhost:8080/"
        },
        "id": "EFtO1VNOtVW2",
        "outputId": "69663682-d5bc-4079-e2c5-9501f06248f0"
      },
      "execution_count": null,
      "outputs": [
        {
          "output_type": "stream",
          "name": "stdout",
          "text": [
            "New Temperature: 30\n",
            "New Temperature: 40\n",
            "New Temperature: 21\n",
            "New Temperature: 12\n",
            "<__main__.Amira object at 0x7f05c7da8310>\n",
            "40\n",
            "<__main__.Amira object at 0x7f05c7da83d0>\n"
          ]
        }
      ]
    },
    {
      "cell_type": "code",
      "source": [
        "class Amira ():\n",
        "  #Your code here\n",
        "#Driver Code\n",
        "amira= Amira(24,50) #temperature,humidy\n",
        "amira.tempChange(30)\n",
        "amira.existingTemp=40\n",
        "print(\"Temperature:\",amira.existingTemp)\n",
        "\n",
        "jawad= Amira(35)\n",
        "print(\"Humidity:\",jawad.existingHumidity)\n",
        "jawad.humidityChange(21)\n",
        "print(\"Humidity:\",jawad.existingHumidity)\n",
        "print(amira.existingTemp)"
      ],
      "metadata": {
        "id": "dyAjh45IK2wn"
      },
      "execution_count": null,
      "outputs": []
    },
    {
      "cell_type": "markdown",
      "source": [
        "Output\n",
        "Temperature: 30\n",
        "Humidity: 40\n",
        "Humidity: 21\n",
        "35"
      ],
      "metadata": {
        "id": "ktj0tjFfLZ03"
      }
    },
    {
      "cell_type": "markdown",
      "source": [
        "**Class:**\n",
        "\n",
        "A Building with an Infinite Amount of Flats\n",
        "<br><br>\n",
        "**Attributes:**\n",
        "\n",
        "The structure and furniture inside of a specific flat. The structure and furniture are same for all the flats.\n",
        "<br><br>\n",
        "**Object:**\n",
        "\n",
        "Key to of the flats. Different keys grant access to different flats of the same building (Class), but all flats are same in the attributes it contains.\n",
        "\n",
        "Each object has its own reference. The reference of one object is different from the others. That is how Python distinguishes the attributes of different objects.\n",
        "<br><br>\n",
        "\n",
        "Now when you declare an object, you have access to one of the flats of the building. Imagine the refence of that flat is 2A. Now you have access to all the furnitures of the flat 2A. After getting access, you can make changes inside your flat according to your will, without changing the structure of the flat."
      ],
      "metadata": {
        "id": "pvshUXCWmGc7"
      }
    },
    {
      "cell_type": "markdown",
      "source": [
        "#TASK 2A"
      ],
      "metadata": {
        "id": "5fdePKDkj1FQ"
      }
    },
    {
      "cell_type": "code",
      "source": [
        "class Building():\n",
        "\n",
        "  #Class Method: Setter\n",
        "  def temperature_increase(self):\n",
        "    self.temp+=1\n",
        "    print(\"New Temperature:\", self.temp)\n",
        "\n",
        "  def temperature_deccrease(self):\n",
        "    self.temp-=1\n",
        "    print(\"New Temperature:\", self.temp)\n",
        "\n",
        "  def humidity_change(self, given_humidity):\n",
        "    self.humidity= given_humidity\n",
        "    print(\"New Humidity:\", self.humidity)\n",
        "\n",
        "  #Class Method: Getter\n",
        "  def what_color_are_my_walls(self):\n",
        "    return self.wall_paint\n",
        "  def temperature_humidity (self):\n",
        "    return self.temp, self.humidity\n",
        "\n",
        "#Driver Code\n",
        "#Declaring Object\n",
        "flat_2A= Building()\n",
        "#Assigning values to the class variables\n",
        "flat_2A.temp= 80\n",
        "flat_2A.humidity= 0.5\n",
        "flat_2A.wall_paint= \"Yellow\"\n",
        "\n",
        "#Calling Setter Methods\n",
        "flat_2A.temperature_increase()\n",
        "flat_2A.temperature_deccrease()\n",
        "flat_2A.humidity_change(0.35)\n",
        "\n",
        "#Calling Getter Methods\n",
        "print(\"Color of my walls are:\", flat_2A.what_color_are_my_walls())\n",
        "# Tuple Unpacking\n",
        "temp_flat_2A, humidity_flat_2A= flat_2A.temperature_humidity()\n",
        "print(\"The temperature of Flat 2A is:\", temp_flat_2A, \"and the humidity is:\",humidity_flat_2A)"
      ],
      "metadata": {
        "colab": {
          "base_uri": "https://localhost:8080/"
        },
        "id": "d_2KyUEro1uf",
        "outputId": "5b1138f5-5934-43cb-bad5-a91c33dbea9d"
      },
      "execution_count": null,
      "outputs": [
        {
          "output_type": "stream",
          "name": "stdout",
          "text": [
            "New Temperature: 81\n",
            "New Temperature: 80\n",
            "New Humidity: 0.35\n",
            "Color of my walls are: Yellow\n",
            "The temperature of Flat 2A is: 80 and the humidity is: 0.35\n"
          ]
        }
      ]
    },
    {
      "cell_type": "markdown",
      "source": [
        "#TASK 2B"
      ],
      "metadata": {
        "id": "aeqDUpoBj3aa"
      }
    },
    {
      "cell_type": "code",
      "source": [
        "class Building():\n",
        "\n",
        "  #Constructor\n",
        "  def __init__(self, given_temp, given_humidity, given_wall_paint):\n",
        "    self.temp= given_temp\n",
        "    self.wall_paint= given_wall_paint\n",
        "    self.humidity= given_humidity\n",
        "\n",
        "  #Class Method: Setter\n",
        "  def temperature_increase(self):\n",
        "    self.temp+=1\n",
        "    print(\"New Temperature:\", self.temp)\n",
        "\n",
        "  def temperature_deccrease(self):\n",
        "    self.temp-=1\n",
        "    print(\"New Temperature:\", self.temp)\n",
        "\n",
        "  def humidity_change(self, given_humidity):\n",
        "    self.humidity= given_humidity\n",
        "    print(\"New Humidity:\", self.humidity)\n",
        "\n",
        "\n",
        "  #Class Method: Getter\n",
        "  def what_color_are_my_walls(self):\n",
        "    return self.wall_paint\n",
        "  def temperature_humidity (self):\n",
        "    return self.temp, self.humidity\n",
        "\n",
        "#Driver Code\n",
        "#Declaring Object\n",
        "#Assigning values to the class variables while declaring objects\n",
        "flat_2A= Building(80,0.5,\"Yellow\")\n",
        "flat_2A.doorknob= True\n",
        "# flat_2A.temp= 80\n",
        "# flat_2A.humidity= 0.5\n",
        "# flat_2A.wall_paint= \"Yellow\"\n",
        "\n",
        "#Calling Setter Methods\n",
        "flat_2A.temperature_increase()\n",
        "flat_2A.temperature_deccrease()\n",
        "flat_2A.humidity_change(0.35)\n",
        "\n",
        "#Calling Getter Methods\n",
        "print(\"Color of my walls are:\", flat_2A.what_color_are_my_walls())\n",
        "temp_flat_2A, humidity_flat_2A= flat_2A.temperature_humidity()\n",
        "print(\"The temperature of Flat 2A is:\", temp_flat_2A, \"and the humidity is:\",humidity_flat_2A)"
      ],
      "metadata": {
        "colab": {
          "base_uri": "https://localhost:8080/"
        },
        "id": "yLyo25xep1bV",
        "outputId": "dab64bef-6ed7-4b43-90f1-1d63d64fdbcd"
      },
      "execution_count": null,
      "outputs": [
        {
          "output_type": "stream",
          "name": "stdout",
          "text": [
            "New Temperature: 81\n",
            "New Temperature: 80\n",
            "New Humidity: 0.35\n",
            "Color of my walls are: 0.5\n",
            "The temperature of Flat 2A is: 80 and the humidity is: 0.35\n"
          ]
        }
      ]
    },
    {
      "cell_type": "markdown",
      "source": [
        "#HOMEWORK TASK 3\n",
        "Create a Student class keeping the following conditions in mind. You must use a constructor.\n",
        "<br><br>\n",
        "Instance Variables: id, name, dept\n",
        "<br>\n",
        "Instance Methods: get_id(), get_name(), get_dept(), set_id(new_id), set_name(new_name), set_dept(new_dept)\n",
        "<br><br>\n",
        "Driver Code\n",
        "\n",
        "std_1= Student(\"Fuad\", 2112, \"CSE\")\n",
        "\n",
        "print(\"Student 1's ID:\", std_1.get_id())\n",
        "\n",
        "print(\"Student 1's Department:\", std_1.get_dept())\n",
        "\n",
        "print(\"Student 1's Name:\", std_1.get_name())\n",
        "\n",
        "std_1.set_id(2121)\n",
        "\n",
        "std_1.set_name(\"Miftahul\")\n",
        "\n",
        "std_1.set_dept(\"BBA\")\n",
        "<br><br>\n",
        "\n",
        "std_2= Student(\"Rabbi\", 2169, \"CS\")\n",
        "\n",
        "print(\"Student 2's ID:\", std_2.get_id())\n",
        "\n",
        "print(\"Student 2's Department:\", std_2.get_dept())\n",
        "\n",
        "print(\"Student 2's Name:\", std_2.get_name())\n",
        "\n",
        "std_2.set_id(2420)\n",
        "\n",
        "std_2.set_name(\"Tasnim\")\n",
        "\n",
        "std_2.set_dept(\"CSE\")\n",
        "<br><br>\n",
        "#Output\n",
        "--------------New Student Enrolled---------------\n",
        "\n",
        "Name: Fuad, ID: 2112, Department: CSE\n",
        "\n",
        "Student 1's ID: 2112\n",
        "\n",
        "Student 1's Department: CSE\n",
        "\n",
        "Student 1's Name: Fuad\n",
        "\n",
        "Fuad's ID changed to: 2121\n",
        "\n",
        "Fuad's Department changed to: BBA\n",
        "\n",
        "Fuad's Name changed to: Miftahul\n",
        "\n",
        "--------------New Student Enrolled---------------\n",
        "\n",
        "Name: Rabbi, ID: 2169, Department: CS\n",
        "\n",
        "Student 2's ID: 2169\n",
        "\n",
        "Student 2's Department: CS\n",
        "\n",
        "Student 2's Name: Rabbi\n",
        "\n",
        "Fuad's ID changed to: 2420\n",
        "\n",
        "Fuad's Department changed to: CSE\n",
        "\n",
        "Fuad's Name changed to: Tasnim"
      ],
      "metadata": {
        "id": "my5Hb9Swuguk"
      }
    },
    {
      "cell_type": "code",
      "source": [],
      "metadata": {
        "id": "2KqLvbODiolJ"
      },
      "execution_count": null,
      "outputs": []
    },
    {
      "cell_type": "markdown",
      "source": [
        "#TASK 4\n",
        "Implement the design of the Student class so that the following output is produced:\n",
        "\n",
        "Assume the credit for each course to be 3. For example: [3.3,4] can be calculated as:\n",
        "\n",
        "CGPA = ((3.3 * 3) + (4 * 3)) / 6\n",
        "\n",
        "[Here, for each course, the grade point is multiplied by 3. Total credit is the number of courses multiplied by 3. Since the example has 2 courses, therefore a total of 6 credits]\n",
        "\n",
        "CGPA = sum of individual (grade point * credit) / total credit\n",
        "\n",
        "Academic Standing Rule: [CGPA>3.80 Highest Distinction, CGPA>3.65 High Distinction, CGPA>3.50 Distinction, CGPA>2.00 Satisfactory, CGPA<2.00 Can’t Graduate]\n",
        "\n",
        "Output\n",
        "\n",
        "==========================\n",
        "\n",
        "Name: Dora, ID: 15995599, Department: CSE\n",
        "\n",
        "CGPA: 3.85\n",
        "\n",
        "Your academic standing is 'Highest Distinction'\n",
        "\n",
        "==========================\n",
        "\n",
        "==========================\n",
        "\n",
        "Name: Pingu, ID: 12312322, Department: EEE\n",
        "\n",
        "CGPA: 1.32\n",
        "\n",
        "Sorry, you cannot graduate\n",
        "\n",
        "==========================\n",
        "\n",
        "==========================\n",
        "\n",
        "Name: Bob, ID: 13311331, Department: CSE\n",
        "\n",
        "CGPA: 2.85\n",
        "\n",
        "Your academic standing is 'Satisfactory'"
      ],
      "metadata": {
        "id": "zhXpn0PpiozS"
      }
    },
    {
      "cell_type": "code",
      "source": [
        "class Student():\n",
        "  def __init__(self,name,id,dept,gpa):\n",
        "    self.name=name\n",
        "    self.id=id\n",
        "    self.dept=dept\n",
        "    self.gpa=gpa\n",
        "    self.cgpa=0.0\n",
        "\n",
        "  def calculate_CGPA(self):\n",
        "    sum=0\n",
        "    for i in self.gpa:\n",
        "      sum+= i\n",
        "    self.cgpa= sum/len(self.gpa)\n",
        "\n",
        "  def print_details(self):\n",
        "    print(\"Name: \",self.name, \"ID: \",self.id, \"Department: \",self.dept)\n",
        "    print(\"CGPA:\",self.cgpa)\n",
        "    if (self.cgpa>3.80):\n",
        "      print(\"Your academic standing is 'Highest Distinction'\")\n",
        "    elif (self.cgpa>3.65):\n",
        "      print(\"Your academic standing is 'High Distinction'\")\n",
        "    elif (self.cgpa>3.50):\n",
        "      print(\"Your academic standing is 'Distinction'\")\n",
        "    elif (self.cgpa>2.00):\n",
        "      print(\"Your academic standing is 'Satisfactory'\")\n",
        "    else:\n",
        "      print(\"Sorry, you cannot graduate\")\n",
        "\n",
        "# Write your code here\n",
        "s1 = Student('Dora', '15995599','CSE', [4,3.7,3.7,4])\n",
        "s1.calculate_CGPA()\n",
        "print(\"==========================\")\n",
        "s1.print_details()\n",
        "print(\"==========================\")\n",
        "s2 = Student('Pingu', '12312322', 'EEE', [1.7,1.3,1.3,1.3,1])\n",
        "s2.calculate_CGPA()\n",
        "print(\"==========================\")\n",
        "s2.print_details()\n",
        "print(\"==========================\")\n",
        "s3 = Student('Bob', '13311331', 'CSE', [2,3,3,3.7,2.7,2.7])\n",
        "s3.calculate_CGPA()\n",
        "print(\"==========================\")\n",
        "s3.print_details()"
      ],
      "metadata": {
        "id": "ox6r8sPljP81",
        "colab": {
          "base_uri": "https://localhost:8080/"
        },
        "outputId": "984e5a27-9dce-419f-dae2-41f0fda339e4"
      },
      "execution_count": null,
      "outputs": [
        {
          "output_type": "stream",
          "name": "stdout",
          "text": [
            "==========================\n",
            "Name:  Dora ID:  15995599 Department:  CSE\n",
            "CGPA: 3.85\n",
            "Your academic standing is 'Highest Distinction'\n",
            "==========================\n",
            "==========================\n",
            "Name:  Pingu ID:  12312322 Department:  EEE\n",
            "CGPA: 1.3199999999999998\n",
            "Sorry, you cannot graduate\n",
            "==========================\n",
            "==========================\n",
            "Name:  Bob ID:  13311331 Department:  CSE\n",
            "CGPA: 2.8499999999999996\n",
            "Your academic standing is 'Satisfactory'\n"
          ]
        }
      ]
    },
    {
      "cell_type": "markdown",
      "source": [
        "# #HOMEWORK TASK 5\n",
        "A class has been designed for this question. Solve the questions to get the desired result as shown in the output box.\n",
        "[You are not allowed to change the code below]\n",
        "\n",
        "class Wadiya():\n",
        "\n",
        "\n",
        "      def __init__(self):\n",
        "\n",
        "          self.name = 'Aladeen'\n",
        "\n",
        "          self.designation = 'President Prime Minister Admiral General'\n",
        "\n",
        "          self.num_of_wife = 100\n",
        "\n",
        "          self.dictator = True\n",
        "\n",
        "\n",
        "**Write your code for subtask 1, 2, 3 and 4 here**\n",
        "\n",
        "**Output:**\n",
        "\n",
        "Part 1:\n",
        "\n",
        "Name of President: Aladeen\n",
        "\n",
        "Designation: President Prime Minister Admiral General\n",
        "\n",
        "Number of wife: 100\n",
        "\n",
        "Is he/she a dictator: True\n",
        "\n",
        "Part 2:\n",
        "\n",
        "Name of President: Donald Trump\n",
        "\n",
        "Designation: President\n",
        "\n",
        "Number of wife: 1\n",
        "\n",
        "Is he/she a dictator: False\n",
        "\n",
        "**Subtasks:**\n",
        "\n",
        "1) Create an object named wadiya.\n",
        "\n",
        "2) Use the object to print the values as shown in part 1 (Also print the sentence Part 1)\n",
        "\n",
        "3) Use the same object to change and print the values in part 2 (Also print the sentence\n",
        "Part 2)\n",
        "\n",
        "4) Did changing the instance variable values using the same object, affect the previous values of Part 1? (Print ‘previous information lost’ or ‘No, changing had no effect on previous value’)"
      ],
      "metadata": {
        "id": "nYsZJhYOkJh_"
      }
    },
    {
      "cell_type": "code",
      "source": [],
      "metadata": {
        "id": "7KJoQHCWlvOG"
      },
      "execution_count": null,
      "outputs": []
    },
    {
      "cell_type": "markdown",
      "source": [
        "#HOMEWORK TASK 6\n",
        "Create a class Wadiya with appropriate constructor, class variables and methods so that it generates the following output:\n",
        "\n",
        "**Output**\n",
        "\n",
        "======New Person======\n",
        "\n",
        "Name: Admiral General Aladeen\n",
        "\n",
        "Net worth: 50000\n",
        "\n",
        "Wadiyan Oil Sold for 100000!\n",
        "\n",
        "Net worth: 150000\n",
        "\n",
        "Dictator: True\n",
        "\n",
        "======New Person======\n",
        "\n",
        "Name: General Tamir\n",
        "\n",
        "Net worth: 200000\n",
        "\n",
        "Wadiyan Oil Sold for 50000!\n",
        "\n",
        "Net worth: 250000\n",
        "\n",
        "Executed: False\n",
        "\n",
        "======New Person======\n",
        "\n",
        "Name: Nuclear Researcher Nadal\n",
        "\n",
        "Net worth: 0\n",
        "\n",
        "Executed: True"
      ],
      "metadata": {
        "id": "NPeIgB-Xlv3g"
      }
    },
    {
      "cell_type": "code",
      "source": [
        "class Wadiya:\n",
        "#Your code here\n",
        "  def __init__(self, n, d, di, wi, net=50000,exec=False):\n",
        "    print(\"======New Person======\")\n",
        "    self.name= n\n",
        "    self.distinction=d\n",
        "    self.dictatorship= di\n",
        "    self.wives= wi\n",
        "    self.net_worth= net\n",
        "    self.execution_status=exec\n",
        "\n",
        "\n",
        "  def sell_wadiyan_oil(self, a):\n",
        "    self.net_worth += a\n",
        "    print(f\"Wadiyan Oil Sold for {a}\")\n",
        "\n",
        "p1= Wadiya(\"Aladeen\", \"Admiral General\", True, 40) #name, distinction, dictatorship, wives\n",
        "print(\"Name:\", p1.distinction, p1.name)\n",
        "print(\"Net worth:\", p1.net_worth)\n",
        "p1.sell_wadiyan_oil(100000)\n",
        "print(\"Net worth:\", p1.net_worth)\n",
        "print(\"Dictatorship:\", p1.dictatorship)\n",
        "\n",
        "p2= Wadiya(\"Tamir\", \"General\", False, 21, 200000) #name, distinction, dictatorship, wives, net_worth\n",
        "print(\"Name:\", p2.distinction, p2.name)\n",
        "print(\"Net worth:\", p2.net_worth)\n",
        "p2.sell_wadiyan_oil(50000)\n",
        "print(\"Net worth:\", p2.net_worth)\n",
        "print(\"Executed:\", p2.execution_status)\n",
        "\n",
        "p3= Wadiya(\"Nadal\", \"Nuclear Researcher\", True, 5000, 0, True) #name, distinction, dictatorship, wives, net_worth, execution_status\n",
        "print(\"Name:\", p3.distinction, p1.name)\n",
        "print(\"Net worth:\", p3.net_worth)\n",
        "print(\"Executed:\",p3.execution_status)"
      ],
      "metadata": {
        "id": "eDOkTeGanCSY",
        "colab": {
          "base_uri": "https://localhost:8080/"
        },
        "outputId": "a5a62800-e8dc-4505-b9cf-e06a25f90e20"
      },
      "execution_count": null,
      "outputs": [
        {
          "output_type": "stream",
          "name": "stdout",
          "text": [
            "======New Person======\n",
            "Name: Admiral General Aladeen\n",
            "Net worth: 50000\n",
            "Wadiyan Oil Sold for 100000\n",
            "Net worth: 150000\n",
            "Dictatorship: True\n",
            "======New Person======\n",
            "Name: General Tamir\n",
            "Net worth: 200000\n",
            "Wadiyan Oil Sold for 50000\n",
            "Net worth: 250000\n",
            "Executed: False\n",
            "======New Person======\n",
            "Name: Nuclear Researcher Aladeen\n",
            "Net worth: 0\n",
            "Executed: True\n"
          ]
        }
      ]
    },
    {
      "cell_type": "markdown",
      "source": [
        "#Class Work 2\n",
        "Complete the following code so that you can generate the following output:\n",
        "\n",
        "Output\n",
        "\n",
        "====== New List ======\n",
        "\n",
        "[5, 7, 1, -4, 0, -6]\n",
        "\n",
        "Even Numbers: 3 and Odd Numbers: 3\n",
        "\n",
        "Positive Numbers: 4 and Negative Numbers: 2\n",
        "\n",
        "====== New List ======\n",
        "\n",
        "[1,2,3,4]\n",
        "\n",
        "Even Numbers: 2 and Odd Numbers: 2\n",
        "\n",
        "Positive Numbers: 4 and Negative Numbers: 0"
      ],
      "metadata": {
        "id": "74QNf4HCDlaA"
      }
    },
    {
      "cell_type": "code",
      "source": [
        "class Number:\n",
        "  def __init__(self,num=[1,2,3,4]):\n",
        "    self.num=num\n",
        "\n",
        "  def findEvenOdd(self):\n",
        "    even=0\n",
        "    odd=0\n",
        "    for i in self.num:\n",
        "      if (i%2==0):\n",
        "        even+=1\n",
        "      else:\n",
        "        odd+=1\n",
        "    return even, odd\n",
        "\n",
        "  def findPosNeg(self):\n",
        "    pos=0\n",
        "    neg=0\n",
        "    for i in self.num:\n",
        "      if (i<0):\n",
        "        neg+=1\n",
        "      else:\n",
        "        pos+=1\n",
        "    return pos, neg\n",
        "\n",
        "n1= Number([5,7,1,-4,0,-6])\n",
        "even, odd= n1.findEvenOdd()\n",
        "print(\"Even Numbers:\", even, \"and Odd Numbers:\", odd)\n",
        "pos, neg= n1.findPosNeg()\n",
        "print(\"Positive Numbers:\", pos, \"and Negative Numbers:\", neg)\n",
        "\n",
        "n2= Number()\n",
        "even, odd= n2.findEvenOdd()\n",
        "print(\"Even Numbers:\", even, \"and Odd Numbers:\", odd)\n",
        "pos, neg= n2.findPosNeg()\n",
        "print(\"Positive Numbers:\", pos, \"and Negative Numbers:\", neg)"
      ],
      "metadata": {
        "id": "XHxqMX_AEAsw",
        "colab": {
          "base_uri": "https://localhost:8080/"
        },
        "outputId": "38e847e6-c9b6-4130-cc16-a3410f8f3603"
      },
      "execution_count": null,
      "outputs": [
        {
          "output_type": "stream",
          "name": "stdout",
          "text": [
            "Even Numbers: 3 and Odd Numbers: 3\n",
            "Positive Numbers: 4 and Negative Numbers: 2\n",
            "Even Numbers: 2 and Odd Numbers: 2\n",
            "Positive Numbers: 4 and Negative Numbers: 0\n"
          ]
        }
      ]
    },
    {
      "cell_type": "markdown",
      "source": [
        "#Class Work 3\n",
        "Trace the following code to find out the outputs and show trace table"
      ],
      "metadata": {
        "id": "m734JFKmFtRv"
      }
    },
    {
      "cell_type": "code",
      "source": [
        "class Ninja:\n",
        "    def __init__(self):\n",
        "        self.rank = 0\n",
        "        self.stamina = 0.0\n",
        "\n",
        "naruto = Ninja()\n",
        "yellow_flash = Ninja()\n",
        "naruto.rank = 1\n",
        "naruto.stamina = 95.0\n",
        "print(naruto.rank)\n",
        "print(naruto.stamina)\n",
        "yellow_flash.stamina = naruto.stamina - 2\n",
        "print(yellow_flash.stamina)\n",
        "yellow_flash.rank += (naruto.rank + 1)\n",
        "print(yellow_flash.rank)\n",
        "\n",
        "minato = yellow_flash\n",
        "print(minato.rank)\n",
        "print(minato.stamina)\n",
        "naruto.rank = minato.rank - 1\n",
        "naruto.stamina = yellow_flash.stamina + 3\n",
        "print(naruto.rank)\n",
        "print(naruto.stamina)\n",
        "naruto.rank = -(-naruto.rank)\n",
        "yellow_flash.stamina = -(-minato.stamina)\n",
        "print(naruto.rank)\n",
        "print(minato.stamina)"
      ],
      "metadata": {
        "id": "kXboii2VGKJI",
        "colab": {
          "base_uri": "https://localhost:8080/"
        },
        "outputId": "790a8617-a7a6-4d1c-8133-9f6f75a60c98"
      },
      "execution_count": null,
      "outputs": [
        {
          "output_type": "stream",
          "name": "stdout",
          "text": [
            "1\n",
            "95.0\n",
            "93.0\n",
            "2\n",
            "2\n",
            "93.0\n",
            "1\n",
            "96.0\n",
            "1\n",
            "93.0\n"
          ]
        }
      ]
    },
    {
      "cell_type": "markdown",
      "source": [
        "Answer the following questions:\n",
        "\n",
        "1. What is the difference between a function and a method?\n",
        "\n",
        "2. When to use a constructor?\n",
        "\n",
        "3. Can instance variables be declared/changed outside the class or in driver code?\n",
        "\n",
        "4. Are instances/objects mutable or immutable?"
      ],
      "metadata": {
        "id": "_kojXLXcH56S"
      }
    },
    {
      "cell_type": "markdown",
      "source": [
        "Complete the class Employee to make sure the desired outputs are generated\n",
        "\n",
        "\n"
      ],
      "metadata": {
        "id": "GgnIrV4oIfl1"
      }
    },
    {
      "cell_type": "code",
      "source": [
        "class Employee:\n",
        "\n",
        "  def printInfo(self):\n",
        "    print(\"Employee Name:\", self.name)\n",
        "    print(\"Employee Nationality:\", self.nationality)\n",
        "    print(\"Employee ID:\", self.id)\n",
        "\n",
        "e1= Employee()\n",
        "e1.name= \"Mohammad Ali\"\n",
        "e1.nationality= \"African\"\n",
        "e1.id= 1\n",
        "e2= Employee()\n",
        "e2.name= \"Mike Tyson\"\n",
        "e2.nationality= \"American\"\n",
        "e2.id= 2\n",
        "e1.printInfo()\n",
        "e2.printInfo()\n",
        "e2.id= 4\n",
        "e2.printInfo()"
      ],
      "metadata": {
        "colab": {
          "base_uri": "https://localhost:8080/"
        },
        "id": "fXhoD73IJ3p3",
        "outputId": "1df74cc0-7c3a-47d5-9dd6-aeb74f470a8a"
      },
      "execution_count": null,
      "outputs": [
        {
          "output_type": "stream",
          "name": "stdout",
          "text": [
            "Employee Name: Mohammad Ali\n",
            "Employee Nationality: African\n",
            "Employee ID: 1\n",
            "Employee Name: Mike Tyson\n",
            "Employee Nationality: American\n",
            "Employee ID: 2\n",
            "Employee Name: Mike Tyson\n",
            "Employee Nationality: American\n",
            "Employee ID: 4\n"
          ]
        }
      ]
    },
    {
      "cell_type": "code",
      "source": [
        "class Employee:\n",
        "  def __init__(self, x, y, z):\n",
        "    self.n= x\n",
        "    self.m= y\n",
        "    self.z= z\n",
        "\n",
        "  def printInfo(self):\n",
        "    print(f\"Employee Name: {self.n}\\nEmployee Nationality: {self.m}\\nEmployee ID: {self.z}\")\n",
        "\n",
        "  def changeID(self, id):\n",
        "    print(\"Yay! ID changed!\")\n",
        "    self.z= id\n",
        "\n",
        "e1= Employee(\"Mohammad Ali\", \"African\", \"1\")\n",
        "e2= Employee(\"Mike Tyson\", \"American\", \"2\")\n",
        "e1.printInfo()\n",
        "e2.printInfo()\n",
        "e2.changeID(5)\n",
        "e2.printInfo()"
      ],
      "metadata": {
        "colab": {
          "base_uri": "https://localhost:8080/"
        },
        "id": "usiYJyY8IrI1",
        "outputId": "e59c6d54-e9b3-49c0-9949-093db364abcc"
      },
      "execution_count": null,
      "outputs": [
        {
          "output_type": "stream",
          "name": "stdout",
          "text": [
            "Employee Name: Mohammad Ali\n",
            "Employee Nationality: African\n",
            "Employee ID: 1\n",
            "Employee Name: Mike Tyson\n",
            "Employee Nationality: American\n",
            "Employee ID: 2\n",
            "Yay! ID changed!\n",
            "Employee Name: Mike Tyson\n",
            "Employee Nationality: American\n",
            "Employee ID: 5\n"
          ]
        }
      ]
    },
    {
      "cell_type": "code",
      "source": [
        "class Student:\n",
        "  def printInfo(self):\n",
        "    print(\"Name:\", self.name)\n",
        "    print(\"ID:\", self.id)\n",
        "\n",
        "s1= Student()\n",
        "s1.name= \"Voltbar\"\n",
        "s1.id= 121\n",
        "\n",
        "s2= Student()\n",
        "s2.name= \"Elfbar\"\n",
        "s2.id= 122\n",
        "\n",
        "s1.printInfo()\n",
        "# s2.printInfo()\n",
        "\n",
        "# Trying to access instance variables without initialization\n",
        "s3= Student()\n",
        "s3.name=\"Random\"\n",
        "s3.id=000\n",
        "# s3.printInfo()\n",
        "\n",
        "# Trying to change instance variables using the instance\n",
        "s1.name= \"Nitro\"\n",
        "# s1.printInfo()\n",
        "\n",
        "#Trying to assign an instance into another instance (pass by reference)\n",
        "s4= s1\n",
        "s4.printInfo()\n",
        "s4.id= 619\n",
        "s4.printInfo()\n",
        "s1.printInfo()"
      ],
      "metadata": {
        "colab": {
          "base_uri": "https://localhost:8080/"
        },
        "id": "jjGaoDzWFzI9",
        "outputId": "a700e5e4-8496-4d9c-d632-fa258462aacf"
      },
      "execution_count": null,
      "outputs": [
        {
          "output_type": "stream",
          "name": "stdout",
          "text": [
            "Name: Voltbar\n",
            "ID: 121\n",
            "Name: Nitro\n",
            "ID: 121\n",
            "Name: Nitro\n",
            "ID: 619\n",
            "Name: Nitro\n",
            "ID: 619\n"
          ]
        }
      ]
    },
    {
      "cell_type": "code",
      "source": [
        "class Student:\n",
        "  pass\n",
        "  def __init__(self, name, id):\n",
        "    self.name= name\n",
        "    self.id= id\n",
        "\n",
        "  def printInfo(self):\n",
        "    print(\"Name:\", self.name)\n",
        "    print(\"ID:\", self.id)\n",
        "\n",
        "\n",
        "s1= Student(\"Voltbar\", 121)\n",
        "s2= Student(\"Elfbar\", 122)\n",
        "s1.printInfo()\n",
        "s2.printInfo()"
      ],
      "metadata": {
        "colab": {
          "base_uri": "https://localhost:8080/"
        },
        "id": "bIt_dewWHkpb",
        "outputId": "36c0808e-5b12-4fa2-cd23-f79a30412898"
      },
      "execution_count": null,
      "outputs": [
        {
          "output_type": "stream",
          "name": "stdout",
          "text": [
            "Name: Voltbar\n",
            "ID: 121\n",
            "Name: Elfbar\n",
            "ID: 122\n"
          ]
        }
      ]
    },
    {
      "cell_type": "code",
      "source": [
        "class Pets:\n",
        "  def __init__(self, name, species, sound):\n",
        "    self.name= name\n",
        "    self.species= species\n",
        "    self.sound=sound\n",
        "    print(\"Yay! New Pet\")\n",
        "    self.printInfo()\n",
        "\n",
        "  def changeInfo(self, newName, newSpecies):\n",
        "    self.name= newName\n",
        "    self.species= newSpecies\n",
        "\n",
        "  def printInfo(self):\n",
        "    print(f\"Name: {self.name}\\nSpecies: {self.species}\\nSound: {self.makeSound()}\")\n",
        "\n",
        "  def makeSound(self):\n",
        "    return f\"{self.sound}\"\n",
        "\n",
        "p1= Pets(\"Samea\", \"Chihuahua\", \"Woof Woof\")\n",
        "p2= Pets(\"Faiga\", \"Hedgehog\", \"Oh yeaaaaah\")\n",
        "p1.changeInfo(\"Rappha\",\"Chameleon\")\n",
        "p2.species= p1.species\n",
        "p1.name= \"Jumuwah\"\n",
        "p1.printInfo()\n",
        "p2.printInfo()"
      ],
      "metadata": {
        "colab": {
          "base_uri": "https://localhost:8080/"
        },
        "id": "m_UpyPMOT9SB",
        "outputId": "44251b5d-0403-4c94-f876-bec96cb977bc"
      },
      "execution_count": null,
      "outputs": [
        {
          "output_type": "stream",
          "name": "stdout",
          "text": [
            "Yay! New Pet\n",
            "Name: Samea\n",
            "Species: Chihuahua\n",
            "Sound: Woof Woof\n",
            "Yay! New Pet\n",
            "Name: Faiga\n",
            "Species: Hedgehog\n",
            "Sound: Oh yeaaaaah\n",
            "Name: Jumuwah\n",
            "Species: Chameleon\n",
            "Sound: Woof Woof\n",
            "Name: Faiga\n",
            "Species: Chameleon\n",
            "Sound: Oh yeaaaaah\n"
          ]
        }
      ]
    },
    {
      "cell_type": "code",
      "source": [
        "class Hobbies:\n",
        "  def __init__(self,name,hobbies):\n",
        "    self.name= name\n",
        "    self.hobbies= hobbies\n",
        "\n",
        "  def printHobbies(self):\n",
        "    print(f\"{self.name} likes to do:\")\n",
        "    for i in self.hobbies:\n",
        "      print(i)\n",
        "\n",
        "  def addHobby(self,newHobby):\n",
        "    print(f\"New hobby added for {self.name}!\")\n",
        "    self.hobbies.append(newHobby)\n",
        "\n",
        "h1= Hobbies(\"Saddick\", [\"Gaming\", \"Netflixing\", \"Chilling\"])\n",
        "h2= Hobbies(\"Firehose\", [\"Scoring\", \"Grinding\", \"Rolling\"])\n",
        "h3= Hobbies(\"Sheeshmum\", [\"Gambling\", \"Plumbing\"])\n",
        "h1.addHobby(\"Squatting\")\n",
        "h1.printHobbies()\n",
        "h2.printHobbies()\n",
        "h3.printHobbies()\n",
        "h2=h3\n",
        "h2.name=\"Sinthetic\"\n",
        "h3.printHobbies()"
      ],
      "metadata": {
        "colab": {
          "base_uri": "https://localhost:8080/"
        },
        "id": "OyL7jRw6b0FS",
        "outputId": "63156f4b-534a-40a5-bc4d-ddd47a932180"
      },
      "execution_count": null,
      "outputs": [
        {
          "output_type": "stream",
          "name": "stdout",
          "text": [
            "New hobby added for Saddick!\n",
            "Saddick likes to do:\n",
            "Gaming\n",
            "Netflixing\n",
            "Chilling\n",
            "Squatting\n",
            "Firehose likes to do:\n",
            "Scoring\n",
            "Grinding\n",
            "Rolling\n",
            "Sheeshmum likes to do:\n",
            "Gambling\n",
            "Plumbing\n",
            "Sinthetic likes to do:\n",
            "Gambling\n",
            "Plumbing\n"
          ]
        }
      ]
    },
    {
      "cell_type": "code",
      "source": [
        "class Drinks:\n",
        "  def __init__(self, name, legal):\n",
        "    self.name= name\n",
        "    self.legal= legal\n",
        "\n",
        "  def printDetails(self):\n",
        "    print(f\"Drink Name: {self.name}\\nLegal or not: {self.legal}\")\n",
        "\n",
        "  def changeLegality(self):\n",
        "    if self.legal==True:\n",
        "      self.legal= False\n",
        "    else:\n",
        "      self.legal= True\n",
        "\n",
        "d1= Drinks(\"Ice Tea\", True)\n",
        "d1.printDetails()\n",
        "print(\"====1====\")\n",
        "d2= Drinks(\"Rice Wine\", d1.legal)\n",
        "d2.printDetails()\n",
        "print(\"====2====\")\n",
        "d2.changeLegality()\n",
        "d2.printDetails()\n",
        "d2.changeLegality()\n",
        "d2.printDetails()"
      ],
      "metadata": {
        "colab": {
          "base_uri": "https://localhost:8080/"
        },
        "id": "MelkuBIgjOGY",
        "outputId": "55132659-b632-4d48-c30d-400714a87d0e"
      },
      "execution_count": null,
      "outputs": [
        {
          "output_type": "stream",
          "name": "stdout",
          "text": [
            "Drink Name: Ice Tea\n",
            "Legal or not: True\n",
            "====1====\n",
            "Drink Name: Rice Wine\n",
            "Legal or not: True\n",
            "====2====\n",
            "Drink Name: Rice Wine\n",
            "Legal or not: False\n",
            "Drink Name: Rice Wine\n",
            "Legal or not: True\n"
          ]
        }
      ]
    },
    {
      "cell_type": "code",
      "source": [
        "class GamerGirl:\n",
        "  def __init__(self, name, games):\n",
        "    self.name= name\n",
        "    self.games= games\n",
        "    print(\"New gamer in town!\")\n",
        "\n",
        "  def addGames(self, newgame, hours):\n",
        "    self.games[newgame]= hours\n",
        "    print(f\"{newgame} added to the games for {self.name}\")\n",
        "\n",
        "  def updateHours(self, game, newHours):\n",
        "    self.games[game]= newHours\n",
        "\n",
        "  def getGames(self):\n",
        "    return self.games\n",
        "\n",
        "g1= GamerGirl(\"Sumaiya\",{\"GTA V\": 50, \"Minecraft\": 100})\n",
        "g2= GamerGirl(\"Ivona\",{\"Valorant\": 100})\n",
        "g3= GamerGirl(\"Jenisa\",{\"PUBG\": 80})\n",
        "g2= g3\n",
        "g3.name= g2.name\n",
        "g2.addGames(\"CyberPunk\", 20)\n",
        "g2.updateHours(\"PUBG\", 120)\n",
        "print(f\"{g1.name} game data: \\n{g1.getGames()}\")\n",
        "print(f\"{g2.name} game data: \\n{g2.games}\")\n",
        "print(f\"{g3.name} game data: \\n{g3.getGames()}\")"
      ],
      "metadata": {
        "colab": {
          "base_uri": "https://localhost:8080/"
        },
        "id": "oWR_ji93lO4H",
        "outputId": "84900f65-3d5c-44a9-ecd9-730410ef226f"
      },
      "execution_count": null,
      "outputs": [
        {
          "output_type": "stream",
          "name": "stdout",
          "text": [
            "New gamer in town!\n",
            "New gamer in town!\n",
            "New gamer in town!\n",
            "CyberPunk added to the games for Jenisa\n",
            "Sumaiya game data: \n",
            "{'GTA V': 50, 'Minecraft': 100}\n",
            "Jenisa game data: \n",
            "{'PUBG': 120, 'CyberPunk': 20}\n",
            "Jenisa game data: \n",
            "{'PUBG': 120, 'CyberPunk': 20}\n"
          ]
        }
      ]
    },
    {
      "cell_type": "markdown",
      "source": [
        "#Class Work 1\n",
        "Complete the following code so that you can generate the following output:\n",
        "\n",
        "=======New Dog Brought!=======\n",
        "\n",
        "Breed: German Shepherd, Age: 0.5, Color: White\n",
        "\n",
        "=======New Dog Brought!=======\n",
        "\n",
        "Breed: Golden Retriever, Age: 2, Color: Yellow\n",
        "\n",
        "Breed: Golden Retriever, Age: 1, Color: White\n",
        "\n",
        "Golden Retriever 1 year(s) old\n"
      ],
      "metadata": {
        "id": "b_QW0jmp-4KN"
      }
    },
    {
      "cell_type": "code",
      "source": [
        "class Dog:\n",
        "  def __init__(self,breed,age,color):\n",
        "    self.breed=breed\n",
        "    self.age=age\n",
        "    self.color=color\n",
        "    print(\"=======New Dog Brought!=======\")\n",
        "\n",
        "  def change_info(self,*info):\n",
        "    if(len(info)==3):\n",
        "      self.breed=info[0]\n",
        "      self.age=info[1]\n",
        "      self.color= info[2]\n",
        "    if(len(info)==2):\n",
        "      # self.breed= \"Golden Retriever\"\n",
        "      self.age=info[0]\n",
        "      self.color= info[1]\n",
        "\n",
        "  def print_info(self):\n",
        "    print(\"Breed:\", self.breed, \", Age:\", self.age, \", Color:\", self.color)\n",
        "\n",
        "\n",
        "d1= Dog(\"Bulldog\", 1, \"Black\") #Breed,age,color\n",
        "d1.age= 1.5\n",
        "d1.change_info(\"German Shepherd\", 0.5, \"White\")\n",
        "d1.print_info()\n",
        "\n",
        "d2= Dog(\"Golden Retriever\", 2, \"Yellow\") #Breed,age,color\n",
        "d2.print_info()\n",
        "d2.change_info(1, \"White\") #Age, color\n",
        "d2.print_info()\n",
        "\n",
        "d2.age=d1.age\n",
        "print(d2.breed, \"is\", d2.age, \"year(s) old.\")"
      ],
      "metadata": {
        "id": "TsLRudn6_x_9",
        "colab": {
          "base_uri": "https://localhost:8080/"
        },
        "outputId": "d3d322c4-24e1-42a7-beb6-0ad3a5904f20"
      },
      "execution_count": null,
      "outputs": [
        {
          "output_type": "stream",
          "name": "stdout",
          "text": [
            "=======New Dog Brought!=======\n",
            "Breed: German Shepherd , Age: 0.5 , Color: White\n",
            "=======New Dog Brought!=======\n",
            "Breed: Golden Retriever , Age: 2 , Color: Yellow\n",
            "Breed: Golden Retriever , Age: 1 , Color: White\n",
            "Golden Retriever is 0.5 year(s) old.\n"
          ]
        }
      ]
    },
    {
      "cell_type": "code",
      "source": [
        "class DataType:\n",
        "  def __init__(self, x, y):\n",
        "    self.name= x\n",
        "    self.value= y\n",
        "\n",
        "data_type1 = DataType(\"Integer\", 1234)\n",
        "print(data_type1.name)\n",
        "print(data_type1.value)\n",
        "print('=====================')\n",
        "data_type2 = DataType(\"String\", \"Hello\")\n",
        "print(data_type2.name)\n",
        "print(data_type2.value)\n",
        "print('=====================')\n",
        "data_type3 = DataType(\"Float\", 4.0)\n",
        "print(data_type3.name)\n",
        "print(data_type3.value)"
      ],
      "metadata": {
        "colab": {
          "base_uri": "https://localhost:8080/"
        },
        "id": "dfQv0sVNF7hO",
        "outputId": "3f54a3d1-8dce-425e-8f11-d9e07bc853e5"
      },
      "execution_count": null,
      "outputs": [
        {
          "output_type": "stream",
          "name": "stdout",
          "text": [
            "Integer\n",
            "1234\n",
            "=====================\n",
            "String\n",
            "Hello\n",
            "=====================\n",
            "Float\n",
            "4.0\n"
          ]
        }
      ]
    },
    {
      "cell_type": "code",
      "source": [
        "class Flower:\n",
        "  pass\n",
        "\n",
        "flower1 = Flower()\n",
        "flower1.name=\"Rose\"\n",
        "flower1.color=\"Red\"\n",
        "flower1.num_of_petal=6\n",
        "print(\"Name of this flower:\", flower1.name)\n",
        "print(\"Color of this flower:\",flower1.color)\n",
        "print(\"Number of petal:\",flower1.num_of_petal)\n",
        "print(\"=====================\")\n",
        "flower2 = Flower()\n",
        "flower2.name=\"Orchid\"\n",
        "flower2.color=\"Purple\"\n",
        "flower2.num_of_petal=4\n",
        "print(\"Name of this flower:\",flower2.name)\n",
        "print(\"Color of this flower:\",flower2.color)\n",
        "print (\"Number of petal:\",flower2. num_of_petal)"
      ],
      "metadata": {
        "colab": {
          "base_uri": "https://localhost:8080/"
        },
        "id": "xywHjeAaHMfY",
        "outputId": "9203542e-bc46-4de5-a29f-3c2a6d5be27b"
      },
      "execution_count": null,
      "outputs": [
        {
          "output_type": "stream",
          "name": "stdout",
          "text": [
            "Name of this flower: Rose\n",
            "Color of this flower: Red\n",
            "Number of petal: 6\n",
            "=====================\n",
            "Name of this flower: Orchid\n",
            "Color of this flower: Purple\n",
            "Number of petal: 4\n"
          ]
        }
      ]
    },
    {
      "cell_type": "code",
      "source": [
        "class Joker:\n",
        "  def __init__(self, a, b, c):\n",
        "    self.name= a\n",
        "    self.power= b\n",
        "    self.is_he_psycho=c\n",
        "\n",
        "j1 = Joker('Heath Ledger', 'Mind Game', False)\n",
        "print(j1.name)\n",
        "print(j1.power)\n",
        "print(j1.is_he_psycho)\n",
        "print(\"=====================\")\n",
        "j2 = Joker('Joaquin Phoenix', 'Laughing out Loud', True)\n",
        "print(j2.name)\n",
        "print(j2.power)\n",
        "print(j2.is_he_psycho)\n",
        "print(\"=====================\")\n",
        "if j1 == j2:\n",
        " print('same')\n",
        "else:\n",
        " print('different')\n",
        "j2.name = 'Heath Ledger'\n",
        "if j1.name == j2.name:\n",
        " print('same')\n",
        "else:\n",
        " print('different')"
      ],
      "metadata": {
        "colab": {
          "base_uri": "https://localhost:8080/"
        },
        "id": "bByeY78CIW2g",
        "outputId": "a40d3bd5-b324-40a2-b7fd-232b6e662ff0"
      },
      "execution_count": null,
      "outputs": [
        {
          "output_type": "stream",
          "name": "stdout",
          "text": [
            "Heath Ledger\n",
            "Mind Game\n",
            "False\n",
            "=====================\n",
            "Joaquin Phoenix\n",
            "Laughing out Loud\n",
            "True\n",
            "=====================\n",
            "different\n",
            "same\n"
          ]
        }
      ]
    },
    {
      "cell_type": "code",
      "source": [
        "class Pokemon:\n",
        "  def __init__(self,a, b, c, d, e):\n",
        "    self.pokemon1_name= a\n",
        "    self.pokemon2_name= b\n",
        "    self.pokemon1_power= c\n",
        "    self.pokemon2_power= d\n",
        "    self.damage_rate= e\n",
        "\n",
        "team_pika = Pokemon('pikachu', 'charmander', 90, 60, 10)\n",
        "print('=======Team 1=======')\n",
        "print('Pokemon 1:',team_pika.pokemon1_name,\n",
        "team_pika.pokemon1_power)\n",
        "print('Pokemon 2:',team_pika.pokemon2_name,\n",
        "team_pika.pokemon2_power)\n",
        "pika_combined_power = (team_pika.pokemon1_power +  team_pika.pokemon2_power) * team_pika.damage_rate\n",
        "print('Combined Power:', pika_combined_power)\n",
        "\n",
        "team_bulb= Pokemon(\"bulbasaur\", \"squirtle\", 80, 70,  9)\n",
        "print('=======Team 2=======')\n",
        "print('Pokemon 1:',team_bulb.pokemon1_name,\n",
        "team_bulb.pokemon1_power)\n",
        "print('Pokemon 2:',team_bulb.pokemon2_name,\n",
        "team_bulb.pokemon2_power)\n",
        "pika_combined_power = (team_bulb.pokemon1_power +  team_bulb.pokemon2_power) * team_bulb.damage_rate\n",
        "print('Combined Power:', pika_combined_power)"
      ],
      "metadata": {
        "colab": {
          "base_uri": "https://localhost:8080/"
        },
        "id": "LPRG1oQ3KpV2",
        "outputId": "87a02160-bf95-4e01-942e-ff90354eeb65"
      },
      "execution_count": null,
      "outputs": [
        {
          "output_type": "stream",
          "name": "stdout",
          "text": [
            "=======Team 1=======\n",
            "Pokemon 1: pikachu 90\n",
            "Pokemon 2: charmander 60\n",
            "Combined Power: 1500\n",
            "=======Team 2=======\n",
            "Pokemon 1: bulbasaur 80\n",
            "Pokemon 2: squirtle 70\n",
            "Combined Power: 1350\n"
          ]
        }
      ]
    },
    {
      "cell_type": "code",
      "source": [
        "class Player:\n",
        "  pass\n",
        "\n",
        "player1 = Player()\n",
        "player1.name = \"Ronaldo\"\n",
        "player1.jersy_number = 9\n",
        "player1.position = \"Striker\"\n",
        "print(\"Name of the Player:\", player1.name)\n",
        "print(\"Jersey Number of player:\", player1.jersy_number)\n",
        "print(\"Position of player:\", player1.position)\n",
        "print(\"===========================\")\n",
        "player2 = Player()\n",
        "player2.name = \"Neuer\"\n",
        "player2.jersy_number = 1\n",
        "player2.position = \"Goal Keeper\"\n",
        "print(\"Name of the player:\", player2.name)\n",
        "print(\"Jersey Number of player:\", player2.jersy_number)\n",
        "print(\"Position of player:\", player2.position)"
      ],
      "metadata": {
        "colab": {
          "base_uri": "https://localhost:8080/"
        },
        "id": "sQ-Kzx2QMXFm",
        "outputId": "ff70e0ed-b92b-4152-aaa4-fac7ea9497c0"
      },
      "execution_count": null,
      "outputs": [
        {
          "output_type": "stream",
          "name": "stdout",
          "text": [
            "Name of the Player: Ronaldo\n",
            "Jersey Number of player: 9\n",
            "Position of player: Striker\n",
            "===========================\n",
            "Name of the player: Neuer\n",
            "Jersey Number of player: 1\n",
            "Position of player: Goal Keeper\n"
          ]
        }
      ]
    },
    {
      "cell_type": "code",
      "source": [
        "class Country:\n",
        "  def __init__(self):\n",
        "    self.name= \"Bangladesh\"\n",
        "    self.continent= \"Asia\"\n",
        "    self.capital= \"Dhaka\"\n",
        "    self.fifa_ranking= 187\n",
        "\n",
        "country = Country()\n",
        "print('Name:', country.name)\n",
        "print('Continent:',country.continent)\n",
        "print('Capital:',country.capital)\n",
        "print('Fifa Ranking:',country.fifa_ranking)\n",
        "print('===================')\n",
        "country.name = \"Belgium\"\n",
        "country.continent = \"Europe\"\n",
        "country.capital = \"Brussels\"\n",
        "country.fifa_ranking = 1\n",
        "print('Name:',country.name)\n",
        "print('Continent:',country.continent)\n",
        "print('Capital:',country.capital)\n",
        "print('Fifa Ranking:',country.fifa_ranking)"
      ],
      "metadata": {
        "colab": {
          "base_uri": "https://localhost:8080/"
        },
        "id": "JMLDBjy_O3zV",
        "outputId": "cad50540-ee70-4710-b774-8a01f93526b3"
      },
      "execution_count": null,
      "outputs": [
        {
          "output_type": "stream",
          "name": "stdout",
          "text": [
            "Name: Bangladesh\n",
            "Continent: Asia\n",
            "Capital: Dhaka\n",
            "Fifa Ranking: 187\n",
            "===================\n",
            "Name: Belgium\n",
            "Continent: Europe\n",
            "Capital: Brussels\n",
            "Fifa Ranking: 1\n"
          ]
        }
      ]
    },
    {
      "cell_type": "code",
      "source": [
        "def mA(x=100):\n",
        "  print(x)\n",
        "\n",
        "mA(50)\n",
        "mA()"
      ],
      "metadata": {
        "colab": {
          "base_uri": "https://localhost:8080/"
        },
        "id": "Sop4iUk8CsV9",
        "outputId": "4876dbdb-3f8f-400b-bffd-33d9c33ac9df"
      },
      "execution_count": null,
      "outputs": [
        {
          "output_type": "stream",
          "name": "stdout",
          "text": [
            "50\n",
            "100\n"
          ]
        }
      ]
    },
    {
      "cell_type": "code",
      "source": [
        "def mA(q, w=100,*x): #\n",
        "  print(x)\n",
        "\n",
        "# mA(50)\n",
        "mA(20,10,5,True,7.7,9)\n",
        "# mA()"
      ],
      "metadata": {
        "colab": {
          "base_uri": "https://localhost:8080/"
        },
        "id": "G1A-r7zTDLCt",
        "outputId": "de4a6719-4494-4d35-ed73-5ff092a228ea"
      },
      "execution_count": null,
      "outputs": [
        {
          "output_type": "stream",
          "name": "stdout",
          "text": [
            "(5, True, 7.7, 9)\n"
          ]
        }
      ]
    }
  ]
}