{
  "nbformat": 4,
  "nbformat_minor": 0,
  "metadata": {
    "colab": {
      "provenance": [],
      "include_colab_link": true
    },
    "kernelspec": {
      "name": "python3",
      "display_name": "Python 3"
    },
    "language_info": {
      "name": "python"
    }
  },
  "cells": [
    {
      "cell_type": "markdown",
      "metadata": {
        "id": "view-in-github",
        "colab_type": "text"
      },
      "source": [
        "<a href=\"https://colab.research.google.com/github/Mashrur001/CSE111-LECTURES/blob/main/2_Methods.ipynb\" target=\"_parent\"><img src=\"https://colab.research.google.com/assets/colab-badge.svg\" alt=\"Open In Colab\"/></a>"
      ]
    },
    {
      "cell_type": "markdown",
      "source": [
        "# METHODS\n",
        "\n",
        "Topics to Cover:\n",
        "1. Tracing\n",
        "2. Methods types\n",
        "3. Methods and Constructor Overloading\n",
        "4. Operator Overloading"
      ],
      "metadata": {
        "id": "PnQqaUBqhfkB"
      }
    },
    {
      "cell_type": "markdown",
      "source": [
        "# How to Approach Reverse Engineering Problems\n",
        "\n",
        "\n",
        "\n",
        "1. Identify whether a constructor is needed or not. [Check Driver Code]\n",
        "2. Identify if any of the parameters of the constructor needs to be default or not. [Check Driver Code and Outputs]\n",
        "3. Identify if any of the parameters of the constructor needs * or not. [Check Driver Code and Outputs]\n",
        "4. Check whether you need to handle method overloading using if-else or not [Check Driver Code and Outputs]\n",
        "4. Identify if the constructor should print anything or not. [Check Driver Code and Outputs]\n",
        "5. Identify which Methods are needed to be written. [Check Driver Code and Outputs]\n",
        "6. Indentify which methods are returning values, which are printing and which are doing both. [Check Driver Code and Outputs]\n",
        "7. Just like constructors, identify if any of the method's parameters needs default value or *, and whether you need to handle method overloading using if-else or not. [Check Driver Code and Outputs]\n",
        "8. Crosscheck how many print statements you wrote and how many lines are printed. [Check Driver Code, Class Code and Outputs]\n",
        "\n",
        "\n"
      ],
      "metadata": {
        "id": "qv0teN7uVHoU"
      }
    },
    {
      "cell_type": "markdown",
      "source": [
        "## Task #1"
      ],
      "metadata": {
        "id": "i_nHPZr3hpm5"
      }
    },
    {
      "cell_type": "code",
      "execution_count": null,
      "metadata": {
        "id": "TSbCiXu9g7AX",
        "colab": {
          "base_uri": "https://localhost:8080/"
        },
        "outputId": "2385204c-5ef0-4012-a843-bef5ec8483b0"
      },
      "outputs": [
        {
          "output_type": "stream",
          "name": "stdout",
          "text": [
            "2 4 7\n",
            "7 10 24\n",
            "11 4 39\n",
            "13 16 68\n",
            "17 10 95\n",
            "3 3 8\n",
            "6 9 23\n",
            "10 3 36\n"
          ]
        }
      ],
      "source": [
        "class FinalT6A:\n",
        "    def __init__(self, x, p):\n",
        "        self.temp, self.sum, self.y = 4, 0, 1\n",
        "        self.temp += 1\n",
        "        self.y = self.temp - p\n",
        "        self.sum = self.temp + x\n",
        "        print(x, self.y, self.sum)\n",
        "\n",
        "    def methodA(self):\n",
        "        x = 0\n",
        "        y = 0\n",
        "        y = y + self.y\n",
        "        x = self.y + 2 + self.temp\n",
        "        self.sum = x + y + self.methodB(self.temp, y)\n",
        "        print(x, y, self.sum)\n",
        "\n",
        "    def methodB(self, temp, n):\n",
        "        x = 0\n",
        "        temp += 1\n",
        "        self.y = self.y + temp\n",
        "        x = x + 3 + n\n",
        "        self.sum = self.sum + x + self.y\n",
        "        print(x, self.y, self.sum)\n",
        "        return self.sum\n",
        "\n",
        "q1 = FinalT6A(2,1)\n",
        "q1.methodA()\n",
        "q1.methodA()\n",
        "q2 = FinalT6A(3,2)\n",
        "q2.methodA()"
      ]
    },
    {
      "cell_type": "markdown",
      "source": [
        "## Task #2"
      ],
      "metadata": {
        "id": "hy1voSX3imye"
      }
    },
    {
      "cell_type": "code",
      "source": [
        "class Test3:\n",
        "    def __init__(self):\n",
        "        self.sum, self.y = 0, 0\n",
        "\n",
        "    def methodA(self):\n",
        "        x, y = 2, 3\n",
        "        msg = [0]\n",
        "        msg[0] = 3\n",
        "        y = self.y + msg[0]\n",
        "        self.methodB(msg, msg[0])\n",
        "        x = self.y + msg[0]\n",
        "        self.sum = x + y + msg[0]\n",
        "        print(x, y, self.sum)\n",
        "\n",
        "    def methodB(self, mg2, mg1):\n",
        "        x = 0\n",
        "        self.y = self.y + mg2[0]\n",
        "        x = x + 33 + mg1\n",
        "        self.sum = self.sum + x + self.y\n",
        "        mg2[0] = self.y + mg1\n",
        "        mg1 = mg1 + x + 2\n",
        "        print(x, self.y, self.sum)\n",
        "\n",
        "t3 = Test3()\n",
        "t3.methodA()\n",
        "t3.methodA()\n",
        "# t3.methodA()\n",
        "# t3.methodA()"
      ],
      "metadata": {
        "colab": {
          "base_uri": "https://localhost:8080/"
        },
        "id": "tkyNfI0Zio4i",
        "outputId": "ff199b3d-e969-4c6a-de5f-319aa5130234"
      },
      "execution_count": null,
      "outputs": [
        {
          "output_type": "stream",
          "name": "stdout",
          "text": [
            "36 3 39\n",
            "9 3 18\n",
            "36 6 60\n",
            "15 6 30\n"
          ]
        }
      ]
    },
    {
      "cell_type": "markdown",
      "source": [
        "## Task #3"
      ],
      "metadata": {
        "id": "BE1i_lWrhtHv"
      }
    },
    {
      "cell_type": "code",
      "source": [
        "class msgClass:\n",
        "    def __init__(self):\n",
        "        self.content = 0\n",
        "\n",
        "class Q5:\n",
        "    def __init__(self):\n",
        "        self.sum = 1\n",
        "        self.x = 2\n",
        "        self.y = 3\n",
        "\n",
        "    def methodA(self):\n",
        "        x, y = 1, 1\n",
        "        msg = []\n",
        "        myMsg = msgClass()\n",
        "        myMsg.content = self.x\n",
        "        msg.append(myMsg)\n",
        "        msg[0].content = self.y + myMsg.content\n",
        "        self.y = self.y + self.methodB(msg[0])\n",
        "        y = self.methodB(msg[0]) + self.y\n",
        "        x = y + self.methodB(msg[0], msg)\n",
        "        self.sum = x + y + msg[0].content\n",
        "        print(x,\" \", y,\" \", self.sum)\n",
        "\n",
        "    def methodB(self, mg1, mg2 = None):\n",
        "        if mg2 == None:\n",
        "            x, y = 5, 6\n",
        "            y = self.sum + mg1.content\n",
        "            self.y = y + mg1.content\n",
        "            x = self.x + 7 +mg1.content\n",
        "            self.sum = self.sum + x + y\n",
        "            self.x = mg1.content + x +8\n",
        "            print(x, \" \", y,\" \", self.sum)\n",
        "            return y\n",
        "        else:\n",
        "            x = 1\n",
        "            self.y += mg2[0].content\n",
        "            mg2[0].content = self.y + mg1.content\n",
        "            x = x + 4 + mg1.content\n",
        "            self.sum += x + self.y\n",
        "            mg1.content = self.sum - mg2[0].content\n",
        "            print(self.x, \" \",self.y,\" \", self.sum)\n",
        "            return self.sum\n",
        "\n",
        "q = Q5()\n",
        "q.methodA()"
      ],
      "metadata": {
        "colab": {
          "base_uri": "https://localhost:8080/"
        },
        "id": "ZGV6XGFChy3o",
        "outputId": "962e1b52-1dce-498e-fe21-a81d021e35bc"
      },
      "execution_count": null,
      "outputs": [
        {
          "output_type": "stream",
          "name": "stdout",
          "text": [
            "14   6   21\n",
            "39   26   86\n",
            "52   36   168\n",
            "225   57   409\n"
          ]
        }
      ]
    },
    {
      "cell_type": "markdown",
      "source": [
        "# HOMEWORK Task #4\n",
        "\n"
      ],
      "metadata": {
        "id": "WRIKtvEaDvAg"
      }
    },
    {
      "cell_type": "code",
      "source": [
        "class msgClass:\n",
        "    def __init__(self):\n",
        "        self.content = 0\n",
        "class Q5:\n",
        "    def __init__(self,z):\n",
        "        self.sum = 1\n",
        "        self.x = 2\n",
        "        self.y = 3\n",
        "        self.z = z\n",
        "    def methodA(self):\n",
        "        x, y = 1, 1\n",
        "        msg = []\n",
        "        myMsg = msgClass()\n",
        "        myMsg.content = self.x\n",
        "        msg.append(myMsg)\n",
        "        msg[0].content = self.y + myMsg.content\n",
        "        self.y = self.y + self.methodB(self.z, msg[0])##\n",
        "        y = self.methodB(self.z, msg[0]) + self.y\n",
        "        x = y + self.methodB(self.z, msg[0], msg)\n",
        "        self.sum = x + y + msg[0].content\n",
        "        print(x,\" \", y,\" \", self.sum,\" \",self.z[0])\n",
        "\n",
        "    def methodB(self, mg0, mg1, mg2 = None):\n",
        "        if mg2 == None:\n",
        "            x, y = 5, 6\n",
        "            y = self.sum + mg1.content\n",
        "            self.y = y + mg1.content\n",
        "            x = self.x + 7 +mg1.content\n",
        "            self.sum = self.sum + x + y\n",
        "            self.x = mg1.content + x +8\n",
        "            mg0[0]+=2\n",
        "            print(x, \" \", y,\" \", self.sum)\n",
        "            return y\n",
        "        else:\n",
        "            x = 1\n",
        "            self.y += mg2[0].content\n",
        "            mg2[0].content = self.y + mg1.content\n",
        "            x = x + 4 + mg1.content\n",
        "            self.sum += x + self.y\n",
        "            mg1.content = self.sum - mg2[0].content\n",
        "            print(self.x, \" \",self.y,\" \", self.sum)\n",
        "            return self.sum\n",
        "\n",
        "q = Q5([5])\n",
        "q.methodA()"
      ],
      "metadata": {
        "id": "mc6o07mwDuDZ",
        "colab": {
          "base_uri": "https://localhost:8080/"
        },
        "outputId": "eec8522c-8b60-435b-d662-6ef49f814523"
      },
      "execution_count": null,
      "outputs": [
        {
          "output_type": "stream",
          "name": "stdout",
          "text": [
            "14   6   21\n",
            "39   26   86\n",
            "52   36   168\n",
            "225   57   409   9\n"
          ]
        }
      ]
    },
    {
      "cell_type": "markdown",
      "source": [
        "#HOMEWORK Task 5"
      ],
      "metadata": {
        "id": "RrqfNTfkUB_l"
      }
    },
    {
      "cell_type": "code",
      "source": [
        "class LetterChanger:\n",
        "  def __init__ (self, s1):\n",
        "    self.s1=s1\n",
        "    print(\"===================\")\n",
        "    print(\"New String Received\")\n",
        "\n",
        "  def upperToLowerConverter(self):\n",
        "    sout=\"\"\n",
        "    for i in self.s1:\n",
        "      if(65<=ord(i)<=90):\n",
        "        sout+= chr(ord(i)+32)\n",
        "      else:\n",
        "        sout+=i\n",
        "      self.s1=sout\n",
        "    print(\"Upper to Lower Conversion Complete\")\n",
        "    return sout\n",
        "\n",
        "  def letterReplacer(self, convert_from=None, convert_to=\"#\"):\n",
        "    if (convert_from==None):\n",
        "      print(\"Nothing to replace\")\n",
        "    else:\n",
        "      self.s1= self.s1.replace(convert_from, convert_to)\n",
        "      print(\"Letter\",convert_from,\"replaced by\",convert_to)\n",
        "    return self.s1\n",
        "\n",
        "  def addStrings(self,*s):\n",
        "    for i in s:\n",
        "      self.s1+=i\n",
        "    print(\"Updated String after addition:\", self.s1)\n",
        "\n",
        "#Driver Code\n",
        "lc1= LetterChanger(\"Hello World\")\n",
        "new_str= lc1.upperToLowerConverter()\n",
        "print(new_str)\n",
        "new_str= lc1.letterReplacer(\"h\",\"m\")\n",
        "print(new_str)\n",
        "lc1.addStrings(\" Kiddo! \", \"You're gonna hate it.\")\n",
        "\n",
        "lc2= LetterChanger(\"Whasssup!!\")\n",
        "new_str= lc2.upperToLowerConverter()\n",
        "print(new_str)\n",
        "new_str= lc2.letterReplacer(\"h\")\n",
        "print(new_str)\n",
        "new_str= lc2.letterReplacer(\"s\",\"k\")\n",
        "print(new_str)\n",
        "new_str= lc2.letterReplacer()\n",
        "lc2.addStrings(\" Mid is coming! \")"
      ],
      "metadata": {
        "colab": {
          "base_uri": "https://localhost:8080/"
        },
        "id": "-mbOB6izMYlZ",
        "outputId": "857c3023-1e9a-4b0f-e0b6-44fc9b52ade1"
      },
      "execution_count": null,
      "outputs": [
        {
          "output_type": "stream",
          "name": "stdout",
          "text": [
            "===================\n",
            "New String Received\n",
            "Upper to Lower Conversion Complete\n",
            "hello world\n",
            "Letter h replaced by m\n",
            "mello world\n",
            "Updated String after addition: mello world Kiddo! You're gonna hate it.\n",
            "===================\n",
            "New String Received\n",
            "Upper to Lower Conversion Complete\n",
            "whasssup!!\n",
            "Letter h replaced by #\n",
            "w#asssup!!\n",
            "Letter s replaced by k\n",
            "w#akkkup!!\n",
            "Nothing to replace\n",
            "Updated String after addition: w#akkkup!! Mid is coming! \n"
          ]
        }
      ]
    },
    {
      "cell_type": "markdown",
      "source": [
        "# Task 5 Solution"
      ],
      "metadata": {
        "id": "YO27e1tpUFLS"
      }
    },
    {
      "cell_type": "code",
      "source": [
        "def A(x):\n",
        "  x[1]= 100\n",
        "  print(x)\n",
        "  return x\n",
        "\n",
        "s={1:50, 2:80}\n",
        "print(s)\n",
        "y=A(s)\n",
        "print(s)\n",
        "print(y)"
      ],
      "metadata": {
        "colab": {
          "base_uri": "https://localhost:8080/"
        },
        "id": "qfH_nCSHaKN9",
        "outputId": "a7e74258-c667-4e0f-9734-36d06b7a4cce"
      },
      "execution_count": null,
      "outputs": [
        {
          "output_type": "stream",
          "name": "stdout",
          "text": [
            "{1: 50, 2: 80}\n",
            "{1: 100, 2: 80}\n",
            "{1: 100, 2: 80}\n",
            "{1: 100, 2: 80}\n"
          ]
        }
      ]
    },
    {
      "cell_type": "code",
      "source": [
        "def A(x):\n",
        "  x[1]= 100\n",
        "  print(x)\n",
        "  return x\n",
        "\n",
        "def B(x,*y,z=0):\n",
        "  print(x,y,z)\n",
        "\n",
        "B(5,6,7)\n",
        "B(5,z=100)\n",
        "# s=[10,20,30]\n",
        "# print(s)\n",
        "# y=A(s)\n",
        "# print(s)\n",
        "# print(y)"
      ],
      "metadata": {
        "colab": {
          "base_uri": "https://localhost:8080/"
        },
        "id": "JI1NvOGlbX1_",
        "outputId": "5f9609ec-dbe6-4ab5-ae07-af07558a97f0"
      },
      "execution_count": null,
      "outputs": [
        {
          "output_type": "stream",
          "name": "stdout",
          "text": [
            "5 (6, 7) 8\n",
            "5 () 100\n"
          ]
        }
      ]
    },
    {
      "cell_type": "code",
      "source": [
        "class A:\n",
        "  def __init__(self, x, y=0):\n",
        "    self.x= x\n",
        "    self.y= y\n",
        "\n",
        "  def mA(self, w=10):\n",
        "    self.y+= w\n",
        "    self.x+=self.y\n",
        "    print(self.x, self.y)\n",
        "    z= self.mB(self.y)\n",
        "    print(z)\n",
        "\n",
        "  def mB(self, z):\n",
        "    print(z+self.x, z-self.y)\n",
        "    return z+self.x\n",
        "\n",
        "a1= A(5,2)\n",
        "a1.mA(3)\n",
        "a2= A(3)\n",
        "a2.mA()\n",
        "a2.mB(6)"
      ],
      "metadata": {
        "colab": {
          "base_uri": "https://localhost:8080/"
        },
        "id": "l3oE33jL_gpc",
        "outputId": "eefebf6a-4d60-4250-d0be-22ddb073bd67"
      },
      "execution_count": null,
      "outputs": [
        {
          "output_type": "stream",
          "name": "stdout",
          "text": [
            "10 5\n",
            "15 0\n",
            "15\n",
            "13 10\n",
            "23 0\n",
            "23\n",
            "19 -4\n"
          ]
        },
        {
          "output_type": "execute_result",
          "data": {
            "text/plain": [
              "19"
            ]
          },
          "metadata": {},
          "execution_count": 5
        }
      ]
    }
  ]
}