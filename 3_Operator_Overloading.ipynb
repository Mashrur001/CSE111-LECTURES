{
  "nbformat": 4,
  "nbformat_minor": 0,
  "metadata": {
    "colab": {
      "provenance": [],
      "include_colab_link": true
    },
    "kernelspec": {
      "name": "python3",
      "display_name": "Python 3"
    },
    "language_info": {
      "name": "python"
    }
  },
  "cells": [
    {
      "cell_type": "markdown",
      "metadata": {
        "id": "view-in-github",
        "colab_type": "text"
      },
      "source": [
        "<a href=\"https://colab.research.google.com/github/Mashrur001/CSE111-LECTURES/blob/main/3_Operator_Overloading.ipynb\" target=\"_parent\"><img src=\"https://colab.research.google.com/assets/colab-badge.svg\" alt=\"Open In Colab\"/></a>"
      ]
    },
    {
      "cell_type": "markdown",
      "source": [
        "Topics To Cover:\n",
        "\n",
        "*   The \"other\" parameter\n",
        "\n",
        "\n",
        "\n",
        "\n",
        "*   Arithmatic Interactions among several instances:\n",
        "\n",
        "1. Summation: __ add__\n",
        "2. Subtraction: __ sub__\n",
        "3. Multiplication: __ mul__\n",
        "4. Division: __ truediv__\n",
        "5. Floor Division: __ floordiv__\n",
        "6. Power: __ pow__\n",
        "\n",
        "*   Boolean Interactions among several instances:\n",
        "\n",
        "1. Equals: __ eq__\n",
        "2. Less than: __ lt__\n",
        "3. Grater than: __ gt__\n",
        "4. Not Equals: __ ne__\n",
        "5. Grater than or equals: __ ge__\n",
        "6. Less than or equals: __ le__\n"
      ],
      "metadata": {
        "id": "G_txLC_BKswO"
      }
    },
    {
      "cell_type": "code",
      "execution_count": null,
      "metadata": {
        "colab": {
          "base_uri": "https://localhost:8080/"
        },
        "id": "cjK2csLAJRMC",
        "outputId": "7f842246-8141-4f0f-f4bf-04e9d022d053"
      },
      "outputs": [
        {
          "output_type": "stream",
          "name": "stdout",
          "text": [
            "Addition: 40\n",
            "Subtract: -10\n",
            "Subtract: 10\n"
          ]
        }
      ],
      "source": [
        "#Task 1\n",
        "#Complete the following code to generate the desired output\n",
        "\n",
        "class NumberTweaker:\n",
        "  def __init__(self, num):\n",
        "    self.num= num\n",
        "\n",
        "  def __add__(self,other):\n",
        "    return self.num+other.num\n",
        "\n",
        "  def __sub__(self,other):\n",
        "    return self.num-other.num\n",
        "\n",
        "n1= NumberTweaker(15)\n",
        "n2= NumberTweaker(25)\n",
        "print(\"Addition:\", n1+n2)\n",
        "#print(\"Addition:\", n1.__add__(n2))\n",
        "print(\"Subtract:\", n1-n2)\n",
        "#print(\"Subtraction:\", n1.__add__(n2))\n",
        "print(\"Subtract:\", n2-n1)\n",
        "# #print(\"Subtraction:\", n2.__add__(n1))"
      ]
    },
    {
      "cell_type": "code",
      "source": [
        "#Task 1\n",
        "#Complete the following code to generate the desired output\n",
        "\n",
        "class NumberTweaker:\n",
        "  def __init__(self, num):\n",
        "    self.num=num\n",
        "  def __add__(self,other):\n",
        "    sum=self.num+other.num\n",
        "    return sum\n",
        "  def __sub__(self,other):\n",
        "    sub=self.num-other.num\n",
        "    return sub\n",
        "\n",
        "n1= NumberTweaker(15)\n",
        "n2= NumberTweaker(25)\n",
        "print(\"Addition:\", n1+n2)\n",
        "#print(\"Addition:\", n1.__add__(n2))\n",
        "print(\"Subtract:\", n1-n2)\n",
        "#print(\"Subtraction:\", n1.__add__(n2))\n",
        "print(\"Subtract:\", n2-n1)\n",
        "#print(\"Subtraction:\", n2.__add__(n1))"
      ],
      "metadata": {
        "colab": {
          "base_uri": "https://localhost:8080/"
        },
        "id": "nGF_F5zcM6bi",
        "outputId": "d468aeed-2d00-42f8-e1a3-7593fee2cceb"
      },
      "execution_count": null,
      "outputs": [
        {
          "output_type": "stream",
          "name": "stdout",
          "text": [
            "Addition: 40\n",
            "Subtract: -10\n",
            "Subtract: 10\n"
          ]
        }
      ]
    },
    {
      "cell_type": "code",
      "source": [
        "#Task 2\n",
        "#Complete the following code to generate the desired output\n",
        "class StringMatcher:\n",
        "#Your code here\n",
        "  def __init__(self, s):\n",
        "    self.s=s\n",
        "\n",
        "  def __eq__(self,other):\n",
        "    if(self.s==other.s):\n",
        "      return \"Match\"\n",
        "    else:\n",
        "      return \"No Match\"\n",
        "\n",
        "  def __ge__(self,other):\n",
        "    if(int(self.s)>=int(other.s)):\n",
        "      return \"Grater or Equal\"\n",
        "    else:\n",
        "      return \"Not Grater or Equal\"\n",
        "\n",
        "n1= StringMatcher(\"Hey\")\n",
        "n2= StringMatcher(\"Hi\")\n",
        "print(n1==n2)\n",
        "n1.s=\"Hi\"\n",
        "print(n1==n2)\n",
        "n3= StringMatcher(\"55\")\n",
        "n4= StringMatcher(\"56\")\n",
        "print(n3>=n4)\n",
        "print(n4>=n3)"
      ],
      "metadata": {
        "colab": {
          "base_uri": "https://localhost:8080/"
        },
        "id": "BJNYCvpTN8yv",
        "outputId": "a00c1b34-1f35-424a-966a-15f8ae64b06e"
      },
      "execution_count": null,
      "outputs": [
        {
          "output_type": "stream",
          "name": "stdout",
          "text": [
            "No Match\n",
            "Match\n",
            "Not Grater or Equal\n",
            "Grater or Equal\n"
          ]
        }
      ]
    },
    {
      "cell_type": "code",
      "source": [
        "#Task 2 Solution\n",
        "class StringMatcher:\n",
        "  def __init__(self, s):\n",
        "    self.s=s\n",
        "  def __eq__(self,other):\n",
        "    return self.s==other.s\n",
        "    # if(self.s==other.s):\n",
        "    #   return \"Match\"\n",
        "    # else:\n",
        "    #   return \"No Match\"\n",
        "  def __ge__(self,other):\n",
        "    if(int(self.s)>=int(other.s)):\n",
        "      return \"Grater or Equal\"\n",
        "    else:\n",
        "      return \"Not Grater or Equal\"\n",
        "\n",
        "n1= StringMatcher(\"Hey\")\n",
        "n2= StringMatcher(\"Hi\")\n",
        "print(n1==n2)\n",
        "n1.s=\"Hi\"\n",
        "print(n1==n2)\n",
        "# n3= StringMatcher(\"55\")\n",
        "# n4= StringMatcher(\"56\")\n",
        "# print(n3>=n4)\n",
        "# print(n4>=n3)"
      ],
      "metadata": {
        "id": "IuTVH9k0Phpt",
        "colab": {
          "base_uri": "https://localhost:8080/"
        },
        "outputId": "ca032403-53cb-4aca-8dd5-6f58419800ec"
      },
      "execution_count": null,
      "outputs": [
        {
          "output_type": "stream",
          "name": "stdout",
          "text": [
            "False\n",
            "True\n"
          ]
        }
      ]
    },
    {
      "cell_type": "code",
      "source": [
        "#Task 3 Solution\n",
        "#Complete the following code to generate the desired output\n",
        "class ComplexNumber:\n",
        "#Your Code here\n",
        "  def __init__(self,real,img):\n",
        "    self.real=real\n",
        "    self.img=img\n",
        "\n",
        "  def __add__(self,other):\n",
        "    real_sum=self.real+other.real\n",
        "    img_sum=self.img+other.img\n",
        "    return real_sum, img_sum\n",
        "\n",
        "  def __sub__(self,other):\n",
        "    real_sub=self.real-other.real\n",
        "    img_sub=self.img-other.img\n",
        "    return real_sub, img_sub\n",
        "\n",
        "c1= ComplexNumber(5,2) #5+2i\n",
        "c2= ComplexNumber(3,-4) #3-4i\n",
        "sum= c1+c2\n",
        "print(\"Real sum:\",sum[0])\n",
        "print(\"Imaginary sum:\",sum[1])\n",
        "sub= c1-c2\n",
        "print(\"Real sum:\",sub[0])\n",
        "print(\"Imaginary sum:\",sub[1])\n",
        "sub= c2-c1\n",
        "print(\"Real sum:\",sub[0])\n",
        "print(\"Imaginary sum:\",sub[1])"
      ],
      "metadata": {
        "id": "CqFPXtyo9NX8"
      },
      "execution_count": null,
      "outputs": []
    },
    {
      "cell_type": "code",
      "source": [
        "#Task 3\n",
        "#Complete the following code to generate the desired output\n",
        "class ComplexNumber:\n",
        "#Your Code here\n",
        "c1= ComplexNumber(5,2) #5+2i\n",
        "c2= ComplexNumber(3,-4) #3-4i\n",
        "sum= c1+c2\n",
        "print(\"Real sum:\",sum[0])\n",
        "print(\"Imaginary sum:\",sum[1])\n",
        "sub= c1-c2\n",
        "print(\"Real sum:\",sub[0])\n",
        "print(\"Imaginary sum:\",sub[1])\n",
        "sub= c2-c1\n",
        "print(\"Real sum:\",sub[0])\n",
        "print(\"Imaginary sum:\",sub[1])"
      ],
      "metadata": {
        "id": "jxGOBVcSRvvd",
        "colab": {
          "base_uri": "https://localhost:8080/"
        },
        "outputId": "5856c9cc-2481-4102-a9c8-88c838e2ad74"
      },
      "execution_count": null,
      "outputs": [
        {
          "output_type": "stream",
          "name": "stdout",
          "text": [
            "Real sum: 8\n",
            "Imaginary sum: -2\n",
            "Real sum: 2\n",
            "Imaginary sum: 6\n",
            "Real sum: -2\n",
            "Imaginary sum: -6\n"
          ]
        }
      ]
    }
  ]
}