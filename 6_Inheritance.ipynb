{
  "nbformat": 4,
  "nbformat_minor": 0,
  "metadata": {
    "colab": {
      "provenance": [],
      "include_colab_link": true
    },
    "kernelspec": {
      "name": "python3",
      "display_name": "Python 3"
    },
    "language_info": {
      "name": "python"
    }
  },
  "cells": [
    {
      "cell_type": "markdown",
      "metadata": {
        "id": "view-in-github",
        "colab_type": "text"
      },
      "source": [
        "<a href=\"https://colab.research.google.com/github/Mashrur001/CSE111-LECTURES/blob/main/6_Inheritance.ipynb\" target=\"_parent\"><img src=\"https://colab.research.google.com/assets/colab-badge.svg\" alt=\"Open In Colab\"/></a>"
      ]
    },
    {
      "cell_type": "markdown",
      "source": [
        "#Inheritance\n",
        "# Topics to be Covered\n",
        "\n",
        "1. Basic Points of Inheritance\n",
        "1.   Super Classes and Subclasses\n",
        "2.   Inheriting Classes\n",
        "3. Inheriting Attributes\n",
        "4. super()___init_ __()\n"
      ],
      "metadata": {
        "id": "lpn4ogrH2sT0"
      }
    },
    {
      "cell_type": "markdown",
      "source": [
        "## **Point to Remember #1:** Child class inherits all the public and protected instance variables and instance methods of its parent."
      ],
      "metadata": {
        "id": "57m1KxjjYdJP"
      }
    },
    {
      "cell_type": "code",
      "source": [
        "class X:\n",
        "  def __init__(self, x, y):\n",
        "    self.x= x\n",
        "    self.y= y\n",
        "\n",
        "  def mP(self):\n",
        "    print(self.x, self.y)\n",
        "\n",
        "class Y(X):\n",
        "  def __init__(self):\n",
        "    self.z= 20\n",
        "    super().__init__(self.z+5, self.z-5) #inheritance\n",
        "\n",
        "  def mC(self):\n",
        "    print(self.z)\n",
        "\n",
        "#DC\n",
        "p1= X(10, 15)\n",
        "p1.mP()\n",
        "c1= Y()\n",
        "c1.mC()\n",
        "print(c1.x)\n",
        "c1.mP()\n",
        "p1.x=50\n",
        "print(p1.z)\n",
        "print(c1.x)"
      ],
      "metadata": {
        "colab": {
          "base_uri": "https://localhost:8080/",
          "height": 297
        },
        "id": "oaJ6QwCF_ed9",
        "outputId": "41bba06d-3659-47c1-fdf5-1b15437e8cf3"
      },
      "execution_count": null,
      "outputs": [
        {
          "output_type": "stream",
          "name": "stdout",
          "text": [
            "10 15\n",
            "20\n",
            "25\n",
            "25 15\n"
          ]
        },
        {
          "output_type": "error",
          "ename": "AttributeError",
          "evalue": "ignored",
          "traceback": [
            "\u001b[0;31m---------------------------------------------------------------------------\u001b[0m",
            "\u001b[0;31mAttributeError\u001b[0m                            Traceback (most recent call last)",
            "\u001b[0;32m<ipython-input-9-f29d09d0c592>\u001b[0m in \u001b[0;36m<cell line: 25>\u001b[0;34m()\u001b[0m\n\u001b[1;32m     23\u001b[0m \u001b[0mc1\u001b[0m\u001b[0;34m.\u001b[0m\u001b[0mmP\u001b[0m\u001b[0;34m(\u001b[0m\u001b[0;34m)\u001b[0m\u001b[0;34m\u001b[0m\u001b[0;34m\u001b[0m\u001b[0m\n\u001b[1;32m     24\u001b[0m \u001b[0mp1\u001b[0m\u001b[0;34m.\u001b[0m\u001b[0mx\u001b[0m\u001b[0;34m=\u001b[0m\u001b[0;36m50\u001b[0m\u001b[0;34m\u001b[0m\u001b[0;34m\u001b[0m\u001b[0m\n\u001b[0;32m---> 25\u001b[0;31m \u001b[0mprint\u001b[0m\u001b[0;34m(\u001b[0m\u001b[0mp1\u001b[0m\u001b[0;34m.\u001b[0m\u001b[0mz\u001b[0m\u001b[0;34m)\u001b[0m\u001b[0;34m\u001b[0m\u001b[0;34m\u001b[0m\u001b[0m\n\u001b[0m\u001b[1;32m     26\u001b[0m \u001b[0mprint\u001b[0m\u001b[0;34m(\u001b[0m\u001b[0mc1\u001b[0m\u001b[0;34m.\u001b[0m\u001b[0mx\u001b[0m\u001b[0;34m)\u001b[0m\u001b[0;34m\u001b[0m\u001b[0;34m\u001b[0m\u001b[0m\n",
            "\u001b[0;31mAttributeError\u001b[0m: 'X' object has no attribute 'z'"
          ]
        }
      ]
    },
    {
      "cell_type": "code",
      "source": [
        "class X:\n",
        "  def __init__(self, x):\n",
        "    self.x= x\n",
        "\n",
        "  def mP(self):\n",
        "    print(self.x)\n",
        "\n",
        "class Z:\n",
        "  pass\n",
        "\n",
        "class Y(X,Z):\n",
        "  def __init__(self, y):\n",
        "    self.y= y\n",
        "    self.w= y+10\n",
        "    super().__init__(self.y+self.w) #inheritance\n",
        "\n",
        "  def mC(self, a):\n",
        "    print(self.y, self.w, a.x)\n",
        "    a.x+=5\n",
        "    print(a.x)\n",
        "\n",
        "#DC\n",
        "c1= Y(5)"
      ],
      "metadata": {
        "id": "rOI2Nmg4EuRn"
      },
      "execution_count": null,
      "outputs": []
    },
    {
      "cell_type": "markdown",
      "source": [
        "## **Point to Remember #2:** To access an instance  methods of the parent class from within its child class, we need .super() method"
      ],
      "metadata": {
        "id": "dbvOd_jJY_c9"
      }
    },
    {
      "cell_type": "markdown",
      "source": [
        "##**Point to Remember #3:** While accessing an variable this is the order that is followed:\n",
        "\n",
        "1. Search in the instance variables of this class\n",
        "2. If not found, search in the class/staic variables of this class\n",
        "3. If not found, search in the instance variables of the parent class\n",
        "4. If not found, search in the class/staic variables of the parent class"
      ],
      "metadata": {
        "id": "UngFn9FQZRKk"
      }
    },
    {
      "cell_type": "markdown",
      "source": [
        "##**Point to Remember #4:** Using an instance, we can access the class variable but cannot modify it. We can only modify the class variable using the class reference"
      ],
      "metadata": {
        "id": "kd0NcrZ6QWoQ"
      }
    },
    {
      "cell_type": "code",
      "source": [
        "#Explanation of Point\n",
        "class X:\n",
        "  y=10\n",
        "  def __init__(self):\n",
        "    pass\n",
        "\n",
        "x=X()\n",
        "x.y+=20\n",
        "print(x.y)\n",
        "print(X.y)"
      ],
      "metadata": {
        "id": "DuPOrjKqQ2zK"
      },
      "execution_count": null,
      "outputs": []
    },
    {
      "cell_type": "code",
      "source": [
        "class Student:\n",
        "  def __init__(self,name,id,dept):\n",
        "    self.name= name\n",
        "    self.id= id\n",
        "    self.dept = dept\n",
        "  def change_dept(self,new_id,new_dept):\n",
        "    self.id= new_id\n",
        "    self.dept= new_dept\n",
        "  def printNo(self):\n",
        "    print(\"No\")\n",
        "\n",
        "class Student_Info (Student):\n",
        "    def __init__(self,name, id, dept, food_habit):\n",
        "      super().__init__(name, id, dept)\n",
        "      self.food_habit=food_habit\n",
        "    def __str__(self):\n",
        "      return \"Yo\"\n",
        "\n",
        "class Graduate_Info (Student_Info):\n",
        "    def __init__(self,job):\n",
        "      self.job=job\n",
        "\n",
        "#Driver Code\n",
        "s1= Student(\"Rufaida\", 210, \"CSE\")\n",
        "# print(s1.name, s1.id, s1.dept)\n",
        "s2= Student_Info(\"Farhin\", 211, \"CSE\", \"Pizza te pineapple\")\n",
        "# print(s2.name, s2.id, s2.dept, s2.food_habit)\n",
        "s3= Graduate_Info(\"Software Engineer\")\n",
        "# print(s3.job)\n",
        "s1.printNo()\n",
        "s2.printNo()\n",
        "s3.printNo()\n",
        "print(s2)\n",
        "print(s3)"
      ],
      "metadata": {
        "colab": {
          "base_uri": "https://localhost:8080/"
        },
        "id": "N6T8Z3mV6HTt",
        "outputId": "41ddb4c3-01eb-4ebd-a3d9-d3968acf7b98"
      },
      "execution_count": null,
      "outputs": [
        {
          "output_type": "stream",
          "name": "stdout",
          "text": [
            "No\n",
            "No\n",
            "No\n",
            "Yo\n",
            "Yo\n"
          ]
        }
      ]
    },
    {
      "cell_type": "code",
      "execution_count": null,
      "metadata": {
        "colab": {
          "base_uri": "https://localhost:8080/"
        },
        "id": "0M-ycWNQ2BAL",
        "outputId": "dd2b9315-1a4a-47bf-e464-f5484661f230"
      },
      "outputs": [
        {
          "output_type": "stream",
          "name": "stdout",
          "text": [
            "Rufaida 210 CSE\n",
            "Farhin 211 CSE Female 21\n"
          ]
        }
      ],
      "source": [
        "class Student:\n",
        "  def __init__(self,name,id,dept):\n",
        "    self.name= name\n",
        "    self.id= id\n",
        "    self.dept = dept\n",
        "\n",
        "  def change_dept(self,new_id,new_dept):\n",
        "    self.id= new_id\n",
        "    self.dept= new_dept\n",
        "\n",
        "class Student_Info (Student):\n",
        "  def __init__(self,name,id,dept,gender,age):\n",
        "    super().__init__(name,id,dept)\n",
        "    self.gender=gender\n",
        "    self.age=age\n",
        "    pass\n",
        "\n",
        "#Driver Code\n",
        "s1= Student(\"Rufaida\", 210, \"CSE\")\n",
        "print(s1.name, s1.id, s1.dept)\n",
        "\n",
        "s2= Student_Info(\"Farhin\", 211, \"CSE\",\"Female\",21)\n",
        "print(s2.name, s2.id, s2.dept, s2.gender, s2.age)\n",
        "\n",
        "# print(s1.name, s1.id, s1.dept, s1.gender, s1.age)"
      ]
    },
    {
      "cell_type": "code",
      "source": [
        "class Student:\n",
        "  def __init__(self, name='Just a student', dept='nothing'):\n",
        "      self.name = name\n",
        "      self.department = dept\n",
        "  def set_department(self, dept):\n",
        "      self.department = dept\n",
        "  def get_name(self):\n",
        "      return self.name\n",
        "  def set_name(self,name):\n",
        "      self.name = name\n",
        "  def __str__(self):\n",
        "      return 'Name: '+self.name+' Department: '+ self.department\n",
        "\n",
        "s1=Student()\n",
        "print(s1)"
      ],
      "metadata": {
        "colab": {
          "base_uri": "https://localhost:8080/"
        },
        "id": "-i3Rmr9CEpo6",
        "outputId": "06cdf5b0-7d56-47b1-e76d-973e05a35d12"
      },
      "execution_count": null,
      "outputs": [
        {
          "output_type": "stream",
          "name": "stdout",
          "text": [
            "Name: Just a student Department: nothing\n"
          ]
        }
      ]
    },
    {
      "cell_type": "markdown",
      "source": [
        "#Code 1\n",
        "Implement the design of the CSE and EEE classes that are derived from the Department class so that the following output is produced:\n",
        "\n",
        "**Output:**\n",
        "\n",
        "Name: Rahim\n",
        "\n",
        "ID: 16101328\n",
        "\n",
        "Courses Approved to this CSE student in Spring2016 semester :\n",
        "\n",
        "CSE110\n",
        "\n",
        "MAT110\n",
        "\n",
        "ENG101\n",
        "\n",
        "==================\n",
        "\n",
        "Name: Tanzim\n",
        "\n",
        "ID: 18101326\n",
        "\n",
        "Courses Approved to this EEE student in Spring2018 semester:\n",
        "\n",
        "Mat110\n",
        "\n",
        "PHY111\n",
        "\n",
        "ENG101\n",
        "\n",
        "==================\n",
        "\n",
        "Name: Rudana\n",
        "\n",
        "ID: 18101326\n",
        "\n",
        "Courses Approved to this CSE student in Fall2017 semester:\n",
        "\n",
        "CSE111\n",
        "\n",
        "PHY101\n",
        "\n",
        "MAT120\n",
        "\n",
        "==================\n",
        "\n",
        "Name: Zainab\n",
        "\n",
        "ID: 19201623\n",
        "\n",
        "Courses Approved to this EEE student in Summer2019 semester:\n",
        "\n",
        "EEE201\n",
        "\n",
        "PHY112\n",
        "\n",
        "MAT120"
      ],
      "metadata": {
        "id": "fVWPSeIpuo9-"
      }
    },
    {
      "cell_type": "code",
      "source": [
        "class Department:\n",
        "  def __init__(self, s):\n",
        "    self.semester = s\n",
        "    self.name = \"Default\"\n",
        "    self.id = -1\n",
        "  def student_info(self):\n",
        "    print(\"Name:\", self.name)\n",
        "    print(\"ID:\", self.id)\n",
        "  def courses(self, c1, c2, c3):\n",
        "    print(\"No courses Approved yet!\")\n",
        "\n",
        "s1 = CSE(\"Rahim\", 16101328,\"Spring2016\")\n",
        "s1.student_info()\n",
        "s1.courses(\"CSE110\", \"MAT110\", \"ENG101\")\n",
        "print(\"==================\")\n",
        "s2 = EEE(\"Tanzim\", 18101326, \"Spring2018\")\n",
        "s2.student_info()\n",
        "s2.courses(\"Mat110\", \"PHY111\", \"ENG101\")\n",
        "print(\"==================\")\n",
        "s3 = CSE(\"Rudana\", 18101326, \"Fall2017\")\n",
        "s3.student_info()\n",
        "s3.courses(\"CSE111\", \"PHY101\", \"MAT120\")\n",
        "print(\"==================\")\n",
        "s4 = EEE(\"Zainab\", 19201623, \"Summer2019\")\n",
        "s4.student_info()\n",
        "s4.courses(\"EEE201\", \"PHY112\", \"MAT120\")"
      ],
      "metadata": {
        "id": "AAjNireavGFS"
      },
      "execution_count": null,
      "outputs": []
    },
    {
      "cell_type": "code",
      "source": [
        "class Department:\n",
        "  def __init__(self, s):\n",
        "    self.semester = s\n",
        "    self.name = \"Default\"\n",
        "    self.id = -1\n",
        "  def student_info(self):\n",
        "    print(\"Name:\", self.name)\n",
        "    print(\"ID:\", self.id)\n",
        "  def courses(self, c1, c2, c3):\n",
        "    print(\"No courses Approved yet!\")\n",
        "\n",
        "class CSE (Department):\n",
        "  def __init__(self, name, id, semester):\n",
        "    super().__init__(semester)\n",
        "    self.name= name\n",
        "    self.id= id\n",
        "    self.dept= \"CSE\"\n",
        "\n",
        "  def courses(self, *courses):\n",
        "    if len(courses)==0:\n",
        "      super().courses()\n",
        "    else:\n",
        "      print(\"Courses Approved to this\", self.dept, \"student in\", self.semester, \"semester:\")\n",
        "      for i in courses:\n",
        "        print(i)\n",
        "\n",
        "class EEE (Department):\n",
        "  def __init__(self, name, id, semester):\n",
        "    super().__init__(semester)\n",
        "    self.name= name\n",
        "    self.id= id\n",
        "    self.dept= \"EEE\"\n",
        "\n",
        "  def courses(self, *courses):\n",
        "    if len(courses)==0:\n",
        "      super().courses()\n",
        "    else:\n",
        "      print(\"Courses Approved to this\", self.dept, \"student in\", self.semester, \"semester:\")\n",
        "      for i in courses:\n",
        "        print(i)\n",
        "\n",
        "s1 = CSE(\"Rahim\", 16101328,\"Spring2016\")\n",
        "s1.student_info()\n",
        "s1.courses(\"CSE110\", \"MAT110\", \"ENG101\")\n",
        "print(\"==================\")\n",
        "s2 = EEE(\"Tanzim\", 18101326, \"Spring2018\")\n",
        "s2.student_info()\n",
        "s2.courses(\"Mat110\", \"PHY111\", \"ENG101\")\n",
        "print(\"==================\")\n",
        "s3 = CSE(\"Rudana\", 18101326, \"Fall2017\")\n",
        "s3.student_info()\n",
        "s3.courses(\"CSE111\", \"PHY101\", \"MAT120\")\n",
        "print(\"==================\")\n",
        "s4 = EEE(\"Zainab\", 19201623, \"Summer2019\")\n",
        "s4.student_info()\n",
        "s4.courses(\"EEE201\", \"PHY112\", \"MAT120\")"
      ],
      "metadata": {
        "colab": {
          "base_uri": "https://localhost:8080/"
        },
        "id": "oaws9u05T2r5",
        "outputId": "80c2cb8d-4ac4-412c-ab18-877651094891"
      },
      "execution_count": null,
      "outputs": [
        {
          "output_type": "stream",
          "name": "stdout",
          "text": [
            "Name: Rahim\n",
            "ID: 16101328\n",
            "Courses Approved to this CSE student in Spring2016 semester:\n",
            "CSE110\n",
            "MAT110\n",
            "ENG101\n",
            "==================\n",
            "Name: Tanzim\n",
            "ID: 18101326\n",
            "Courses Approved to this EEE student in Spring2018 semester:\n",
            "Mat110\n",
            "PHY111\n",
            "ENG101\n",
            "==================\n",
            "Name: Rudana\n",
            "ID: 18101326\n",
            "Courses Approved to this CSE student in Fall2017 semester:\n",
            "CSE111\n",
            "PHY101\n",
            "MAT120\n",
            "==================\n",
            "Name: Zainab\n",
            "ID: 19201623\n",
            "Courses Approved to this EEE student in Summer2019 semester:\n",
            "EEE201\n",
            "PHY112\n",
            "MAT120\n"
          ]
        }
      ]
    },
    {
      "cell_type": "code",
      "source": [
        "#1 Trace the following code, generate the outputs, and show trace table.\n",
        "class A:\n",
        "  temp = 3\n",
        "  def __init__(self):\n",
        "    self.sum = 0\n",
        "    self.y = 0\n",
        "    self.y = A.temp - 1\n",
        "    self.sum = A.temp + 2\n",
        "    A.temp -= 2\n",
        "  def methodA(self, m, n):\n",
        "    x = 0\n",
        "    n[0] += 1\n",
        "    self.y = self.y + m + A.temp\n",
        "    A.temp += 1\n",
        "    x = x + 2 + n[0]\n",
        "    n[0] = self.sum + 2\n",
        "    print(f\"{x} {self.y} {self.sum}\")\n",
        "\n",
        "class B(A):\n",
        "  x = 1\n",
        "  def __init__(self, b = None):\n",
        "    super().__init__()\n",
        "    self.sum = 2\n",
        "    if b == None:\n",
        "      self.y = self.temp + 1\n",
        "      B.x = 3 + A.temp + self.x\n",
        "      A.temp -= 2\n",
        "    else:\n",
        "      self.sum = self.sum + self.sum\n",
        "      B.x = b.x + self.x\n",
        "  def methodB(self, m, n):\n",
        "    y = [0]\n",
        "    self.y = y[0] + self.y + m\n",
        "    B.x = self.y + 2 + self.temp - n\n",
        "    self.methodA(self.x, y)\n",
        "    self.sum = self.x + y[0] + self.sum\n",
        "    print(f\"{self.x} {y[0]} {self.sum}\")\n",
        "\n",
        "x = [23]\n",
        "a1 = A()\n",
        "b1 = B()\n",
        "b2 = B(b1)\n",
        "a1.methodA(1, x)\n",
        "b2.methodB(3, 2)\n",
        "b1.methodA(1, x)"
      ],
      "metadata": {
        "colab": {
          "base_uri": "https://localhost:8080/"
        },
        "id": "8G2t9lzausVb",
        "outputId": "4a381aa3-d2e3-4ca7-c52e-3c3a5dfab84e"
      },
      "execution_count": null,
      "outputs": [
        {
          "output_type": "stream",
          "name": "stdout",
          "text": [
            "26 -2 5\n",
            "3 -10 4\n",
            "-5 6 5\n",
            "10 -2 2\n"
          ]
        }
      ]
    },
    {
      "cell_type": "code",
      "source": [
        "#2 Trace the following code, generate the outputs, and show trace table.\n",
        "class A:\n",
        "  temp = 3\n",
        "  def __init__(self):\n",
        "    self.sum = 0\n",
        "    self.y = 0\n",
        "    self.y = A.temp - 1\n",
        "    self.sum = A.temp + 2\n",
        "    A.temp -= 2\n",
        "  def methodA(self, m, n):\n",
        "    x = 0\n",
        "    n[0] += 1\n",
        "    self.y = self.y + m + A.temp\n",
        "    A.temp += 1\n",
        "    x = x + 2 + n[0]\n",
        "    n[0] = self.sum + 2\n",
        "    print(f\"{x} {self.y} {self.sum}\")\n",
        "\n",
        "class B(A):\n",
        "  x = 1\n",
        "  def __init__(self, b = None):\n",
        "    super().__init__()\n",
        "    self.sum = 2\n",
        "    if b == None:\n",
        "      self.y = self.temp + 1\n",
        "      B.x = 3 + A.temp + self.x\n",
        "      A.temp -= 2\n",
        "    else:\n",
        "      self.sum = self.sum + self.sum\n",
        "      B.x = b.x + self.x\n",
        "\n",
        "  def methodA(self, m, n):\n",
        "    super().methodA(m+1, n)\n",
        "\n",
        "  def methodB(self, m, n):\n",
        "    y = [0]\n",
        "    self.y = y[0] + self.y + m\n",
        "    B.x = self.y + 2 + self.temp - n\n",
        "    self.methodA(self.x, y)\n",
        "    self.sum = self.x + y[0] + self.sum\n",
        "    print(f\"{self.x} {y[0]} {self.sum}\")\n",
        "\n",
        "x = [23]\n",
        "a1 = A()\n",
        "b1 = B()\n",
        "b2 = B(b1)\n",
        "a1.methodA(1, x)\n",
        "b2.methodB(3, 2)\n",
        "b1.methodA(1, x)"
      ],
      "metadata": {
        "colab": {
          "base_uri": "https://localhost:8080/"
        },
        "id": "wn7nZgyIp7Kr",
        "outputId": "454afb14-3aca-47ad-e606-383f99df0ce9"
      },
      "execution_count": null,
      "outputs": [
        {
          "output_type": "stream",
          "name": "stdout",
          "text": [
            "26 -2 5\n",
            "3 -9 4\n",
            "-5 6 5\n",
            "10 -1 2\n"
          ]
        }
      ]
    },
    {
      "cell_type": "code",
      "source": [
        "#3 Trace the following code, generate the outputs, and show trace table.\n",
        "class A:\n",
        "  temp = 3\n",
        "  def __init__(self):\n",
        "    self.__sum = 0\n",
        "    self.y = 0\n",
        "    self.y = A.temp - 1\n",
        "    self.__sum = A.temp + 2\n",
        "    A.temp -= 2\n",
        "  def methodA(self, m, n):\n",
        "    x = 0\n",
        "    n[0] += 1\n",
        "    self.y = self.y + m + A.temp\n",
        "    A.temp += 1\n",
        "    x = x + 2 + n[0]\n",
        "    n[0] = self.__sum + 2\n",
        "    print(f\"{x} {self.y} {self.__sum}\")\n",
        "\n",
        "class B(A):\n",
        "  x = 1\n",
        "  def __init__(self, b = None):\n",
        "    super().__init__()\n",
        "    self.__sum = 2\n",
        "    if b == None:\n",
        "      self.y = self.temp + 1\n",
        "      B.x = 3 + A.temp + self.x\n",
        "      A.temp -= 2\n",
        "    else:\n",
        "      self.__sum = self.__sum + self.__sum\n",
        "      B.x = b.x + self.x\n",
        "  def methodB(self, m, n):\n",
        "    y = [0]\n",
        "    self.y = y[0] + self.y + m\n",
        "    B.x = self.y + 2 + self.temp - n\n",
        "    self.methodA(self.x, y)\n",
        "    self.__sum = self.x + y[0] + self.__sum\n",
        "    print(f\"{self.x} {y[0]} {self.__sum}\")\n",
        "\n",
        "x = [23]\n",
        "a1 = A()\n",
        "b1 = B()\n",
        "b2 = B(b1)\n",
        "a1.methodA(1, x)\n",
        "b2.methodB(3, 2)\n",
        "b1.methodA(1, x)"
      ],
      "metadata": {
        "id": "gVFjPHea51Es",
        "outputId": "f2cdfa9e-e0e4-42b7-a650-141e6250d059",
        "colab": {
          "base_uri": "https://localhost:8080/"
        }
      },
      "execution_count": null,
      "outputs": [
        {
          "output_type": "stream",
          "name": "stdout",
          "text": [
            "26 -2 5\n",
            "3 -10 -1\n",
            "-5 1 0\n",
            "10 -2 3\n"
          ]
        }
      ]
    },
    {
      "cell_type": "code",
      "source": [
        "#4 Trace the following code, generate the outputs, and show trace table.\n",
        "class C:\n",
        "  def __init__(self):\n",
        "    self.content= 0\n",
        "\n",
        "class A:\n",
        "  temp = 3\n",
        "  def __init__(self):\n",
        "    self.__sum = 0\n",
        "    self.y = 0\n",
        "    self.y = A.temp - 1\n",
        "    self.sum = A.temp + c1.content\n",
        "    A.temp -= 2\n",
        "    c1.content+=1\n",
        "  def methodA(self, m, n):\n",
        "    x = 0\n",
        "    n[0] += 1\n",
        "    self.y = self.y + m + A.temp\n",
        "    A.temp += 1\n",
        "    x = x + 2 + n[0]\n",
        "    n[0] = self.sum + 2\n",
        "    print(f\"{x} {self.y} {self.sum}\")\n",
        "\n",
        "\n",
        "class B(A):\n",
        "  temp = 1\n",
        "  def __init__(self, b = None):\n",
        "    super().__init__()\n",
        "    self.sum = 2\n",
        "    if b == None:\n",
        "      self.y = self.temp + 1\n",
        "      B.temp = 3 + A.temp + self.temp\n",
        "      A.temp -= 2\n",
        "      c1.content+=3\n",
        "    else:\n",
        "      self.sum = self.sum + c1.content\n",
        "      B.temp = b.temp + self.temp\n",
        "      c1.content+=2\n",
        "  def methodB(self, m, n):\n",
        "    y = [0]\n",
        "    self.y = y[0] + self.y + m\n",
        "    B.temp = self.y + 2 + self.temp - n\n",
        "    self.methodA(self.temp, y)\n",
        "    self.sum = self.temp + y[0] + self.sum\n",
        "    print(f\"{self.temp} {y[0]} {self.sum}\")\n",
        "    a2= A()\n",
        "    print(f\"{self.temp} {a2.y} {self.sum}\")\n",
        "\n",
        "x = [23]\n",
        "c1 = C()\n",
        "a1 = A()\n",
        "b1 = B()\n",
        "b2 = B(b1)\n",
        "a1.methodA(1, x)\n",
        "b2.methodB(3, 2)\n",
        "b1.methodA(1, x)"
      ],
      "metadata": {
        "colab": {
          "base_uri": "https://localhost:8080/"
        },
        "id": "-TqdB0mj_Kvn",
        "outputId": "88cea36a-9a0a-4cf7-aab6-42465191bcea"
      },
      "execution_count": null,
      "outputs": [
        {
          "output_type": "stream",
          "name": "stdout",
          "text": [
            "26 -2 3\n",
            "3 0 8\n",
            "5 10 23\n",
            "5 -4 23\n",
            "8 -2 2\n"
          ]
        }
      ]
    },
    {
      "cell_type": "code",
      "source": [
        "class Tournament:\n",
        "  def __init__(self,name='Default'):\n",
        "    self.__name = name\n",
        "  def set_name(self,name):\n",
        "    self.__name = name\n",
        "  def get_name(self):\n",
        "    return self.__name\n",
        "\n",
        "class Cricket_Tournament(Tournament):\n",
        "  def __init__(self,name=\"Default\",team=0,type=\"No Type\"):\n",
        "    # super().__init__(name)\n",
        "    super().set_name(name)\n",
        "    self.team=team\n",
        "    self.type=type\n",
        "  def detail(self):\n",
        "    return f\"Cricket Tournament Name: {super().get_name()}\\nNumber of Teams: {self.team}\\nType: {self.type}\"\n",
        "\n",
        "class Tennis_Tournament(Tournament):\n",
        "  def __init__(self,name=\"Default\",player=0):\n",
        "    super().__init__(name)\n",
        "    self.player=player\n",
        "  def detail(self):\n",
        "    return f\"Tennis Tournament Name: {super().get_name()}\\nNumber of Players: {self.player}\"\n",
        "\n",
        "#write your code here\n",
        "ct1 = Cricket_Tournament()\n",
        "print(ct1.detail())\n",
        "print(\"-----------------------\")\n",
        "ct2 = Cricket_Tournament(\"IPL\",10,\"t20\")\n",
        "print(ct2.detail())\n",
        "print(\"-----------------------\")\n",
        "tt = Tennis_Tournament(\"Roland Garros\",128)\n",
        "print(tt.detail())"
      ],
      "metadata": {
        "colab": {
          "base_uri": "https://localhost:8080/"
        },
        "id": "U4eENeTZJLEo",
        "outputId": "70e749c2-edcb-49cb-92ab-5ec109264f10"
      },
      "execution_count": null,
      "outputs": [
        {
          "output_type": "stream",
          "name": "stdout",
          "text": [
            "Cricket Tournament Name: Default\n",
            "Number of Teams: 0\n",
            "Type: No Type\n",
            "-----------------------\n",
            "Cricket Tournament Name: IPL\n",
            "Number of Teams: 10\n",
            "Type: t20\n",
            "-----------------------\n",
            "Tennis Tournament Name: Roland Garros\n",
            "Number of Players: 128\n"
          ]
        }
      ]
    },
    {
      "cell_type": "code",
      "source": [
        "class Shape3D:\n",
        "  pi = 3.14159\n",
        "  def __init__(self, name = 'Default', radius = 0):\n",
        "    self._area = 0\n",
        "    self._name = name\n",
        "    self._height = 'No need'\n",
        "    self._radius = radius\n",
        "  def calc_surface_area(self):\n",
        "    return 2 * Shape3D.pi * self._radius\n",
        "  def __str__(self):\n",
        "    return \"Radius: \"+str(self._radius)\n",
        "\n",
        "sph = Sphere('Sphere', 5)\n",
        "print('----------------------------------')\n",
        "sph.calc_surface_area()\n",
        "print(sph)\n",
        "print('==================================')\n",
        "cyl = Cylinder('Cylinder', 5, 10)\n",
        "print('----------------------------------')\n",
        "cyl.calc_surface_area()\n",
        "print(cyl)"
      ],
      "metadata": {
        "id": "hQYfKa6URakA"
      },
      "execution_count": null,
      "outputs": []
    },
    {
      "cell_type": "code",
      "source": [
        "class Product:\n",
        "  def __init__(self,id, title, price):\n",
        "    self.__id = id\n",
        "    self.__title = title\n",
        "    self.__price = price\n",
        "  def get_id_title_price(self):\n",
        "    return \"ID: \"+str(self.__id)+\" Title:\"+self.__title+\"Price: \"+str(self.__price)\n",
        "\n",
        "#write your code here\n",
        "class Book(Product):\n",
        "  def __init__(self,id, title, price,isbn,publisher):\n",
        "    super().__init__(id, title, price)\n",
        "    self.isbn=isbn\n",
        "    self.publisher=publisher\n",
        "  def printDetail(self):\n",
        "    return f\"{super().get_id_title_price()}\\nISBN: {self.isbn} Publisher: {self.publisher}\"\n",
        "\n",
        "\n",
        "book = Book(1,\"The Alchemist\",500,\"97806\",\"HarperCollins\")\n",
        "print(book.printDetail())\n",
        "print(\"-----------------------\")\n",
        "# cd = CD(2,\"Shotto\",300,\"Warfaze\",50,\"Hard Rock\")\n",
        "# print(cd.printDetail())"
      ],
      "metadata": {
        "colab": {
          "base_uri": "https://localhost:8080/"
        },
        "id": "j2ZU6LtVRrqf",
        "outputId": "1bc6b4b5-5553-4320-db69-6afa9820752f"
      },
      "execution_count": null,
      "outputs": [
        {
          "output_type": "stream",
          "name": "stdout",
          "text": [
            "ID: 1 Title:The AlchemistPrice: 500\n",
            "ISBN: 97806 Publisher: HarperCollins\n",
            "-----------------------\n"
          ]
        }
      ]
    },
    {
      "cell_type": "code",
      "source": [
        "class Y:\n",
        "  a=12\n",
        "  def __init__(self):\n",
        "    self.b=10\n",
        "\n",
        "class X(Y):\n",
        "  x= 10\n",
        "  z= 5\n",
        "  def __init__(self):\n",
        "    super().__init__()\n",
        "    self.y=10\n",
        "\n",
        "x1= X()\n",
        "x1.x+=10\n",
        "print(x1.x)\n",
        "x1.z= 15\n",
        "print(x1.z)\n",
        "print(X.z)\n",
        "print(X.x)\n",
        "x1.w=20\n",
        "print(x1.w)\n",
        "# x1.q+=25\n",
        "# print(x1.y)\n",
        "print(x1.b)"
      ],
      "metadata": {
        "colab": {
          "base_uri": "https://localhost:8080/"
        },
        "id": "tMVAWGwhLEd1",
        "outputId": "da047e68-5fc9-4e2c-9748-30a8ef7ccefd"
      },
      "execution_count": null,
      "outputs": [
        {
          "output_type": "stream",
          "name": "stdout",
          "text": [
            "20\n",
            "15\n",
            "5\n",
            "10\n",
            "20\n",
            "10\n"
          ]
        }
      ]
    },
    {
      "cell_type": "code",
      "source": [
        "class Pokemon:\n",
        "    pokemon=0\n",
        "    def __init__(self, p):\n",
        "        self.pokemon = p\n",
        "        self.__pokemon_type = \"Needs to be set\"\n",
        "        self.__pokemon_weakness = \"Needs to be set\"\n",
        "        Pokemon.pokemon+=1\n",
        "    def kind(self):\n",
        "        return self.pokemon_type\n",
        "    def weakness(self):\n",
        "        return self.pokemon_weakness\n",
        "    def what_am_i(self):\n",
        "        print(\"I am a Pokemon.\")\n",
        "    def __str__(self):\n",
        "      return(f\"Total Pokemons: {Pokemon.pokemon}\")\n",
        "\n",
        "class Pikachu(Pokemon):\n",
        "  def __init__(self):\n",
        "    super().__init__(\"Pikachu\")\n",
        "    self.pokemon_type= \"Electric\"\n",
        "    self.pokemon_weakness= \"Ground\"\n",
        "\n",
        "  def what_am_i(self):\n",
        "    super().what_am_i()\n",
        "    print(\"Var\", super().pokemon)\n",
        "    print(\"I am a Pikachu.\")\n",
        "\n",
        "  @classmethod\n",
        "  def morePokemon(cls):\n",
        "    Pokemon.pokemon+=1\n",
        "\n",
        "class Charmander(Pokemon):\n",
        "  def __init__(self):\n",
        "    super().__init__(\"Charmander\")\n",
        "    self.pokemon_type= \"Fire\"\n",
        "    self.pokemon_weakness= \"Water\"\n",
        "\n",
        "  def what_am_i(self):\n",
        "    super().what_am_i()\n",
        "    print(\"I am a Charmander.\")\n",
        "\n",
        "  def __str__(self):\n",
        "      return(f\"Squirtle sucks!\")\n",
        "\n",
        "pk1 = Pikachu()\n",
        "print(\"Pokemon:\", pk1.pokemon)\n",
        "print(\"Type:\", pk1.kind())\n",
        "print(\"Weakness:\", pk1.weakness())\n",
        "pk1.what_am_i()\n",
        "print(pk1)\n",
        "Pikachu.morePokemon()\n",
        "print(pk1)\n",
        "print(\"========================\")\n",
        "c1 = Charmander()\n",
        "print(\"Pokemon:\", c1.pokemon)\n",
        "print(\"Type:\", c1.kind())\n",
        "print(\"Weakness:\", c1.weakness())\n",
        "c1.what_am_i()\n",
        "print(c1)"
      ],
      "metadata": {
        "colab": {
          "base_uri": "https://localhost:8080/"
        },
        "id": "PU4gqMFxL6gt",
        "outputId": "6f2c013f-b4a9-4381-8a88-656447c88b92"
      },
      "execution_count": null,
      "outputs": [
        {
          "output_type": "stream",
          "name": "stdout",
          "text": [
            "Pokemon: Pikachu\n",
            "Type: Electric\n",
            "Weakness: Ground\n",
            "I am a Pokemon.\n",
            "Var 1\n",
            "I am a Pikachu.\n",
            "Total Pokemons: 1\n",
            "Total Pokemons: 2\n",
            "========================\n",
            "Pokemon: Charmander\n",
            "Type: Fire\n",
            "Weakness: Water\n",
            "I am a Pokemon.\n",
            "I am a Charmander.\n",
            "Squirtle sucks!\n"
          ]
        }
      ]
    },
    {
      "cell_type": "code",
      "source": [
        "class Fruit:\n",
        "    def __init__(self, formalin=False, name=''):\n",
        "        self.__formalin = formalin\n",
        "        self.name = name\n",
        "    def getName(self):\n",
        "        return self.name\n",
        "    def hasFormalin(self):\n",
        "        return self.__formalin\n",
        "class testFruit:\n",
        "    def test(self, f):\n",
        "        print('----Printing Detail----')\n",
        "        if f.hasFormalin():\n",
        "            print('Do not eat the',f.getName(),'.')\n",
        "            print(f)\n",
        "        else:\n",
        "            print('Eat the',f.getName(),'.')\n",
        "            print(f)\n",
        "\n",
        "m = Mango()\n",
        "j = Jackfruit()\n",
        "t1 = testFruit()\n",
        "t1.test(m)\n",
        "t1.test(j)"
      ],
      "metadata": {
        "id": "sS5i4M2PsRgS"
      },
      "execution_count": null,
      "outputs": []
    },
    {
      "cell_type": "code",
      "source": [
        "class Daddy:\n",
        "  sugar=5\n",
        "  def __init__(self, name, age):\n",
        "    self.__name=name\n",
        "    self.age=age\n",
        "    self.__face=\"Cutu\"\n",
        "\n",
        "  @classmethod\n",
        "  def gibsugar(cls):\n",
        "    cls.sugar+=1\n",
        "\n",
        "  def getface(self):\n",
        "    return self.__face\n",
        "\n",
        "  def __str__(self):\n",
        "    return f\"Name: {self.__name}\"\n",
        "\n",
        "class DaddysPrincess(Daddy):\n",
        "  def __init__(self, name, age):\n",
        "    super().__init__(name, age)\n",
        "    self.__id=21\n",
        "\n",
        "  def __str__(self):\n",
        "    return f\"Face: {self.getface()}\\nAge: {self.age}\\n{super().__str__()}\"\n",
        "\n",
        "p1= DaddysPrincess(\"Ashrafi\", 19)\n",
        "print(p1.sugar)       #Accessing public class variable\n",
        "p1.gibsugar()         #Accessing public class variable\n",
        "print(p1.sugar)       #Accessing public class variable\n",
        "p1.sugar+=2\n",
        "print(p1.sugar, DaddysPrincess.sugar)\n",
        "print(p1.age)         #Accessing public instance variable\n",
        "p1.__face=\"Pretty\"    #Trying to create a private variable using an object from outside a class\n",
        "print(p1.__face)      #Printing the newly created public variable, that looks like a private variable, but is not!\n",
        "print(p1.getface())   #Calling a public method belonging to the superclass from the subclass\n",
        "p1.__id=666           #Trying to create a private variable using an object from outside a class\n",
        "print(p1.__id)        #Printing the newly created public variable, that looks like a private variable, but is not!\n",
        "print(p1)             #Accessing the __str__ method"
      ],
      "metadata": {
        "colab": {
          "base_uri": "https://localhost:8080/"
        },
        "id": "_MOQ6kiGCGni",
        "outputId": "ed8c9449-4536-4136-eed8-78a59f428724"
      },
      "execution_count": null,
      "outputs": [
        {
          "output_type": "stream",
          "name": "stdout",
          "text": [
            "5\n",
            "6\n",
            "8 6\n",
            "19\n",
            "Pretty\n",
            "Cutu\n",
            "666\n",
            "Face: Cutu\n",
            "Age: 19\n",
            "Name: Ashrafi\n"
          ]
        }
      ]
    },
    {
      "cell_type": "code",
      "source": [
        "print(p1)"
      ],
      "metadata": {
        "colab": {
          "base_uri": "https://localhost:8080/"
        },
        "id": "Mb2khsgSD1ax",
        "outputId": "e0ae4f6d-0b37-4373-d622-4658e4fffeeb"
      },
      "execution_count": null,
      "outputs": [
        {
          "output_type": "stream",
          "name": "stdout",
          "text": [
            "<__main__.DaddysPrincess object at 0x7f10eb127c70>\n"
          ]
        }
      ]
    },
    {
      "cell_type": "code",
      "source": [
        "class Mommy:\n",
        "  boys=0\n",
        "  def __init__(self,name):\n",
        "    self.__name=name\n",
        "\n",
        "  def getname(self):\n",
        "    return self.__name\n",
        "\n",
        "  @classmethod\n",
        "  def moreboys(cls):\n",
        "    cls.boys+=1\n",
        "\n",
        "  def __str__(self):\n",
        "    return f\"Momma: {self.__name}\"\n",
        "\n",
        "class MommasBoi:\n",
        "  #Your code here\n",
        "  def __init__(self, boi_name, momma_name):\n",
        "    super().__init__(momma_name)\n",
        "    self.__name=boi_name\n",
        "\n",
        "  def __str__(self):\n",
        "    return f\"Boi: {self.__name}\\n{super().__str__()}\"\n",
        "\n",
        "  def getMommaName(self):\n",
        "    return f\"{super().getname()}\" #self.getname()\n",
        "\n",
        "mb1= (\"Nehal\", \"Samina\")\n",
        "print(mb1)\n",
        "print(\"=======1======\")\n",
        "print(mb1.getMommaName())\n",
        "mb1.__name=\"Navin\"\n",
        "print(mb1.__name)\n",
        "print(mb1.getname())"
      ],
      "metadata": {
        "colab": {
          "base_uri": "https://localhost:8080/",
          "height": 283
        },
        "id": "6Xa3MY3PKdGN",
        "outputId": "d3abdee3-d4b7-42ee-dcdb-657092d70127"
      },
      "execution_count": null,
      "outputs": [
        {
          "output_type": "stream",
          "name": "stdout",
          "text": [
            "('Nehal', 'Samina')\n",
            "=======1======\n"
          ]
        },
        {
          "output_type": "error",
          "ename": "AttributeError",
          "evalue": "ignored",
          "traceback": [
            "\u001b[0;31m---------------------------------------------------------------------------\u001b[0m",
            "\u001b[0;31mAttributeError\u001b[0m                            Traceback (most recent call last)",
            "\u001b[0;32m<ipython-input-37-358db911a721>\u001b[0m in \u001b[0;36m<cell line: 31>\u001b[0;34m()\u001b[0m\n\u001b[1;32m     29\u001b[0m \u001b[0mprint\u001b[0m\u001b[0;34m(\u001b[0m\u001b[0mmb1\u001b[0m\u001b[0;34m)\u001b[0m\u001b[0;34m\u001b[0m\u001b[0;34m\u001b[0m\u001b[0m\n\u001b[1;32m     30\u001b[0m \u001b[0mprint\u001b[0m\u001b[0;34m(\u001b[0m\u001b[0;34m\"=======1======\"\u001b[0m\u001b[0;34m)\u001b[0m\u001b[0;34m\u001b[0m\u001b[0;34m\u001b[0m\u001b[0m\n\u001b[0;32m---> 31\u001b[0;31m \u001b[0mprint\u001b[0m\u001b[0;34m(\u001b[0m\u001b[0mmb1\u001b[0m\u001b[0;34m.\u001b[0m\u001b[0mgetMommaName\u001b[0m\u001b[0;34m(\u001b[0m\u001b[0;34m)\u001b[0m\u001b[0;34m)\u001b[0m\u001b[0;34m\u001b[0m\u001b[0;34m\u001b[0m\u001b[0m\n\u001b[0m\u001b[1;32m     32\u001b[0m \u001b[0mmb1\u001b[0m\u001b[0;34m.\u001b[0m\u001b[0m__name\u001b[0m\u001b[0;34m=\u001b[0m\u001b[0;34m\"Navin\"\u001b[0m\u001b[0;34m\u001b[0m\u001b[0;34m\u001b[0m\u001b[0m\n\u001b[1;32m     33\u001b[0m \u001b[0mprint\u001b[0m\u001b[0;34m(\u001b[0m\u001b[0mmb1\u001b[0m\u001b[0;34m.\u001b[0m\u001b[0m__name\u001b[0m\u001b[0;34m)\u001b[0m\u001b[0;34m\u001b[0m\u001b[0;34m\u001b[0m\u001b[0m\n",
            "\u001b[0;31mAttributeError\u001b[0m: 'tuple' object has no attribute 'getMommaName'"
          ]
        }
      ]
    },
    {
      "cell_type": "code",
      "source": [
        "class C:\n",
        "  def __init__(self):\n",
        "    self.content= 0\n",
        "\n",
        "class A:\n",
        "  temp = 3\n",
        "  def __init__(self):\n",
        "    self.__sum = 0\n",
        "    self.y = 0\n",
        "    self.y = A.temp - 1\n",
        "    self.sum = A.temp + c1.content\n",
        "    A.temp -= 2\n",
        "    c1.content+=1\n",
        "  def methodA(self, m, n):\n",
        "    x = 0\n",
        "    n[0] += 1\n",
        "    self.y = self.y + m + A.temp\n",
        "    A.temp += 1\n",
        "    x = x + 2 + n[0]\n",
        "    n[0] = self.sum + 2\n",
        "    print(f\"{x} {self.y} {self.sum}\")\n",
        "\n",
        "class B(A):\n",
        "  temp = 1\n",
        "  def __init__(self, b = None):\n",
        "    super().__init__()\n",
        "    self.sum = 2\n",
        "    if b == None:\n",
        "      self.y = self.temp + 1\n",
        "      B.temp = 3 + A.temp + self.temp\n",
        "      A.temp -= 2\n",
        "      c1.content+=3\n",
        "    else:\n",
        "      self.sum = self.sum + c1.content\n",
        "      B.temp = b.temp + self.temp\n",
        "      c1.content+=2\n",
        "  def methodB(self, m, n):\n",
        "    y = [0]\n",
        "    self.y = y[0] + self.y + m\n",
        "    B.temp = self.y + 2 + self.temp - n\n",
        "    self.methodA(self.temp, y)\n",
        "    self.sum = self.temp + y[0] + self.sum\n",
        "    print(f\"{self.temp} {y[0]} {self.sum}\")\n",
        "    a2= A()\n",
        "    print(f\"{self.temp} {a2.y} {self.sum}\")\n",
        "\n",
        "c1 = C()\n",
        "x = [23]\n",
        "a1 = A()\n",
        "b1 = B()\n",
        "b2 = B(b1)\n",
        "a1.methodA(1, x)\n",
        "b2.methodB(3, 2)\n",
        "b1.methodA(1, x)"
      ],
      "metadata": {
        "colab": {
          "base_uri": "https://localhost:8080/"
        },
        "id": "8LzGtyjsNe5b",
        "outputId": "7c7a433d-f067-48bd-d6db-c00c3628fd5b"
      },
      "execution_count": null,
      "outputs": [
        {
          "output_type": "stream",
          "name": "stdout",
          "text": [
            "26 -2 3\n",
            "3 0 8\n",
            "5 10 23\n",
            "5 -4 23\n",
            "8 -2 2\n"
          ]
        }
      ]
    },
    {
      "cell_type": "code",
      "source": [
        "class SerialKiller:\n",
        "  __killers = 0\n",
        "  def __init__(self, name= \"Jack the Ripper\", kills= 121):\n",
        "    self.name=name\n",
        "    self.kills= kills\n",
        "    SerialKiller.__killers+=1\n",
        "\n",
        "  def __str__(self):\n",
        "    return f\"{self.name} killed {self.kills} people\"\n",
        "\n",
        "  @classmethod\n",
        "  def getKillers(cls):\n",
        "    return f\"Total killers listed: {cls.__killers}\"\n",
        "\n",
        "  def killCompare(self, other):\n",
        "    if self.kills>other.kills:\n",
        "      print(f\"{self.name} killed more people than {other.name}.\")\n",
        "    elif self.kills<other.kills:\n",
        "      print(f\"{other.name} killed more people than {self.name}.\")\n",
        "    else:\n",
        "      print(f\"{self.name} and {other.name} both have equal kills.\")\n",
        "\n",
        "\n",
        "class Nature(SerialKiller):\n",
        "  def __init__(self, name= \"Bangla Bhai\", kills= 16, type=True):\n",
        "    super().__init__(name, kills)\n",
        "    self.type=type\n",
        "\n",
        "  def __str__(self):\n",
        "    print(super().__str__())\n",
        "    if self.type==True:\n",
        "      return f\"Nature: Protagonist\"\n",
        "    else:\n",
        "      return f\"Nature: Antagonist\"\n",
        "\n",
        "\n",
        "s1= SerialKiller()\n",
        "print(s1)\n",
        "s2= SerialKiller(\"Hannibal\")\n",
        "s2.kills= 3000\n",
        "print(s2)\n",
        "s3= SerialKiller(\"Light Yagami\",600)\n",
        "s3.type=True\n",
        "print(s3)\n",
        "print(s3.getKillers())\n",
        "print(\"==========1==========\")\n",
        "s4= Nature()\n",
        "print(s4)\n",
        "s5= Nature(\"Dexter\", False)\n",
        "s5.kills= 6000\n",
        "print(s5)\n",
        "print(SerialKiller.getKillers())\n",
        "print(\"==========2==========\")\n",
        "s6= Nature(\"Eren Yeager\", False)\n",
        "s6.kills= 1000000\n",
        "print(s6)\n",
        "print(Nature.getKillers())\n",
        "s7= Nature(\"Jeffrey Dahmer\", 121, False)\n",
        "print(s7)\n",
        "print(Nature.getKillers())\n",
        "print(\"==========3==========\")\n",
        "s5.killCompare(s2)\n",
        "s4.killCompare(s3)\n",
        "s1.killCompare(s7)"
      ],
      "metadata": {
        "colab": {
          "base_uri": "https://localhost:8080/"
        },
        "id": "EqQCeh7ZONmI",
        "outputId": "04a16ea8-a342-43ed-8529-75a3ae605262"
      },
      "execution_count": null,
      "outputs": [
        {
          "output_type": "stream",
          "name": "stdout",
          "text": [
            "Jack the Ripper killed 121 people\n",
            "Hannibal killed 3000 people\n",
            "Light Yagami killed 600 people\n",
            "Total killers listed: 3\n",
            "==========1==========\n",
            "Bangla Bhai killed 16 people\n",
            "Nature: Protagonist\n",
            "Dexter killed 6000 people\n",
            "Nature: Protagonist\n",
            "Total killers listed: 5\n",
            "==========2==========\n",
            "Eren Yeager killed 1000000 people\n",
            "Nature: Protagonist\n",
            "Total killers listed: 6\n",
            "Jeffrey Dahmer killed 121 people\n",
            "Nature: Antagonist\n",
            "Total killers listed: 7\n",
            "==========3==========\n",
            "Dexter killed more people than Hannibal.\n",
            "Light Yagami killed more people than Bangla Bhai.\n",
            "Jack the Ripper and Jeffrey Dahmer both have equal kills.\n"
          ]
        }
      ]
    },
    {
      "cell_type": "code",
      "source": [
        "class A:\n",
        "  def m1(self):\n",
        "    print(\"Eta Kemon Question?\")\n",
        "    self.m4()\n",
        "\n",
        "class B(A):\n",
        "  def m1(self):\n",
        "    super().m1()\n",
        "    print(\"What is this torture?\")\n",
        "  def m3(self):\n",
        "    self.m2()\n",
        "    print(\"Sir onek kharap\")\n",
        "  def m2(self):\n",
        "    print(\"Yesss! Miltese tracing ta\")\n",
        "  def m4(self):\n",
        "    print(\"Ami ki thik jaygay asi?\")\n",
        "\n",
        "class C(B):\n",
        "  def m1(self):\n",
        "    self.m3()\n",
        "    print(\"Kintu Sheiii Handsome\")\n",
        "  def m2(self):\n",
        "    super().m1()\n",
        "    print(\"E kemon bichar?\")\n",
        "\n",
        "c1 = C()\n",
        "c1.m1()\n"
      ],
      "metadata": {
        "colab": {
          "base_uri": "https://localhost:8080/"
        },
        "id": "D-hpssXcXT81",
        "outputId": "5f230054-20bc-4598-9df9-824f7a6b8c6b"
      },
      "execution_count": null,
      "outputs": [
        {
          "output_type": "stream",
          "name": "stdout",
          "text": [
            "Eta Kemon Question?\n",
            "Ami ki thik jaygay asi?\n",
            "What is this torture?\n",
            "E kemon bichar?\n",
            "Sir onek kharap\n",
            "Kintu Sheiii Handsome\n"
          ]
        }
      ]
    },
    {
      "cell_type": "code",
      "source": [
        "\n",
        "class C:\n",
        "  def __init__(self):\n",
        "    self.content= 0\n",
        "\n",
        "\n",
        "class A:\n",
        "  temp = 3\n",
        "  def __init__(self):\n",
        "    self.__sum = 0\n",
        "    self.y = 0\n",
        "    self.y = A.temp - 1\n",
        "    self.sum = A.temp + c1.content\n",
        "    A.temp -= 2\n",
        "    c1.content+=1\n",
        "  def methodA(self, m, n):\n",
        "    x = 0\n",
        "    n[0] += 1\n",
        "    self.y = self.y + m + A.temp\n",
        "    A.temp += 1\n",
        "    x = x + 2 + n[0]\n",
        "    n[0] = self.sum + 2\n",
        "    print(f\"{x} {self.y} {self.sum}\")\n",
        "\n",
        "\n",
        "\n",
        "class B(A):\n",
        "  temp = 1\n",
        "  def __init__(self, b = None):\n",
        "    super().__init__()\n",
        "    self.sum = 2\n",
        "    if b == None:\n",
        "      self.y = self.temp + 1\n",
        "      B.temp = 3 + A.temp + self.temp\n",
        "      A.temp -= 2\n",
        "      c1.content+=3\n",
        "    else:\n",
        "      self.sum = self.sum + c1.content\n",
        "      B.temp = b.temp + self.temp\n",
        "      c1.content+=2\n",
        "  def methodB(self, m, n):\n",
        "    y = [0]\n",
        "    self.y = y[0] + self.y + m\n",
        "    B.temp = self.y + 2 + self.temp - n\n",
        "    self.methodA(self.temp, y)\n",
        "    self.sum = self.temp + y[0] + self.sum\n",
        "    print(f\"{self.temp} {y[0]} {self.sum}\")\n",
        "    a2= A()\n",
        "    print(f\"{self.temp} {a2.y} {self.sum}\")\n",
        "\n",
        "\n",
        "c1 = C()\n",
        "x = [23]\n",
        "a1 = A()\n",
        "b1 = B()\n",
        "b2 = B(b1)\n",
        "a1.methodA(1, x)\n",
        "b2.methodB(3, 2)\n",
        "b1.methodA(1, x)"
      ],
      "metadata": {
        "colab": {
          "base_uri": "https://localhost:8080/"
        },
        "id": "yLh-_cAZfglK",
        "outputId": "477e940e-58c5-4b5d-cd53-0b21eca76d20"
      },
      "execution_count": null,
      "outputs": [
        {
          "output_type": "stream",
          "name": "stdout",
          "text": [
            "26 -2 3\n",
            "3 0 8\n",
            "5 10 23\n",
            "5 -4 23\n",
            "8 -2 2\n"
          ]
        }
      ]
    },
    {
      "cell_type": "code",
      "source": [
        "class Exam:\n",
        "    def __init__(self,marks):\n",
        "      self.marks = marks\n",
        "      self.time = 60\n",
        "\n",
        "    def examSyllabus(self):\n",
        "      return \"Maths , English\"\n",
        "\n",
        "    def examParts(self):\n",
        "      return \"Part 1 - Maths\\nPart 2 - English\\n\"\n",
        "\n",
        "class ScienceExam(Exam):\n",
        "    def __init__(self, marks, time, *sub):\n",
        "      super().__init__(marks)\n",
        "      self.time = time\n",
        "      self.sub= sub\n",
        "\n",
        "    def examSyllabus(self):\n",
        "      s= super().examSyllabus()\n",
        "      for i in self.sub:\n",
        "        s+= f\", {i}\"\n",
        "      return s\n",
        "\n",
        "    def examParts(self):\n",
        "      s= super().examParts()\n",
        "      part= 3\n",
        "      for i in self.sub:\n",
        "        s+= f\"Part {part} - {i}\\n\"\n",
        "        part+=1\n",
        "      return s[:-1]\n",
        "\n",
        "    def __str__(self):\n",
        "      return f\"Marks: {self.marks} Time: {self.time} minutes Number of Parts: {2+len(self.sub)}\"\n",
        "\n",
        "\n",
        "engineering = ScienceExam(100,90,\"Physics\",\"HigherMaths\")\n",
        "print(engineering)\n",
        "print('----------------------------------')\n",
        "print(engineering.examSyllabus())\n",
        "print(engineering.examParts())\n",
        "print('==================================')\n",
        "architecture = ScienceExam(100,120,\"Physics\",\"HigherMaths\",\"Drawing\")\n",
        "print(architecture)\n",
        "print('----------------------------------')\n",
        "print(architecture.examSyllabus())\n",
        "print(architecture.examParts())"
      ],
      "metadata": {
        "colab": {
          "base_uri": "https://localhost:8080/"
        },
        "id": "DRdqZsYAph0o",
        "outputId": "8def37a9-890f-4d21-deea-dca40133b236"
      },
      "execution_count": null,
      "outputs": [
        {
          "output_type": "stream",
          "name": "stdout",
          "text": [
            "Marks: 100 Time: 90 minutes Number of Parts: 4\n",
            "----------------------------------\n",
            "Maths , English, Physics, HigherMaths\n",
            "Part 1 - Maths\n",
            "Part 2 - English\n",
            "Part 3 - Physics\n",
            "Part 4 - HigherMaths\n",
            "==================================\n",
            "Marks: 100 Time: 120 minutes Number of Parts: 5\n",
            "----------------------------------\n",
            "Maths , English, Physics, HigherMaths, Drawing\n",
            "Part 1 - Maths\n",
            "Part 2 - English\n",
            "Part 3 - Physics\n",
            "Part 4 - HigherMaths\n",
            "Part 5 - Drawing\n"
          ]
        }
      ]
    },
    {
      "cell_type": "code",
      "source": [
        "class PokemonBasic:\n",
        "  def __init__(self, name = 'Default', hp = 0, weakness = 'None', type = 'Unknown'):\n",
        "    self.name = name\n",
        "    self.hit_point = hp\n",
        "    self.weakness = weakness\n",
        "    self.type = type\n",
        "\n",
        "  def get_type(self):\n",
        "    return 'Main type: ' + self.type\n",
        "\n",
        "  def get_move(self):\n",
        "    return 'Basic move: ' + 'Quick Attack'\n",
        "\n",
        "  def __str__(self):\n",
        "    return \"Name: \" + self.name + \", HP: \" + str(self.hit_point) + \", Weakness: \" + self.weakness\n",
        "\n",
        "class PokemonExtra(PokemonBasic):\n",
        "  def __init__(self, name = 'Default', hp = 0, weakness = 'None', main_type = 'Unknown', *args):\n",
        "    super().__init__(name, hp, weakness, main_type)\n",
        "    self.second_type=None\n",
        "    self.moves=None\n",
        "    if len(args)!=0:\n",
        "      for i in args:\n",
        "        if type(i)==\"str\":\n",
        "          self.second_type= i\n",
        "        else:\n",
        "          self.moves=i\n",
        "\n",
        "  def get_type(self):\n",
        "    s=super().get_type()\n",
        "    if self.second_type!=None:\n",
        "      s+=f\" Secondary type: {self.second_type}\"\n",
        "    return s\n",
        "\n",
        "\n",
        "\n",
        "print('\\n------------Basic Info:--------------')\n",
        "pk = PokemonBasic()\n",
        "print(pk)\n",
        "print(pk.get_type())\n",
        "print(pk.get_move())\n",
        "print('\\n------------Pokemon 1 Info:-------------')\n",
        "charmander = PokemonExtra('Charmander', 39, 'Water','Fire')\n",
        "print(charmander)\n",
        "print(charmander.get_type())\n",
        "print(charmander.get_move())\n",
        "print('\\n------------Pokemon 2 Info:-------------')\n",
        "charizard = PokemonExtra('Charizard', 78, 'Water','Fire', 'Flying', ('Fire Spin', 'Fire Blaze'))\n",
        "print(charizard)\n",
        "print(charizard.get_type())\n",
        "print(charizard.get_move())"
      ],
      "metadata": {
        "id": "qlr3KcIrxl0h"
      },
      "execution_count": null,
      "outputs": []
    },
    {
      "cell_type": "code",
      "source": [
        "class PokemonBasic:\n",
        "  def __init__(self, name = 'Default', hp = 0, weakness = 'None', type = 'Unknown'):\n",
        "    self.name = name\n",
        "    self.hit_point = hp\n",
        "    self.weakness = weakness\n",
        "    self.type = type\n",
        "\n",
        "  def get_type(self):\n",
        "    return 'Main type: ' + self.type\n",
        "\n",
        "  def get_move(self):\n",
        "    return 'Basic move: ' + 'Quick Attack'\n",
        "\n",
        "  def __str__(self):\n",
        "    return \"Name: \" + self.name + \", HP: \" + str(self.hit_point) + \", Weakness: \" + self.weakness\n",
        "\n",
        "class PokemonExtra(PokemonBasic):\n",
        "  def __init__(self, name = 'Default', hp = 0, weakness = 'None', main_type = 'Unknown', *args):\n",
        "    super().__init__(name, hp, weakness, main_type)\n",
        "    self.second_type=None\n",
        "    self.moveset= None\n",
        "    if len(args)==1:\n",
        "      self.second_type= args[0]\n",
        "    elif len(args)==2:\n",
        "      self.moveset= args[1]\n",
        "      self.second_type= args[0]\n",
        "\n",
        "  def get_type(self):\n",
        "    s=super().get_type()\n",
        "    if self.second_type!=None:\n",
        "      s+=f\", Secondary type: {self.second_type}\"\n",
        "    return s\n",
        "\n",
        "  def get_move(self):\n",
        "    s=super().get_move()+f\"\\n\"\n",
        "    if self.moveset!=None:\n",
        "      s+=f\"Other move:\"\n",
        "      for i in self.moveset:\n",
        "        s+= f\" {i},\"\n",
        "    return s[:-1]\n",
        "\n",
        "\n",
        "print('\\n------------Basic Info:--------------')\n",
        "pk = PokemonBasic()\n",
        "print(pk)\n",
        "print(pk.get_type())\n",
        "print(pk.get_move())\n",
        "print('\\n------------Pokemon 1 Info:-------------')\n",
        "charmander = PokemonExtra('Charmander', 39, 'Water','Fire')\n",
        "print(charmander)\n",
        "print(charmander.get_type())\n",
        "print(charmander.get_move())\n",
        "print('\\n------------Pokemon 2 Info:-------------')\n",
        "charizard = PokemonExtra('Charizard', 78, 'Water','Fire', 'Flying', ('Fire Spin', 'Fire Blaze'))\n",
        "print(charizard)\n",
        "print(charizard.get_type())\n",
        "print(charizard.get_move())"
      ],
      "metadata": {
        "colab": {
          "base_uri": "https://localhost:8080/"
        },
        "id": "OTAHZTrb0Xua",
        "outputId": "31d0b0c4-ec97-4fba-9b61-633144239ea7"
      },
      "execution_count": null,
      "outputs": [
        {
          "output_type": "stream",
          "name": "stdout",
          "text": [
            "\n",
            "------------Basic Info:--------------\n",
            "Name: Default, HP: 0, Weakness: None\n",
            "Main type: Unknown\n",
            "Basic move: Quick Attack\n",
            "\n",
            "------------Pokemon 1 Info:-------------\n",
            "Name: Charmander, HP: 39, Weakness: Water\n",
            "Main type: Fire\n",
            "Basic move: Quick Attack\n",
            "\n",
            "------------Pokemon 2 Info:-------------\n",
            "Name: Charizard, HP: 78, Weakness: Water\n",
            "Main type: Fire, Secondary type: Flying\n",
            "Basic move: Quick Attack\n",
            "Other move: Fire Spin, Fire Blaze\n"
          ]
        }
      ]
    },
    {
      "cell_type": "code",
      "source": [
        "class Exam:\n",
        "    def __init__(self,marks):\n",
        "      self.marks = marks\n",
        "      self.time = 60\n",
        "\n",
        "    def examSyllabus(self):\n",
        "      return \"Maths , English\"\n",
        "\n",
        "    def examParts(self):\n",
        "      return \"Part 1 - Maths\\nPart 2 - English\\n\"\n",
        "\n",
        "class ScienceExam(Exam):\n",
        "    def __init__(self, marks, time, *sub):\n",
        "      super().__init__(marks)\n",
        "      self.time= time\n",
        "      self.sub= sub\n",
        "\n",
        "    def examSyllabus(self):\n",
        "      s= super().examSyllabus()\n",
        "      for i in self.sub:\n",
        "        s+= f\" , {i}\"\n",
        "      return s\n",
        "\n",
        "    def examParts(self):\n",
        "      s= super().examParts()\n",
        "      part= 3\n",
        "      for i in self.sub:\n",
        "        s+= f\"Part {part} - {i}\\n\"\n",
        "        part+=1\n",
        "      return s\n",
        "\n",
        "    def __str__(self):\n",
        "      return f\"Marks: {self.marks} Time: {self.time} minutes Number of Parts: {len(self.sub)+2}\"\n",
        "\n",
        "engineering = ScienceExam(100,90,\"Physics\",\"HigherMaths\")\n",
        "print(engineering)\n",
        "print('----------------------------------')\n",
        "print(engineering.examSyllabus())\n",
        "print(engineering.examParts())\n",
        "print('==================================')\n",
        "architecture = ScienceExam(100,120,\"Physics\",\"HigherMaths\",\"Drawing\")\n",
        "print(architecture)\n",
        "print('----------------------------------')\n",
        "print(architecture.examSyllabus())\n",
        "print(architecture.examParts())"
      ],
      "metadata": {
        "colab": {
          "base_uri": "https://localhost:8080/"
        },
        "id": "89dPQEXYt0vd",
        "outputId": "c83b8c90-cb75-494d-9bfe-b7aee1bf70ef"
      },
      "execution_count": null,
      "outputs": [
        {
          "output_type": "stream",
          "name": "stdout",
          "text": [
            "Marks: 100 Time: 90 minutes Number of Parts: 4\n",
            "----------------------------------\n",
            "Maths , English , Physics , HigherMaths\n",
            "Part 1 - Maths\n",
            "Part 2 - English\n",
            "Part 3 - Physics\n",
            "Part 4 - HigherMaths\n",
            "\n",
            "==================================\n",
            "Marks: 100 Time: 120 minutes Number of Parts: 5\n",
            "----------------------------------\n",
            "Maths , English , Physics , HigherMaths , Drawing\n",
            "Part 1 - Maths\n",
            "Part 2 - English\n",
            "Part 3 - Physics\n",
            "Part 4 - HigherMaths\n",
            "Part 5 - Drawing\n",
            "\n"
          ]
        }
      ]
    },
    {
      "cell_type": "code",
      "source": [
        "class A:\n",
        "  def __init__(self, x, y):\n",
        "    self.x = x\n",
        "    self.y = y\n",
        "    print(\"Lets go!\", self.x)\n",
        "\n",
        "  def mA(self):\n",
        "    self.x+= 5+self.x+self.y\n",
        "    print(\"Class A Method A\", self.x)\n",
        "\n",
        "class B(A):\n",
        "  def __init__(self, x=1, y=5):\n",
        "    super().__init__(y, x)\n",
        "    print(\"Thats right\", self.x)\n",
        "\n",
        "  def mB(self, b=None):\n",
        "    print(\"Class B Method B\", self.y)\n",
        "    super().mA()\n",
        "    if b==None:\n",
        "      print(self.x)\n",
        "    else:\n",
        "      print(b.x)\n",
        "\n",
        "a1= A(3,4)\n",
        "a1.mA()\n",
        "b1= B(2,1)\n",
        "b1.mB()\n",
        "b2= B(3)\n",
        "b2.mB(b1)"
      ],
      "metadata": {
        "colab": {
          "base_uri": "https://localhost:8080/"
        },
        "id": "FNIGGzbjbIc3",
        "outputId": "57475c2f-09f9-43f7-88fa-6e4557fd104d"
      },
      "execution_count": null,
      "outputs": [
        {
          "output_type": "stream",
          "name": "stdout",
          "text": [
            "Lets go! 3\n",
            "Class A Method A 15\n",
            "Lets go! 1\n",
            "Thats right 1\n",
            "Class B Method B 2\n",
            "Class A Method A 9\n",
            "9\n",
            "Lets go! 5\n",
            "Thats right 5\n",
            "Class B Method B 3\n",
            "Class A Method A 18\n",
            "9\n"
          ]
        }
      ]
    },
    {
      "cell_type": "code",
      "source": [
        "class A:\n",
        "  def __init__(self, x, y):\n",
        "    self.x = x\n",
        "    self.y = y\n",
        "    self.z=100\n",
        "    print(\"Lets go!\", self.x)\n",
        "\n",
        "  def mA(self):\n",
        "    self.x+= 5+self.x+self.y\n",
        "    print(\"Class A Method A\", self.x)\n",
        "    self.mB()\n",
        "\n",
        "  def mB(self):\n",
        "    print(\"Class A Method B\", self.y)\n",
        "\n",
        "class B(A):\n",
        "  def __init__(self, x, y=5):\n",
        "    super().__init__(y, x) #3,2\n",
        "    print(\"Thats right\", self.x)\n",
        "    self.z= 90\n",
        "\n",
        "  def mB(self):\n",
        "    print(\"Class B Method B\", self.z)\n",
        "\n",
        "a1= A(3,4)\n",
        "a1.mA()\n",
        "b1= B(2,3)\n",
        "b1.mA()"
      ],
      "metadata": {
        "colab": {
          "base_uri": "https://localhost:8080/"
        },
        "id": "xqclXmoyZ1ar",
        "outputId": "d16c34e4-58ae-4900-c1d3-9c6bb63ad755"
      },
      "execution_count": null,
      "outputs": [
        {
          "output_type": "stream",
          "name": "stdout",
          "text": [
            "Lets go! 3\n",
            "Class A Method A 15\n",
            "Class A Method B 4\n",
            "Lets go! 3\n",
            "Thats right 3\n",
            "Class A Method A 13\n",
            "Class B Method B 90\n"
          ]
        }
      ]
    }
  ]
}