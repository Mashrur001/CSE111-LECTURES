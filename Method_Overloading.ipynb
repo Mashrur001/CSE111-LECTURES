{
  "nbformat": 4,
  "nbformat_minor": 0,
  "metadata": {
    "colab": {
      "provenance": [],
      "include_colab_link": true
    },
    "kernelspec": {
      "name": "python3",
      "display_name": "Python 3"
    },
    "language_info": {
      "name": "python"
    }
  },
  "cells": [
    {
      "cell_type": "markdown",
      "metadata": {
        "id": "view-in-github",
        "colab_type": "text"
      },
      "source": [
        "<a href=\"https://colab.research.google.com/github/Mashrur001/CSE111-LECTURES/blob/main/Method_Overloading.ipynb\" target=\"_parent\"><img src=\"https://colab.research.google.com/assets/colab-badge.svg\" alt=\"Open In Colab\"/></a>"
      ]
    },
    {
      "cell_type": "code",
      "execution_count": null,
      "metadata": {
        "colab": {
          "base_uri": "https://localhost:8080/"
        },
        "id": "FuNCvScrra94",
        "outputId": "3a2f7c78-29af-4bbf-85a5-7f51fdb07c65"
      },
      "outputs": [
        {
          "output_type": "stream",
          "name": "stdout",
          "text": [
            "41\n",
            "71\n",
            "\n",
            "\n"
          ]
        }
      ],
      "source": [
        "class A:\n",
        "  def __init__(self, z):\n",
        "    if z<10:\n",
        "      self.x= 5\n",
        "      self.y= 10\n",
        "    else:\n",
        "      self.x= 15\n",
        "      self.y= 1\n",
        "\n",
        "  def mA(self, x):\n",
        "    z= self.mB(x)+self.x\n",
        "    print(z)\n",
        "    z= self.x+self.mB(x)+self.x #\n",
        "    print(z)\n",
        "\n",
        "  def mB(self, x):\n",
        "    self.x+=x\n",
        "    return self.x+self.y\n",
        "\n",
        "  def mC(self, w):\n",
        "    print(w.x)\n",
        "    print(self.x)\n",
        "    q= A(10)\n",
        "    print(q.x+self.x)\n",
        "\n",
        "a1= A(15)\n",
        "a1.mA(5)\n",
        "a2= A(5)\n",
        "a2.mC(a1)"
      ]
    },
    {
      "cell_type": "code",
      "source": [
        "d={\"A\": {\"B\": 5}}\n",
        "d1={}\n",
        "for i in range(5):\n",
        "  d1[i]={}\n",
        "  for j in range(3):\n",
        "    d1[i][j]= i+j\n",
        "print(d1)"
      ],
      "metadata": {
        "colab": {
          "base_uri": "https://localhost:8080/"
        },
        "id": "_JRTHQl385x_",
        "outputId": "c89495ed-10b9-4f3a-bd8f-55b2de01e0fa"
      },
      "execution_count": null,
      "outputs": [
        {
          "output_type": "stream",
          "name": "stdout",
          "text": [
            "{0: {0: 0, 1: 1, 2: 2}, 1: {0: 1, 1: 2, 2: 3}, 2: {0: 2, 1: 3, 2: 4}, 3: {0: 3, 1: 4, 2: 5}, 4: {0: 4, 1: 5, 2: 6}}\n"
          ]
        }
      ]
    },
    {
      "cell_type": "code",
      "source": [
        "#Selection sort\n",
        "l=[1,5,3,2]\n",
        "for i in range(len(l)):\n",
        "  max= l[i]\n",
        "  max_idx= i\n",
        "\n",
        "  for j in range(i,len(l)):\n",
        "    if l[j]< max:\n",
        "      max= l[j]\n",
        "      max_idx=j\n",
        "  l[i], l[max_idx]= l[max_idx], l[i]\n",
        "\n",
        "print(l)"
      ],
      "metadata": {
        "colab": {
          "base_uri": "https://localhost:8080/"
        },
        "id": "o20r0qz09cZ8",
        "outputId": "d96d1aa8-3d2c-42d0-c10e-c3e4f0fb6fef"
      },
      "execution_count": null,
      "outputs": [
        {
          "output_type": "stream",
          "name": "stdout",
          "text": [
            "[1, 2, 3, 5]\n"
          ]
        }
      ]
    },
    {
      "cell_type": "code",
      "source": [
        "class msgClass:\n",
        "    def __init__(self):\n",
        "        self.content = 0\n",
        "\n",
        "class Q5:\n",
        "    def __init__(self,z):\n",
        "        self.sum = 1\n",
        "        self.x = 2\n",
        "        self.y = 3\n",
        "        self.z = z\n",
        "\n",
        "    def methodA(self):\n",
        "        x, y = 1, 1\n",
        "        msg = []\n",
        "        myMsg = msgClass()\n",
        "        myMsg.content = self.x\n",
        "        msg.append(myMsg)\n",
        "        msg[0].content = self.y + myMsg.content\n",
        "        self.y = self.y + self.methodB(self.z, msg[0])\n",
        "        y = self.methodB(self.z, msg[0]) + self.y\n",
        "        x = y + self.methodB(self.z, msg[0], msg)\n",
        "        self.sum = x + y + msg[0].content\n",
        "        print(x,\" \", y,\" \", self.sum,\" \",self.z[0])\n",
        "\n",
        "    def methodB(self, mg0, mg1, mg2 = None):\n",
        "        if mg2 == None:\n",
        "            x, y = 5, 6\n",
        "            y = self.sum + mg1.content\n",
        "            self.y = y + mg1.content\n",
        "            x = self.x + 7 +mg1.content\n",
        "            self.sum = self.sum + x + y\n",
        "            self.x = mg1.content + x +8\n",
        "            mg0[0]+=2\n",
        "            print(x, \" \", y,\" \", self.sum)\n",
        "            return y\n",
        "        else:\n",
        "            x = 1\n",
        "            self.y += mg2[0].content\n",
        "            mg2[0].content = self.y + mg1.content\n",
        "            x = x + 4 + mg1.content\n",
        "            self.sum += x + self.y\n",
        "            mg1.content = self.sum - mg2[0].content\n",
        "            print(self.x, \" \",self.y,\" \", self.sum)\n",
        "            return self.sum\n",
        "\n",
        "q = Q5([5])\n",
        "q.methodA()\n"
      ],
      "metadata": {
        "id": "gr-Tj_5-J2t5"
      },
      "execution_count": null,
      "outputs": []
    },
    {
      "cell_type": "code",
      "source": [
        "class msgClass:\n",
        "    def __init__(self):\n",
        "        self.content = 2\n",
        "\n",
        "class Q5:\n",
        "    def __init__(self,z):\n",
        "        self.sum = 0\n",
        "        self.x = 1\n",
        "        self.y = 2\n",
        "        self.z = z\n",
        "\n",
        "    def methodA(self):\n",
        "        x, y = 0, 1\n",
        "        msg = []\n",
        "        myMsg = msgClass()\n",
        "        myMsg.content = self.x\n",
        "        msg.append(myMsg)\n",
        "        msg[0].content = self.y + myMsg.content\n",
        "        self.y = self.y + self.methodB(self.z, msg[0])\n",
        "        y = self.methodB(self.z, msg[0]) + self.y\n",
        "        x = y + self.methodB(self.z, msg[0], msg)\n",
        "        self.sum = x + y + msg[0].content\n",
        "        print(x,\" \", y,\" \", self.sum,\" \",self.z[0])\n",
        "\n",
        "    def methodB(self, mg0, mg1, mg2 = None):\n",
        "        if mg2 == None:\n",
        "            x, y = 2, 3\n",
        "            mg1.x=x+y\n",
        "            y = self.sum + mg1.content\n",
        "            self.y = y + mg1.content\n",
        "            x = self.x + 7 +mg1.content\n",
        "            self.sum = self.sum + x + y\n",
        "            self.x = mg1.content + x +8\n",
        "            mg0[0]+=2\n",
        "            print(x, \" \", y,\" \", self.sum)\n",
        "            return y\n",
        "        else:\n",
        "            x = 1\n",
        "            self.y += mg2[0].content\n",
        "            mg2[0].content = self.y + mg1.content\n",
        "            self.x = x + self.x + mg1.x\n",
        "            self.sum += x + self.y\n",
        "            mg1.content = self.sum - mg2[0].content\n",
        "            print(self.x, \" \",self.y,\" \", self.sum)\n",
        "            return self.sum\n",
        "\n",
        "q = Q5([2])\n",
        "q.methodA()"
      ],
      "metadata": {
        "colab": {
          "base_uri": "https://localhost:8080/"
        },
        "id": "sjSLud5XKA4_",
        "outputId": "2cf14897-3ffb-4622-dc37-891f08169184"
      },
      "execution_count": null,
      "outputs": [
        {
          "output_type": "stream",
          "name": "stdout",
          "text": [
            "11   3   14\n",
            "32   17   63\n",
            "49   23   87\n",
            "124   37   222   6\n"
          ]
        }
      ]
    }
  ]
}