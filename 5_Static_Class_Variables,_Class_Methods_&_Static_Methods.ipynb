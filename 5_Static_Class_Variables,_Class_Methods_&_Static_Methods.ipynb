{
  "nbformat": 4,
  "nbformat_minor": 0,
  "metadata": {
    "colab": {
      "provenance": [],
      "include_colab_link": true
    },
    "kernelspec": {
      "name": "python3",
      "display_name": "Python 3"
    },
    "language_info": {
      "name": "python"
    }
  },
  "cells": [
    {
      "cell_type": "markdown",
      "metadata": {
        "id": "view-in-github",
        "colab_type": "text"
      },
      "source": [
        "<a href=\"https://colab.research.google.com/github/Mashrur001/CSE111-LECTURES/blob/main/5_Static_Class_Variables%2C_Class_Methods_%26_Static_Methods.ipynb\" target=\"_parent\"><img src=\"https://colab.research.google.com/assets/colab-badge.svg\" alt=\"Open In Colab\"/></a>"
      ]
    },
    {
      "cell_type": "markdown",
      "source": [
        "# Instance Variables\n",
        "1. Declared inside a class\n",
        "2. Inside of a method\n",
        "3. Dependent of the Objects (Each object will have its own  copy of one instance variable)\n",
        "4. Cannot be accessed without creating an object\n",
        "4. Can be called using the objects"
      ],
      "metadata": {
        "id": "_NG-XwzdMB4I"
      }
    },
    {
      "cell_type": "markdown",
      "source": [
        "# Static/Class Variables\n",
        "1. Declared inside a class\n",
        "2. Outside of all methods\n",
        "3. Independent of the Objects (For all objects there will be only one copy of one class/static variable)\n",
        "4. Belongs to the Class, and can be accessed without creating an object\n",
        "5. Can be called using the class name\n",
        "6. For any number of objects the class variable remains the same"
      ],
      "metadata": {
        "id": "NYDdG1PSLqog"
      }
    },
    {
      "cell_type": "code",
      "source": [
        "class W:\n",
        "  x= 1\n",
        "  def __init__(self, a , b):\n",
        "    self.a=a\n",
        "    self.b=b\n",
        "    W.x+=1\n",
        "\n",
        "  def mA(self):\n",
        "    self.a+= self.b + W.x\n",
        "    self.mB()\n",
        "\n",
        "  def mB(self, c=1):\n",
        "    self.b+= self.a - W.x+ c\n",
        "    print(self.a, self.b)\n",
        "\n",
        "w1= W(5,4)\n",
        "print(w1.a)\n",
        "w1.mA()\n",
        "w2= W(2,3)\n",
        "w2.mB(w2.x) #3\n",
        "w2.mB(W.x)"
      ],
      "metadata": {
        "colab": {
          "base_uri": "https://localhost:8080/"
        },
        "id": "4tO3iHMOq06J",
        "outputId": "9658fa44-b182-40a2-adf0-73b5e86bbcb8"
      },
      "execution_count": null,
      "outputs": [
        {
          "output_type": "stream",
          "name": "stdout",
          "text": [
            "5\n",
            "11 14\n",
            "2 5\n",
            "2 7\n"
          ]
        }
      ]
    },
    {
      "cell_type": "code",
      "source": [
        "class W:\n",
        "  x= 1\n",
        "  def __init__(self, a , b):\n",
        "    self.a=a\n",
        "    self.b=b\n",
        "    W.x+=1\n",
        "\n",
        "  def mA(self):\n",
        "    self.a+= self.b+W.x\n",
        "    self.mB()\n",
        "\n",
        "  def mB(self, c=1):\n",
        "    self.b+= self.a-W.x+ c\n",
        "    print(self.a, self.b)\n",
        "\n",
        "class P(W):\n",
        "  x= 1\n",
        "  def __init__(self, a , b):\n",
        "    super().__init__(a,b)\n",
        "    self.x= a+b\n",
        "    print(super().a)\n",
        "\n",
        "  def mB(self, c=5):\n",
        "    self.b+= self.a - super().x + self.x\n",
        "    print(self.a, self.b)\n",
        "\n",
        "w1= W(5,4)\n",
        "print(w1.a)\n",
        "w1.mA()\n",
        "p1= P(2,3)\n",
        "p1.mB(w1.x)\n",
        "p1.mA()"
      ],
      "metadata": {
        "colab": {
          "base_uri": "https://localhost:8080/"
        },
        "id": "h5uNjQtxsWUZ",
        "outputId": "595d0d1c-eed5-4e86-edea-0e69badf995d"
      },
      "execution_count": null,
      "outputs": [
        {
          "output_type": "stream",
          "name": "stdout",
          "text": [
            "5\n",
            "11 14\n",
            "3\n",
            "2 7\n",
            "12 21\n"
          ]
        }
      ]
    },
    {
      "cell_type": "code",
      "execution_count": null,
      "metadata": {
        "colab": {
          "base_uri": "https://localhost:8080/"
        },
        "id": "2c4LE5MILFX9",
        "outputId": "a942dddf-8810-4e0c-93af-572509414637"
      },
      "outputs": [
        {
          "output_type": "stream",
          "name": "stdout",
          "text": [
            "Pearl\n",
            "Pink\n",
            "Pink\n",
            "=========\n",
            "Oreo\n",
            "Pink\n",
            "Pink\n"
          ]
        }
      ],
      "source": [
        "class A:\n",
        "  last_name= \"Pink\" #Class/Static Variable\n",
        "\n",
        "  def __init__(self, first_name=\"Pearl\"):\n",
        "    self.first_name= first_name #Instance Variable\n",
        "\n",
        "a= A() #Object/Instance created\n",
        "print(a.first_name) #Calling instance variables using instance\n",
        "print(A.last_name) #Calling class variable using class name\n",
        "print(a.last_name) #Calling class variable using instance\n",
        "print(\"=========\")\n",
        "b= A(\"Oreo\") #Object/Instance created\n",
        "print(b.first_name) #Calling instance variable using instance\n",
        "print(A.last_name) #Calling class variable using class name\n",
        "print(b.last_name) #Calling class variable using instance\n",
        "#As you can see, Class variable is same for all instances"
      ]
    },
    {
      "cell_type": "markdown",
      "source": [
        "#Instance Methods\n",
        "1. Declared inside a class\n",
        "2. Must have **self** as its first parameter\n",
        "3. Dependent of the Objects (Each object will have its own copy of one instance method)\n",
        "4. Cannot be accessed without creating an object\n",
        "4. Can be called using the objects\n",
        "5. No decorator needed\n",
        "6. Can only modify the instance variables"
      ],
      "metadata": {
        "id": "GdHUP8c5OVET"
      }
    },
    {
      "cell_type": "markdown",
      "source": [
        "#Class Methods\n",
        "1. Declared inside a class\n",
        "2. Must have **cls** as its first parameter\n",
        "3. Independent of the Objects (All object will have the same class method)\n",
        "4. Can be accessed without creating an object\n",
        "4. Can be called using the class name\n",
        "5. **@classmethod** decorator needed\n",
        "6. Can only modify the class variables\n",
        "8. Can call other static methods"
      ],
      "metadata": {
        "id": "pOOKzJs4Orl3"
      }
    },
    {
      "cell_type": "markdown",
      "source": [
        "# Static Methods\n",
        "1. Declared inside a class\n",
        "2. No need to have **self** or **cls** as its first parameter\n",
        "3. Independent of the Objects (All object will have the same static method)\n",
        "4. Can be accessed with or without creating an object through another class method, class name or any of the instances\n",
        "6. **@staticmethod** decorator needed\n",
        "7. Cannot modify the class or any instance variables"
      ],
      "metadata": {
        "id": "CviQF27VQqfn"
      }
    },
    {
      "cell_type": "code",
      "source": [
        "class Dictator:\n",
        "  nadal= 0\n",
        "  zoey= 0\n",
        "  def __init__(self, denise=0):\n",
        "    self.denise= denise\n",
        "\n",
        "  def methodA(self): #Instance Method\n",
        "    print(\"Instance Method A Executed:\", self.denise)\n",
        "    self.denise+=1\n",
        "    self.methodC()\n",
        "\n",
        "  @classmethod\n",
        "  def methodB(cls):\n",
        "    cls.nadal+=1\n",
        "    print(\"Class Method B Executed:\", cls.nadal)\n",
        "    cls.methodC() #Accessing static method from another class method\n",
        "\n",
        "  @staticmethod\n",
        "  def methodC():\n",
        "    print(\"Static Method C Executed:\", Dictator.zoey)\n",
        "    Dictator.zoey+=1\n",
        "    Dictator.methodD()\n",
        "\n",
        "  @staticmethod\n",
        "  def methodD():\n",
        "    print(\"Static Method D Executed\", Dictator.zoey)\n",
        "    Dictator.zoey+=1\n",
        "\n",
        "aladeen= Dictator()\n",
        "tamir= Dictator(20)\n",
        "print(aladeen.denise, tamir.denise)\n",
        "aladeen.methodA() #Accessing instance method through an instance\n",
        "tamir.methodA() #Accessing instance method through an instance\n",
        "print(Dictator.nadal, Dictator.zoey)\n",
        "Dictator.methodB() #Accessing class method using class name\n",
        "aladeen.methodB() #Accessing class method using one of the objects\n",
        "Dictator.methodC() #Accessing static method using class name\n",
        "tamir.methodC() #Accessing static method using one of the objects"
      ],
      "metadata": {
        "colab": {
          "base_uri": "https://localhost:8080/"
        },
        "id": "NGq_KbumRQJm",
        "outputId": "532ee59f-d6aa-4e0c-823c-2824ff422055"
      },
      "execution_count": null,
      "outputs": [
        {
          "output_type": "stream",
          "name": "stdout",
          "text": [
            "0 20\n",
            "Instance Method A Executed: 0\n",
            "Static Method C Executed: 0\n",
            "Static Method D Executed 1\n",
            "Instance Method A Executed: 20\n",
            "Static Method C Executed: 2\n",
            "Static Method D Executed 3\n",
            "0 4\n",
            "Class Method B Executed: 1\n",
            "<__main__.Dictator object at 0x7c534bd80e20>\n",
            "Static Method C Executed: 4\n",
            "Static Method D Executed 5\n",
            "Class Method B Executed: 2\n",
            "None\n",
            "Static Method C Executed: 6\n",
            "Static Method D Executed 7\n",
            "Static Method C Executed: 8\n",
            "Static Method D Executed 9\n",
            "Static Method C Executed: 10\n",
            "Static Method D Executed 11\n"
          ]
        }
      ]
    },
    {
      "cell_type": "code",
      "source": [
        "class Student:\n",
        "  student_no= 0\n",
        "  student_capacity= 5\n",
        "\n",
        "  def __init__(self, name, id):\n",
        "    self.name= name\n",
        "    self.id= id\n",
        "    Student.student_no+=1\n",
        "\n",
        "  @classmethod\n",
        "  def student_cap_update(cls, new_cap):\n",
        "    cls.student_capacity= new_cap\n",
        "\n",
        "  def changeId(self, n):\n",
        "    Student.student_capacity+=5\n",
        "\n",
        "s1=Student(\"Orange\", 11)\n",
        "print(Student.student_no)\n",
        "s2=Student(\"Black\", 13)\n",
        "print(Student.student_no)\n",
        "Student.student_capacity+=5\n",
        "print(Student.student_capacity)\n",
        "Student.student_cap_update(15)\n",
        "print(Student.student_capacity)\n",
        "s2.changeId(615)\n",
        "print(Student.student_capacity)"
      ],
      "metadata": {
        "colab": {
          "base_uri": "https://localhost:8080/"
        },
        "id": "rMgv3t5CUkRt",
        "outputId": "85fc7a13-35af-4aa3-ced2-e05a26b09b0a"
      },
      "execution_count": null,
      "outputs": [
        {
          "output_type": "stream",
          "name": "stdout",
          "text": [
            "1\n",
            "2\n",
            "10\n",
            "15\n",
            "20\n"
          ]
        }
      ]
    },
    {
      "cell_type": "code",
      "source": [
        "#Trace the following Code\n",
        "class GothGurls:\n",
        "  goth_count=0\n",
        "\n",
        "  def __init__(self, name=\"Fade\",std_id=-1):\n",
        "    self.name= name\n",
        "    self.std_id= std_id\n",
        "    GothGurls.goth_count+=1\n",
        "\n",
        "  def printInfo(self):\n",
        "    print(f\"Name: {self.name}, Student ID: {self.std_id}\")\n",
        "    print(f\"Total Goth Gurls so far: {GothGurls.goth_count}\")\n",
        "\n",
        "gg1= GothGurls(\"Binita\", 21)\n",
        "gg1.printInfo()\n",
        "print(\"=======1=======\")\n",
        "gg2= GothGurls(\"Nishpra\", 696)\n",
        "gg2.printInfo()\n",
        "print(\"=======2=======\")\n",
        "gg3= GothGurls(\"Anika\", 71)\n",
        "gg3.printInfo()\n",
        "print(\"=======3=======\")\n",
        "print(GothGurls.goth_count)\n",
        "print(f\"{gg1.goth_count} {gg2.goth_count} {gg3.goth_count}\")\n",
        "gg1.goth_count+=1\n",
        "print(f\"{gg1.goth_count} {gg2.goth_count} {gg3.goth_count}\")\n",
        "GothGurls.goth_count+=1\n",
        "print(f\"{gg1.goth_count} {gg2.goth_count} {gg3.goth_count}\")"
      ],
      "metadata": {
        "colab": {
          "base_uri": "https://localhost:8080/"
        },
        "id": "1wtgy39J4jHY",
        "outputId": "7d692899-d4d5-474a-bea2-d3c0a4a37e52"
      },
      "execution_count": null,
      "outputs": [
        {
          "output_type": "stream",
          "name": "stdout",
          "text": [
            "Name: Binita, Student ID: 21\n",
            "Total Goth Gurls so far: 1\n",
            "=======1=======\n",
            "Name: Nishpra, Student ID: 696\n",
            "Total Goth Gurls so far: 2\n",
            "=======2=======\n",
            "Name: Anika, Student ID: 71\n",
            "Total Goth Gurls so far: 3\n",
            "=======3=======\n",
            "3\n",
            "3 3 3\n",
            "4 3 3\n",
            "4 4 4\n"
          ]
        }
      ]
    },
    {
      "cell_type": "code",
      "source": [
        "class Drugs:\n",
        "  drug_type=0\n",
        "\n",
        "  def __init__(self, dealer=\"Snoop Dogg\",drug=\"Weed\"):\n",
        "    self.dealer= dealer\n",
        "    self.drug= drug\n",
        "    Drugs.drug_type+=1\n",
        "\n",
        "  def printInfo(self):\n",
        "    print(f\"Dealer {self.dealer} sells {self.drug}\")\n",
        "    print(f\"Total types of different drugs: {Drugs.drug_type}\")\n",
        "\n",
        "d1= Drugs()\n",
        "d1.printInfo()\n",
        "print(\"=======1=======\")\n",
        "d2= Drugs(\"Ayman\", \"LSD\")\n",
        "d2.printInfo()\n",
        "print(\"=======2=======\")\n",
        "d3= Drugs(\"Kibria\", \"Shoe Gum\")\n",
        "d3.printInfo()\n",
        "print(\"=======3=======\")\n",
        "d4= Drugs(\"Ruhani\", \"Meth\")\n",
        "d4.printInfo()\n",
        "print(Drugs.drug_type)\n",
        "print(f\"{d1.drug_type} {d2.drug_type} {d3.drug_type}\")\n",
        "d1.drug_type+=d2.drug_type\n",
        "print(f\"{d1.drug_type} {d2.drug_type} {d3.drug_type}\")\n",
        "Drugs.drug_type+=d1.drug_type\n",
        "print(f\"{d1.drug_type} {d2.drug_type} {d3.drug_type}\")\n",
        "print(f\"Hugs not Drugs!\")"
      ],
      "metadata": {
        "colab": {
          "base_uri": "https://localhost:8080/"
        },
        "id": "eiTaDHnA-SRT",
        "outputId": "eac44588-d851-4473-e0b1-ece8cf0c7d6b"
      },
      "execution_count": null,
      "outputs": [
        {
          "output_type": "stream",
          "name": "stdout",
          "text": [
            "Dealer Snoop Dogg sells Weed\n",
            "Total types of different drugs: 1\n",
            "=======1=======\n",
            "Dealer Ayman sells LSD\n",
            "Total types of different drugs: 2\n",
            "=======2=======\n",
            "Dealer Kibria sells Shoe Gum\n",
            "Total types of different drugs: 3\n",
            "=======3=======\n",
            "Dealer Ruhani sells Meth\n",
            "Total types of different drugs: 4\n",
            "4\n",
            "4 4 4\n",
            "8 4 4\n",
            "8 12 12\n",
            "Hugs not Drugs!\n"
          ]
        }
      ]
    },
    {
      "cell_type": "code",
      "source": [
        "class JamesBond:\n",
        "  #Your Code Here\n",
        "  number= 0\n",
        "  bond_girls=[]\n",
        "\n",
        "  def __init__(self, name=\"Roger Moore\", weapon=\"Golden gun\"):\n",
        "    self.name=name\n",
        "    self.weapon=weapon\n",
        "    JamesBond.number+=1\n",
        "    JamesBond.need_help()\n",
        "\n",
        "  @classmethod\n",
        "  def add_bond_girls(cls, *girls):\n",
        "    cls.bond_girls+= list(girls)\n",
        "    print(f\"New bond girl(s) added\")\n",
        "\n",
        "  @staticmethod\n",
        "  def need_help():\n",
        "    print(\"Call 007!\")\n",
        "\n",
        "  def print_details(self):\n",
        "    print(f\"Total James Bond(s): {JamesBond.number}\")\n",
        "    print(f\"Bond girls:\")\n",
        "    for i in JamesBond.bond_girls:\n",
        "      print(i)\n",
        "    print(f\"Current James Bond: {self.name} and his weapon: {self.weapon}\")\n",
        "\n",
        "JamesBond.need_help()\n",
        "print(f\"Total James Bond(s): {JamesBond.number}\")\n",
        "jb1= JamesBond()\n",
        "jb1.bond_girls+=[\"Honey Ryder\",\"Tatiana Romanova\"]\n",
        "JamesBond.add_bond_girls(\"Elektra King\")\n",
        "jb1.print_details()\n",
        "print(\"===========1===========\")\n",
        "jb2= JamesBond(\"Daniel Craig\")\n",
        "jb2.bond_girls=[]\n",
        "jb2.add_bond_girls(\"Paloma\",\"Jinx\")\n",
        "print(jb2.bond_girls)\n",
        "jb2.print_details()\n",
        "print(\"===========2===========\")\n",
        "jb3= JamesBond(\"Sean Connery\",\"Walther PPK\")\n",
        "print(jb3.name)\n",
        "print(jb3.weapon)\n",
        "JamesBond.bond_girls=[]\n",
        "jb3.add_bond_girls(\"Madeleine Swann\")\n",
        "print(jb2.bond_girls)\n",
        "jb3.print_details()"
      ],
      "metadata": {
        "colab": {
          "base_uri": "https://localhost:8080/"
        },
        "id": "p80gO2iI_v_y",
        "outputId": "e87b3947-e159-46bd-b9a0-b1dfabaec38e"
      },
      "execution_count": null,
      "outputs": [
        {
          "output_type": "stream",
          "name": "stdout",
          "text": [
            "Call 007!\n",
            "Total James Bond(s): 0\n",
            "Call 007!\n",
            "New bond girl(s) added\n",
            "Total James Bond(s): 1\n",
            "Bond girls:\n",
            "Honey Ryder\n",
            "Tatiana Romanova\n",
            "Elektra King\n",
            "Current James Bond: Roger Moore and his weapon: Golden gun\n",
            "===========1===========\n",
            "Call 007!\n",
            "New bond girl(s) added\n",
            "[]\n",
            "Total James Bond(s): 2\n",
            "Bond girls:\n",
            "Honey Ryder\n",
            "Tatiana Romanova\n",
            "Elektra King\n",
            "Paloma\n",
            "Jinx\n",
            "Current James Bond: Daniel Craig and his weapon: Golden gun\n",
            "===========2===========\n",
            "Call 007!\n",
            "Sean Connery\n",
            "Walther PPK\n",
            "New bond girl(s) added\n",
            "[]\n",
            "Total James Bond(s): 3\n",
            "Bond girls:\n",
            "Madeleine Swann\n",
            "Current James Bond: Sean Connery and his weapon: Walther PPK\n"
          ]
        }
      ]
    }
  ]
}