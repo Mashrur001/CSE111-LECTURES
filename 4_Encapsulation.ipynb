{
  "nbformat": 4,
  "nbformat_minor": 0,
  "metadata": {
    "colab": {
      "provenance": [],
      "include_colab_link": true
    },
    "kernelspec": {
      "name": "python3",
      "display_name": "Python 3"
    },
    "language_info": {
      "name": "python"
    }
  },
  "cells": [
    {
      "cell_type": "markdown",
      "metadata": {
        "id": "view-in-github",
        "colab_type": "text"
      },
      "source": [
        "<a href=\"https://colab.research.google.com/github/Mashrur001/CSE111-LECTURES/blob/main/4_Encapsulation.ipynb\" target=\"_parent\"><img src=\"https://colab.research.google.com/assets/colab-badge.svg\" alt=\"Open In Colab\"/></a>"
      ]
    },
    {
      "cell_type": "markdown",
      "source": [
        "# Topics to cover\n",
        "1. Access Modifier\n",
        "  *   **Public**\n",
        "  *   **Protected**\n",
        "  *   **Private**\n",
        "\n",
        "2. Name Mangling\n",
        "3. Encapsulation\n",
        "  * Necessity\n",
        "  * How to Access Private Attributes"
      ],
      "metadata": {
        "id": "TyiapHSIQDpc"
      }
    },
    {
      "cell_type": "markdown",
      "source": [
        "# Access Modifier"
      ],
      "metadata": {
        "id": "6AHFHOsCVDA0"
      }
    },
    {
      "cell_type": "markdown",
      "source": [
        "**Public:** Public attributes (generally methods declared in a class) are accessible from outside the class."
      ],
      "metadata": {
        "id": "XyFS0tcVRo0W"
      }
    },
    {
      "cell_type": "code",
      "execution_count": null,
      "metadata": {
        "colab": {
          "base_uri": "https://localhost:8080/"
        },
        "id": "KLzul5pMP-zw",
        "outputId": "a5b2f4ce-8a31-4198-a797-8218e9ac38e3"
      },
      "outputs": [
        {
          "output_type": "stream",
          "name": "stdout",
          "text": [
            "10\n",
            "Method A of Class A Executed: 10\n",
            "10\n",
            "Method A of Class A Executed: 10\n",
            "['__class__', '__delattr__', '__dict__', '__dir__', '__doc__', '__eq__', '__format__', '__ge__', '__getattribute__', '__gt__', '__hash__', '__init__', '__init_subclass__', '__le__', '__lt__', '__module__', '__ne__', '__new__', '__reduce__', '__reduce_ex__', '__repr__', '__setattr__', '__sizeof__', '__str__', '__subclasshook__', '__weakref__', 'methodA', 'x']\n",
            "['__class__', '__delattr__', '__dict__', '__dir__', '__doc__', '__eq__', '__format__', '__ge__', '__getattribute__', '__gt__', '__hash__', '__init__', '__init_subclass__', '__le__', '__lt__', '__module__', '__ne__', '__new__', '__reduce__', '__reduce_ex__', '__repr__', '__setattr__', '__sizeof__', '__str__', '__subclasshook__', '__weakref__', 'methodA', 'x']\n"
          ]
        }
      ],
      "source": [
        "class A:\n",
        "  def __init__(self):\n",
        "    self.x= 10\n",
        "\n",
        "  def methodA(self):\n",
        "    print(\"Method A of Class A Executed:\", self.x)\n",
        "\n",
        "class B(A):\n",
        "  pass\n",
        "\n",
        "a= A()\n",
        "print(a.x) #Accessing attrubutes outside the class\n",
        "a.methodA() #Accessing attrubutes outside the class\n",
        "b= B()\n",
        "print(b.x)\n",
        "b.methodA() #Accessing attrubutes inside a sub-class\n",
        "\n",
        "print(dir(a))\n",
        "print(dir(b))"
      ]
    },
    {
      "cell_type": "markdown",
      "source": [
        "**Protected:** Protected members of a class are accessible from within the class and are also available to its sub-classes. No other environment is permitted access to it."
      ],
      "metadata": {
        "id": "fbnEYhI-Ruf4"
      }
    },
    {
      "cell_type": "code",
      "source": [
        "class A:\n",
        "  def __init__(self):\n",
        "    self._x= 10\n",
        "    _=5\n",
        "    print(_)\n",
        "\n",
        "  def _methodA(self):\n",
        "    print(\"Method A of Class A Executed:\", self._x)\n",
        "\n",
        "class B(A):\n",
        "  pass\n",
        "\n",
        "a= A()\n",
        "print(a._x) #Accessing attrubutes outside the class\n",
        "a._methodA() #Accessing attrubutes outside the class\n",
        "b= B()\n",
        "print(b._x) #Accessing attrubutes outside the class\n",
        "b._methodA() #Accessing attrubutes inside a sub-class\n",
        "\n",
        "# print(dir(a))\n",
        "# print(dir(b))"
      ],
      "metadata": {
        "colab": {
          "base_uri": "https://localhost:8080/"
        },
        "id": "aDm_c0GeRvSg",
        "outputId": "f0ce561f-2956-4eab-a7a4-ee1eefc7c800"
      },
      "execution_count": null,
      "outputs": [
        {
          "output_type": "stream",
          "name": "stdout",
          "text": [
            "5\n",
            "10\n",
            "Method A of Class A Executed: 10\n",
            "5\n",
            "10\n",
            "Method A of Class A Executed: 10\n"
          ]
        }
      ]
    },
    {
      "cell_type": "markdown",
      "source": [
        "**Private:** Private members of a class are denied access from the environment outside the class. They can be handled only from within the class.\n",
        "\n",
        "Private members are similar to protected members, the difference is that the class members declared private should neither be accessed outside the class nor by any base class."
      ],
      "metadata": {
        "id": "B8bXl_ISRxcd"
      }
    },
    {
      "cell_type": "code",
      "source": [
        "class A:\n",
        "  def __init__(self):\n",
        "    self.__x= 10\n",
        "\n",
        "  def __methodA(self):\n",
        "    print(\"Method A of Class A Executed:\", self.__x)\n",
        "\n",
        "class B(A):\n",
        "  pass\n",
        "\n",
        "a= A()\n",
        "print(a._A__x) #Accessing attrubutes outside the class\n",
        "a._A__methodA() #Accessing attrubutes outside the class\n",
        "b= B()\n",
        "# print(b.__x) #Accessing attrubutes outside the class\n",
        "# b.__methodA() #Accessing attrubutes inside a sub-class\n",
        "\n",
        "print(dir(a))\n",
        "# print(dir(b))"
      ],
      "metadata": {
        "id": "GDuc0UxZR0ZT",
        "colab": {
          "base_uri": "https://localhost:8080/"
        },
        "outputId": "0b7ef57f-2bee-4e88-e38e-d0dc3c330cb2"
      },
      "execution_count": null,
      "outputs": [
        {
          "output_type": "stream",
          "name": "stdout",
          "text": [
            "10\n",
            "Method A of Class A Executed: 10\n",
            "['_A__methodA', '_A__x', '__class__', '__delattr__', '__dict__', '__dir__', '__doc__', '__eq__', '__format__', '__ge__', '__getattribute__', '__gt__', '__hash__', '__init__', '__init_subclass__', '__le__', '__lt__', '__module__', '__ne__', '__new__', '__reduce__', '__reduce_ex__', '__repr__', '__setattr__', '__sizeof__', '__str__', '__subclasshook__', '__weakref__']\n"
          ]
        }
      ]
    },
    {
      "cell_type": "markdown",
      "source": [
        "![picture](https://drive.google.com/uc?export=view&id=1WvmLgS70XxHajpqMJJHUoEQM8_ZixhKW)"
      ],
      "metadata": {
        "id": "7H3IMzzYWBcd"
      }
    },
    {
      "cell_type": "markdown",
      "source": [
        "# Name Mangling\n",
        "For private variables python renames them as: _ClassNameVariableName.\n",
        "This is called name mangling\n",
        "\n",
        "**Using name mangling, private variables can be accessible outside the class.**"
      ],
      "metadata": {
        "id": "07IW3f8taCY5"
      }
    },
    {
      "cell_type": "code",
      "source": [
        "class A:\n",
        "  def __init__(self,a,b):\n",
        "    self.__x= a\n",
        "    self.x= b\n",
        "\n",
        "  def __methodA(self):\n",
        "    print(\"Private Method A Executed:\", self.__x)\n",
        "\n",
        "  def _methodA(self):\n",
        "    print(\"Protected Method A Executed\")\n",
        "\n",
        "  def methodA(self):\n",
        "    print(\"Public Method A Executed\")\n",
        "\n",
        "  def methodA(self, name=\"Mofiz\"):\n",
        "    self.x=name\n",
        "    print(self.x)\n",
        "\n",
        "\n",
        "a= A(10, \"Kuddus\")\n",
        "print(a._A__x) #Accessing attrubutes outside the class\n",
        "a._A__methodA() #Accessing attrubutes outside the class using name mangling\n",
        "a._methodA()\n",
        "a.methodA()\n",
        "a.x=\"Abdul\"\n",
        "print(a.x)\n",
        "a.__methodA()\n",
        "a.__x=20"
      ],
      "metadata": {
        "colab": {
          "base_uri": "https://localhost:8080/",
          "height": 304
        },
        "id": "234wYQ8NaYkl",
        "outputId": "c729b148-06ec-4535-f6dc-50c71a3bd9c6"
      },
      "execution_count": null,
      "outputs": [
        {
          "output_type": "stream",
          "name": "stdout",
          "text": [
            "10\n",
            "Private Method A Executed: 10\n",
            "Protected Method A Executed\n",
            "Mofiz\n",
            "Abdul\n"
          ]
        },
        {
          "output_type": "error",
          "ename": "AttributeError",
          "evalue": "ignored",
          "traceback": [
            "\u001b[0;31m---------------------------------------------------------------------------\u001b[0m",
            "\u001b[0;31mAttributeError\u001b[0m                            Traceback (most recent call last)",
            "\u001b[0;32m<ipython-input-7-3ed12a1aebf7>\u001b[0m in \u001b[0;36m<module>\u001b[0;34m\u001b[0m\n\u001b[1;32m     25\u001b[0m \u001b[0ma\u001b[0m\u001b[0;34m.\u001b[0m\u001b[0mx\u001b[0m\u001b[0;34m=\u001b[0m\u001b[0;34m\"Abdul\"\u001b[0m\u001b[0;34m\u001b[0m\u001b[0;34m\u001b[0m\u001b[0m\n\u001b[1;32m     26\u001b[0m \u001b[0mprint\u001b[0m\u001b[0;34m(\u001b[0m\u001b[0ma\u001b[0m\u001b[0;34m.\u001b[0m\u001b[0mx\u001b[0m\u001b[0;34m)\u001b[0m\u001b[0;34m\u001b[0m\u001b[0;34m\u001b[0m\u001b[0m\n\u001b[0;32m---> 27\u001b[0;31m \u001b[0ma\u001b[0m\u001b[0;34m.\u001b[0m\u001b[0m__methodA\u001b[0m\u001b[0;34m(\u001b[0m\u001b[0;34m)\u001b[0m\u001b[0;34m\u001b[0m\u001b[0;34m\u001b[0m\u001b[0m\n\u001b[0m\u001b[1;32m     28\u001b[0m \u001b[0ma\u001b[0m\u001b[0;34m.\u001b[0m\u001b[0m__x\u001b[0m\u001b[0;34m=\u001b[0m\u001b[0;36m20\u001b[0m\u001b[0;34m\u001b[0m\u001b[0;34m\u001b[0m\u001b[0m\n",
            "\u001b[0;31mAttributeError\u001b[0m: 'A' object has no attribute '__methodA'"
          ]
        }
      ]
    },
    {
      "cell_type": "markdown",
      "source": [
        "![picture](https://drive.google.com/uc?export=view&id=1rd8ausqnYkhWr18HggQlcaBThILSJse-)"
      ],
      "metadata": {
        "id": "CzRkaOB9dCxZ"
      }
    },
    {
      "cell_type": "markdown",
      "source": [
        "# Encapsulation\n",
        "The idea of wrapping data and the methods and putting restrictions on accessing variables and methods directly and can prevent the accidental modification of data."
      ],
      "metadata": {
        "id": "uOubSQ2RVAor"
      }
    },
    {
      "cell_type": "markdown",
      "source": [
        "**How to access private variables outside of the class?**\n",
        "\n",
        "Answer: Use a getter method that returns that private variable"
      ],
      "metadata": {
        "id": "YoQeeHgWdwYS"
      }
    },
    {
      "cell_type": "code",
      "source": [
        "class A:\n",
        "\n",
        "  def __init__(self):\n",
        "    self.__x= 10\n",
        "\n",
        "  def get__x(self):\n",
        "    return self.__x\n",
        "\n",
        "class B(A):\n",
        "  pass\n",
        "\n",
        "a= A()\n",
        "print(a.get__x()) #Accessing attrubutes outside the class\n",
        "# a._methodA() #Accessing attrubutes outside the class\n",
        "b= B()\n",
        "print(b.get__x()) #Accessing attrubutes outside the class\n",
        "# b.__methodA() #Accessing attrubutes inside a sub-class\n",
        "\n",
        "# print(dir(a))\n",
        "# print(dir(b))"
      ],
      "metadata": {
        "colab": {
          "base_uri": "https://localhost:8080/"
        },
        "id": "YJj8IxH3XVma",
        "outputId": "8dca0132-0ead-4470-acdc-ab39dfc99780"
      },
      "execution_count": null,
      "outputs": [
        {
          "output_type": "stream",
          "name": "stdout",
          "text": [
            "10\n",
            "10\n"
          ]
        }
      ]
    },
    {
      "cell_type": "markdown",
      "source": [
        "# Advanced Problems"
      ],
      "metadata": {
        "id": "TtOomN7be7gY"
      }
    },
    {
      "cell_type": "markdown",
      "source": [
        "#Task 1\n",
        "Given the following classes, write the code for the BBA_Student class so that the following output is printed:<br>\n",
        "**Output:**<br>\n",
        "Name: default Department: BBA<br>\n",
        "Name: Humpty Dumpty Department: BBA<br>\n",
        "Name: Little Bo Peep Department: BBA"
      ],
      "metadata": {
        "id": "KcdXuAmzfW10"
      }
    },
    {
      "cell_type": "code",
      "source": [
        "class Student:\n",
        "  def __init__(self, name='Just a student', dept='nothing'):\n",
        "    self.__name = name\n",
        "    self.__department = dept\n",
        "  def set_department(self, dept):\n",
        "    self.__department = dept\n",
        "  def get_name(self):\n",
        "    return self.__name\n",
        "  def set_name(self,name):\n",
        "    self.__name = name\n",
        "  def __str__(self):\n",
        "    return 'Name: '+self.__name+' Department: '+self.__department\n",
        "#write your code here\n",
        "print(BBA_Student())\n",
        "print(BBA_Student('Humpty Dumpty'))\n",
        "print(BBA_Student('Little Bo Peep'))"
      ],
      "metadata": {
        "id": "asifI5BHfAbz"
      },
      "execution_count": null,
      "outputs": []
    },
    {
      "cell_type": "code",
      "source": [
        "#Task 1 Solution\n",
        "class Student:\n",
        "  def __init__(self, name='Just a student', dept='nothing'):\n",
        "    self.__name = name\n",
        "    self.__department = dept\n",
        "  def set_department(self, dept):\n",
        "    self.__department = dept\n",
        "  def get_name(self):\n",
        "    return self.__name\n",
        "  def set_name(self,name):\n",
        "    self.__name = name\n",
        "  def __str__(self):\n",
        "    return 'Name: '+self.__name+' Department: '+self.__department\n",
        "\n",
        "#write your code here\n",
        "class BBA_Student(Student):\n",
        "  def __init__(self,name='default', dept=\"BBA\"):\n",
        "    super().__init__(name,dept)\n",
        "    super().__str__()\n",
        "print(BBA_Student())\n",
        "print(BBA_Student('Humpty Dumpty'))\n",
        "print(BBA_Student('Little Bo Peep'))"
      ],
      "metadata": {
        "colab": {
          "base_uri": "https://localhost:8080/"
        },
        "id": "i4tQH0bBg840",
        "outputId": "c9a85a84-256d-430b-8dfe-b7bba943f8de"
      },
      "execution_count": null,
      "outputs": [
        {
          "output_type": "stream",
          "name": "stdout",
          "text": [
            "Name: default Department: BBA\n",
            "Name: Humpty Dumpty Department: BBA\n",
            "Name: Little Bo Peep Department: BBA\n"
          ]
        }
      ]
    },
    {
      "cell_type": "markdown",
      "source": [
        "#Task 2\n",
        "Given the following classes, write the code for the Cricket_Tournament and the Tennis_Tournment class so that the following output is printed.:<br>\n",
        "**Output:**<br>\n",
        "Cricket Tournament Name: Default<br>\n",
        "Number of Teams: 0<br>\n",
        "Type: No type<br>\n",
        "-----------------------<br>\n",
        "Cricket Tournament Name: IPL<br>\n",
        "Number of Teams: 10<br>\n",
        "Type: t20<br>\n",
        "-----------------------<br>\n",
        "Tennis Tournament Name: Roland Garros<br>\n",
        "Number of Players: 128<br>"
      ],
      "metadata": {
        "id": "InXDkczEgNP4"
      }
    },
    {
      "cell_type": "code",
      "source": [
        "class Tournament:\n",
        "  def __init__(self,name='Default'):\n",
        "    self.__name = name\n",
        "  def set_name(self,name):\n",
        "    self.__name = name\n",
        "  def get_name(self):\n",
        "    return self.__name\n",
        "\n",
        "#write your code here\n",
        "ct1 = Cricket_Tournament()\n",
        "print(ct1.detail())\n",
        "print(\"-----------------------\")\n",
        "ct2 = Cricket_Tournament(\"IPL\",10,\"t20\")\n",
        "print(ct2.detail())\n",
        "print(\"-----------------------\")\n",
        "tt = Tennis_Tournament(\"Roland Garros\",128)\n",
        "print(tt.detail())"
      ],
      "metadata": {
        "id": "z43otozZg2sm"
      },
      "execution_count": null,
      "outputs": []
    },
    {
      "cell_type": "code",
      "source": [
        "#Task 2 Solution\n",
        "class Tournament:\n",
        "  def __init__(self,name='Default'):\n",
        "    self.__name = name\n",
        "  def set_name(self,name):\n",
        "    self.__name = name\n",
        "  def get_name(self):\n",
        "    return self.__name\n",
        "\n",
        "#write your code here\n",
        "class Cricket_Tournament(Tournament):\n",
        "  def __init__(self,name=\"Default\",teams=0,Type=\"No type\"):\n",
        "    super().__init__(name)\n",
        "    self.teams=teams\n",
        "    self.Type=Type\n",
        "\n",
        "  def detail(self):\n",
        "    return f\"Cricket Tournament Name: {super().get_name()}\\nNumber of Teams: {self.teams}\\nType: {self.Type}\"\n",
        "\n",
        "class Tennis_Tournament(Tournament):\n",
        "  def __init__(self,name,teams=0,Type=\"No type\"):\n",
        "    super().__init__(name)\n",
        "    self.teams=teams\n",
        "    self.Type=Type\n",
        "\n",
        "  def detail(self):\n",
        "    return f\"Tennis Tournament Name: {super().get_name()}\\nNumber of Teams: {self.teams}\"\n",
        "\n",
        "ct1 = Cricket_Tournament()\n",
        "print(ct1.detail())\n",
        "print(\"-----------------------\")\n",
        "ct2 = Cricket_Tournament(\"IPL\",10,\"t20\")\n",
        "print(ct2.detail())\n",
        "print(\"-----------------------\")\n",
        "tt = Tennis_Tournament(\"Roland Garros\",128)\n",
        "print(tt.detail())"
      ],
      "metadata": {
        "colab": {
          "base_uri": "https://localhost:8080/"
        },
        "id": "C_EPbXscidJq",
        "outputId": "eec3785e-f6e1-4a60-f2d5-f4f4b7c2d22b"
      },
      "execution_count": null,
      "outputs": [
        {
          "output_type": "stream",
          "name": "stdout",
          "text": [
            "Cricket Tournament Name: Default\n",
            "Number of Teams: 0\n",
            "Type: No type\n",
            "-----------------------\n",
            "Cricket Tournament Name: IPL\n",
            "Number of Teams: 10\n",
            "Type: t20\n",
            "-----------------------\n",
            "Tennis Tournament Name: Roland Garros\n",
            "Number of Teams: 128\n"
          ]
        }
      ]
    },
    {
      "cell_type": "markdown",
      "source": [
        "#Task 3\n",
        "Given the following classes, write the code for the Dog and the Cat class so that the following output is printed.\n",
        "\n",
        "**OUTPUT:**<br>\n",
        "Animal does not make sound<br>\n",
        "meow<br>\n",
        "bark"
      ],
      "metadata": {
        "id": "uwCxUt4ilokk"
      }
    },
    {
      "cell_type": "code",
      "source": [
        "class Animal:\n",
        "  def __init__(self,sound):\n",
        "    self.__sound = sound\n",
        "  def makeSound(self):\n",
        "    return self.__sound\n",
        "\n",
        "class Printer:\n",
        "  def printSound(self, a):\n",
        "    print(a.makeSound())\n",
        "\n",
        "#write your code here\n",
        "d1 = Dog('bark')\n",
        "c1 = Cat('meow')\n",
        "a1 = Animal('Animal does not make sound')\n",
        "pr = Printer()\n",
        "pr.printSound(a1)\n",
        "pr.printSound(c1)\n",
        "pr.printSound(d1)"
      ],
      "metadata": {
        "id": "RpGnMt2Uly7N"
      },
      "execution_count": null,
      "outputs": []
    },
    {
      "cell_type": "markdown",
      "source": [
        "#Task 4\n",
        "Given the following classes, write the code for the Player and the Manager class so that the following output is printed. To calculate the match earning use the following formula:\n",
        "1. Player: (total_goal * 1000) + (total_match * 10)\n",
        "2. Manager: match_win * 1000\n",
        "\n",
        "**OUTPUT:**<br>\n",
        "Name: Ronaldo, Team Name: Juventus<br>\n",
        "Team Role: Striker<br>\n",
        "Total Goal: 25, Total Played: 32<br>\n",
        "Goal Ratio: 0.78125<br>\n",
        "Match Earning: 25320K<br>\n",
        "----------------------------------<br>\n",
        "Name: Zidane, Team Name: Real Madrid<br>\n",
        "Team Role: Manager<br>\n",
        "Total Win: 25<br>\n",
        "Match Earning: 25000K"
      ],
      "metadata": {
        "id": "SicZDbzal-Tn"
      }
    },
    {
      "cell_type": "code",
      "source": [
        "class Football:\n",
        "  def __init__(self, team_name, name, role):\n",
        "    self.__team = team_name\n",
        "    self.__name = name\n",
        "    self.role = role\n",
        "    self.earning_per_match = 0\n",
        "\n",
        "  def get_name_team(self):\n",
        "    return 'Name: '+self.__name+', Team Name: ' +self.__team\n",
        "\n",
        "#write your code here\n",
        "player_one = Player('Juventus', 'Ronaldo', 'Striker', 25, 32)\n",
        "player_one.calculate_ratio()\n",
        "player_one.print_details()\n",
        "print('------------------------------------------')\n",
        "manager_one = Manager('Real Madrid',"
      ],
      "metadata": {
        "id": "zkijbHu0mKqp",
        "colab": {
          "base_uri": "https://localhost:8080/",
          "height": 130
        },
        "outputId": "f022f92b-f7d4-45fd-8149-8daa3f09e78a"
      },
      "execution_count": null,
      "outputs": [
        {
          "output_type": "error",
          "ename": "SyntaxError",
          "evalue": "ignored",
          "traceback": [
            "\u001b[0;36m  File \u001b[0;32m\"<ipython-input-1-35d778d707af>\"\u001b[0;36m, line \u001b[0;32m16\u001b[0m\n\u001b[0;31m    manager_one = Manager('Real Madrid',\u001b[0m\n\u001b[0m                                        ^\u001b[0m\n\u001b[0;31mSyntaxError\u001b[0m\u001b[0;31m:\u001b[0m unexpected EOF while parsing\n"
          ]
        }
      ]
    }
  ]
}